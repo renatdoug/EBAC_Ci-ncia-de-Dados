{
 "cells": [
  {
   "cell_type": "markdown",
   "metadata": {},
   "source": [
    "# Livro para consulta:\n",
    "- https://jakevdp.github.io/PythonDataScienceHandbook/03.08-aggregation-and-grouping.html\n",
    "- https://jakevdp.github.io/PythonDataScienceHandbook/03.09-pivot-tables.html\n",
    "    "
   ]
  },
  {
   "cell_type": "markdown",
   "metadata": {},
   "source": [
    "# 1. Importando bibliotecas <a name=\"import\"></a>\n",
    "\n",
    "<div style=\"text-align: right\"\n",
    "     \n",
    "[Voltar ao índice](#Contents)"
   ]
  },
  {
   "cell_type": "code",
   "execution_count": 1,
   "metadata": {
    "ExecuteTime": {
     "end_time": "2021-06-06T21:12:37.298706Z",
     "start_time": "2021-06-06T21:12:36.656481Z"
    }
   },
   "outputs": [],
   "source": [
    "import numpy as np\n",
    "import pandas as pd\n",
    "import seaborn as sns\n",
    "import matplotlib.pyplot as plt\n",
    "\n",
    "%matplotlib inline"
   ]
  },
  {
   "cell_type": "code",
   "execution_count": null,
   "metadata": {},
   "outputs": [],
   "source": []
  },
  {
   "cell_type": "markdown",
   "metadata": {},
   "source": [
    "# 2. Carregando o dataframe SINASC <a name=\"read\"></a>\n",
    "<div style=\"text-align: right\"\n",
    "     \n",
    "[Voltar ao índice](#Contents)"
   ]
  },
  {
   "cell_type": "code",
   "execution_count": 2,
   "metadata": {
    "ExecuteTime": {
     "end_time": "2021-06-06T21:12:37.762376Z",
     "start_time": "2021-06-06T21:12:37.728383Z"
    },
    "scrolled": true
   },
   "outputs": [
    {
     "data": {
      "text/html": [
       "<div>\n",
       "<style scoped>\n",
       "    .dataframe tbody tr th:only-of-type {\n",
       "        vertical-align: middle;\n",
       "    }\n",
       "\n",
       "    .dataframe tbody tr th {\n",
       "        vertical-align: top;\n",
       "    }\n",
       "\n",
       "    .dataframe thead th {\n",
       "        text-align: right;\n",
       "    }\n",
       "</style>\n",
       "<table border=\"1\" class=\"dataframe\">\n",
       "  <thead>\n",
       "    <tr style=\"text-align: right;\">\n",
       "      <th></th>\n",
       "      <th>ORIGEM</th>\n",
       "      <th>CODESTAB</th>\n",
       "      <th>CODMUNNASC</th>\n",
       "      <th>LOCNASC</th>\n",
       "      <th>IDADEMAE</th>\n",
       "      <th>ESTCIVMAE</th>\n",
       "      <th>ESCMAE</th>\n",
       "      <th>CODOCUPMAE</th>\n",
       "      <th>QTDFILVIVO</th>\n",
       "      <th>QTDFILMORT</th>\n",
       "      <th>...</th>\n",
       "      <th>KOTELCHUCK</th>\n",
       "      <th>CONTADOR</th>\n",
       "      <th>munResStatus</th>\n",
       "      <th>munResTipo</th>\n",
       "      <th>munResNome</th>\n",
       "      <th>munResUf</th>\n",
       "      <th>munResLat</th>\n",
       "      <th>munResLon</th>\n",
       "      <th>munResAlt</th>\n",
       "      <th>munResArea</th>\n",
       "    </tr>\n",
       "  </thead>\n",
       "  <tbody>\n",
       "    <tr>\n",
       "      <th>0</th>\n",
       "      <td>1</td>\n",
       "      <td>2679477.0</td>\n",
       "      <td>110001</td>\n",
       "      <td>1</td>\n",
       "      <td>19</td>\n",
       "      <td>5.0</td>\n",
       "      <td>8 a 11 anos</td>\n",
       "      <td>NaN</td>\n",
       "      <td>0.0</td>\n",
       "      <td>0.0</td>\n",
       "      <td>...</td>\n",
       "      <td>5</td>\n",
       "      <td>1</td>\n",
       "      <td>ATIVO</td>\n",
       "      <td>MUNIC</td>\n",
       "      <td>Alta Floresta D'Oeste</td>\n",
       "      <td>Rondônia</td>\n",
       "      <td>-11.93554</td>\n",
       "      <td>-61.99982</td>\n",
       "      <td>338.0</td>\n",
       "      <td>7067.025</td>\n",
       "    </tr>\n",
       "    <tr>\n",
       "      <th>1</th>\n",
       "      <td>1</td>\n",
       "      <td>2679477.0</td>\n",
       "      <td>110001</td>\n",
       "      <td>1</td>\n",
       "      <td>29</td>\n",
       "      <td>2.0</td>\n",
       "      <td>8 a 11 anos</td>\n",
       "      <td>999992.0</td>\n",
       "      <td>1.0</td>\n",
       "      <td>0.0</td>\n",
       "      <td>...</td>\n",
       "      <td>5</td>\n",
       "      <td>2</td>\n",
       "      <td>ATIVO</td>\n",
       "      <td>MUNIC</td>\n",
       "      <td>Alta Floresta D'Oeste</td>\n",
       "      <td>Rondônia</td>\n",
       "      <td>-11.93554</td>\n",
       "      <td>-61.99982</td>\n",
       "      <td>338.0</td>\n",
       "      <td>7067.025</td>\n",
       "    </tr>\n",
       "    <tr>\n",
       "      <th>2</th>\n",
       "      <td>1</td>\n",
       "      <td>2679477.0</td>\n",
       "      <td>110001</td>\n",
       "      <td>1</td>\n",
       "      <td>37</td>\n",
       "      <td>9.0</td>\n",
       "      <td>8 a 11 anos</td>\n",
       "      <td>513205.0</td>\n",
       "      <td>2.0</td>\n",
       "      <td>0.0</td>\n",
       "      <td>...</td>\n",
       "      <td>5</td>\n",
       "      <td>3</td>\n",
       "      <td>ATIVO</td>\n",
       "      <td>MUNIC</td>\n",
       "      <td>Alta Floresta D'Oeste</td>\n",
       "      <td>Rondônia</td>\n",
       "      <td>-11.93554</td>\n",
       "      <td>-61.99982</td>\n",
       "      <td>338.0</td>\n",
       "      <td>7067.025</td>\n",
       "    </tr>\n",
       "    <tr>\n",
       "      <th>3</th>\n",
       "      <td>1</td>\n",
       "      <td>2516500.0</td>\n",
       "      <td>110001</td>\n",
       "      <td>1</td>\n",
       "      <td>30</td>\n",
       "      <td>5.0</td>\n",
       "      <td>12 anos ou mais</td>\n",
       "      <td>231205.0</td>\n",
       "      <td>0.0</td>\n",
       "      <td>0.0</td>\n",
       "      <td>...</td>\n",
       "      <td>4</td>\n",
       "      <td>4</td>\n",
       "      <td>ATIVO</td>\n",
       "      <td>MUNIC</td>\n",
       "      <td>Alto Alegre dos Parecis</td>\n",
       "      <td>Rondônia</td>\n",
       "      <td>-12.13178</td>\n",
       "      <td>-61.85308</td>\n",
       "      <td>397.0</td>\n",
       "      <td>3958.273</td>\n",
       "    </tr>\n",
       "    <tr>\n",
       "      <th>4</th>\n",
       "      <td>1</td>\n",
       "      <td>2516500.0</td>\n",
       "      <td>110001</td>\n",
       "      <td>1</td>\n",
       "      <td>30</td>\n",
       "      <td>2.0</td>\n",
       "      <td>8 a 11 anos</td>\n",
       "      <td>999992.0</td>\n",
       "      <td>1.0</td>\n",
       "      <td>0.0</td>\n",
       "      <td>...</td>\n",
       "      <td>5</td>\n",
       "      <td>5</td>\n",
       "      <td>ATIVO</td>\n",
       "      <td>MUNIC</td>\n",
       "      <td>Alta Floresta D'Oeste</td>\n",
       "      <td>Rondônia</td>\n",
       "      <td>-11.93554</td>\n",
       "      <td>-61.99982</td>\n",
       "      <td>338.0</td>\n",
       "      <td>7067.025</td>\n",
       "    </tr>\n",
       "  </tbody>\n",
       "</table>\n",
       "<p>5 rows × 69 columns</p>\n",
       "</div>"
      ],
      "text/plain": [
       "   ORIGEM   CODESTAB  CODMUNNASC  LOCNASC  IDADEMAE  ESTCIVMAE  \\\n",
       "0       1  2679477.0      110001        1        19        5.0   \n",
       "1       1  2679477.0      110001        1        29        2.0   \n",
       "2       1  2679477.0      110001        1        37        9.0   \n",
       "3       1  2516500.0      110001        1        30        5.0   \n",
       "4       1  2516500.0      110001        1        30        2.0   \n",
       "\n",
       "            ESCMAE  CODOCUPMAE  QTDFILVIVO  QTDFILMORT  ...  KOTELCHUCK  \\\n",
       "0      8 a 11 anos         NaN         0.0         0.0  ...           5   \n",
       "1      8 a 11 anos    999992.0         1.0         0.0  ...           5   \n",
       "2      8 a 11 anos    513205.0         2.0         0.0  ...           5   \n",
       "3  12 anos ou mais    231205.0         0.0         0.0  ...           4   \n",
       "4      8 a 11 anos    999992.0         1.0         0.0  ...           5   \n",
       "\n",
       "  CONTADOR munResStatus munResTipo               munResNome  munResUf  \\\n",
       "0        1        ATIVO      MUNIC    Alta Floresta D'Oeste  Rondônia   \n",
       "1        2        ATIVO      MUNIC    Alta Floresta D'Oeste  Rondônia   \n",
       "2        3        ATIVO      MUNIC    Alta Floresta D'Oeste  Rondônia   \n",
       "3        4        ATIVO      MUNIC  Alto Alegre dos Parecis  Rondônia   \n",
       "4        5        ATIVO      MUNIC    Alta Floresta D'Oeste  Rondônia   \n",
       "\n",
       "   munResLat munResLon  munResAlt  munResArea  \n",
       "0  -11.93554 -61.99982      338.0    7067.025  \n",
       "1  -11.93554 -61.99982      338.0    7067.025  \n",
       "2  -11.93554 -61.99982      338.0    7067.025  \n",
       "3  -12.13178 -61.85308      397.0    3958.273  \n",
       "4  -11.93554 -61.99982      338.0    7067.025  \n",
       "\n",
       "[5 rows x 69 columns]"
      ]
     },
     "execution_count": 2,
     "metadata": {},
     "output_type": "execute_result"
    }
   ],
   "source": [
    "sinasc_raw = pd.read_csv('SINASC_RO_2019.csv')\n",
    "sinasc_raw.head()"
   ]
  },
  {
   "cell_type": "code",
   "execution_count": 14,
   "metadata": {},
   "outputs": [],
   "source": [
    "sinasc0 = sinasc_raw.select_dtypes(include=['int64','float64'])"
   ]
  },
  {
   "cell_type": "code",
   "execution_count": 16,
   "metadata": {},
   "outputs": [
    {
     "data": {
      "text/plain": [
       "Index(['ORIGEM', 'CODESTAB', 'CODMUNNASC', 'LOCNASC', 'IDADEMAE', 'ESTCIVMAE',\n",
       "       'CODOCUPMAE', 'QTDFILVIVO', 'QTDFILMORT', 'CODMUNRES', 'CONSULTAS',\n",
       "       'HORANASC', 'APGAR1', 'APGAR5', 'PESO', 'IDANOMAL', 'NUMEROLOTE',\n",
       "       'DIFDATA', 'DTRECORIGA', 'NATURALMAE', 'CODMUNNATU', 'CODUFNATU',\n",
       "       'ESCMAE2010', 'SERIESCMAE', 'DTNASCMAE', 'RACACORMAE', 'QTDGESTANT',\n",
       "       'QTDPARTNOR', 'QTDPARTCES', 'IDADEPAI', 'DTULTMENST', 'SEMAGESTAC',\n",
       "       'TPMETESTIM', 'CONSPRENAT', 'MESPRENAT', 'TPAPRESENT', 'STTRABPART',\n",
       "       'STCESPARTO', 'TPNASCASSI', 'TPFUNCRESP', 'TPDOCRESP', 'DTDECLARAC',\n",
       "       'ESCMAEAGR1', 'STDNEPIDEM', 'STDNNOVA', 'CODPAISRES', 'TPROBSON',\n",
       "       'PARIDADE', 'KOTELCHUCK', 'CONTADOR', 'munResLat', 'munResLon',\n",
       "       'munResAlt', 'munResArea'],\n",
       "      dtype='object')"
      ]
     },
     "execution_count": 16,
     "metadata": {},
     "output_type": "execute_result"
    }
   ],
   "source": [
    "sinasc0.columns"
   ]
  },
  {
   "cell_type": "code",
   "execution_count": 34,
   "metadata": {},
   "outputs": [
    {
     "data": {
      "text/plain": [
       "array([ 8., 10.,  6.,  7.,  9.,  5., 11.,  4.,  2.,  3., 13.,  1., 15.,\n",
       "       12., 40., 17., 18., 38., 14., 39., nan, 16., 37.,  0., 35., 41.,\n",
       "       36., 21., 20., 19., 99., 22., 23., 61.])"
      ]
     },
     "execution_count": 34,
     "metadata": {},
     "output_type": "execute_result"
    }
   ],
   "source": [
    "sinasc0.CONSPRENAT.unique()"
   ]
  },
  {
   "cell_type": "markdown",
   "metadata": {},
   "source": [
    "# Tarefa 2"
   ]
  },
  {
   "cell_type": "markdown",
   "metadata": {},
   "source": [
    "### 1. Crie 2 faixas de Latitude do município (munResLat) sendo uma acima e outra abaixo de -10.5 e aplique o groupby usando essas faixas como chave e realize operações de soma, media, minimo, maximo, mediana, desvio padrao, variancia pra pelo menos 2 variáveis numéricas ainda não utilizadas"
   ]
  },
  {
   "cell_type": "code",
   "execution_count": 24,
   "metadata": {},
   "outputs": [
    {
     "data": {
      "text/html": [
       "<div>\n",
       "<style scoped>\n",
       "    .dataframe tbody tr th:only-of-type {\n",
       "        vertical-align: middle;\n",
       "    }\n",
       "\n",
       "    .dataframe tbody tr th {\n",
       "        vertical-align: top;\n",
       "    }\n",
       "\n",
       "    .dataframe thead th {\n",
       "        text-align: right;\n",
       "    }\n",
       "</style>\n",
       "<table border=\"1\" class=\"dataframe\">\n",
       "  <thead>\n",
       "    <tr style=\"text-align: right;\">\n",
       "      <th></th>\n",
       "      <th>munResLat</th>\n",
       "    </tr>\n",
       "  </thead>\n",
       "  <tbody>\n",
       "    <tr>\n",
       "      <th>count</th>\n",
       "      <td>27027.000000</td>\n",
       "    </tr>\n",
       "    <tr>\n",
       "      <th>mean</th>\n",
       "      <td>-10.377988</td>\n",
       "    </tr>\n",
       "    <tr>\n",
       "      <th>std</th>\n",
       "      <td>1.372942</td>\n",
       "    </tr>\n",
       "    <tr>\n",
       "      <th>min</th>\n",
       "      <td>-13.499760</td>\n",
       "    </tr>\n",
       "    <tr>\n",
       "      <th>25%</th>\n",
       "      <td>-11.433870</td>\n",
       "    </tr>\n",
       "    <tr>\n",
       "      <th>50%</th>\n",
       "      <td>-10.435950</td>\n",
       "    </tr>\n",
       "    <tr>\n",
       "      <th>75%</th>\n",
       "      <td>-8.768890</td>\n",
       "    </tr>\n",
       "    <tr>\n",
       "      <th>max</th>\n",
       "      <td>-8.768890</td>\n",
       "    </tr>\n",
       "  </tbody>\n",
       "</table>\n",
       "</div>"
      ],
      "text/plain": [
       "          munResLat\n",
       "count  27027.000000\n",
       "mean     -10.377988\n",
       "std        1.372942\n",
       "min      -13.499760\n",
       "25%      -11.433870\n",
       "50%      -10.435950\n",
       "75%       -8.768890\n",
       "max       -8.768890"
      ]
     },
     "execution_count": 24,
     "metadata": {},
     "output_type": "execute_result"
    }
   ],
   "source": [
    "sinasc0.munResLat.describe().to_frame()"
   ]
  },
  {
   "cell_type": "code",
   "execution_count": 27,
   "metadata": {},
   "outputs": [],
   "source": [
    "sinasc1 = sinasc0.set_index('munResLat')\n",
    "latitude = pd.cut(sinasc0['munResLat'], [-13.49,-10.5,-8,76])"
   ]
  },
  {
   "cell_type": "code",
   "execution_count": 37,
   "metadata": {},
   "outputs": [
    {
     "name": "stderr",
     "output_type": "stream",
     "text": [
      "C:\\Users\\renat\\AppData\\Local\\Temp\\ipykernel_14628\\491922793.py:1: FutureWarning: Indexing with multiple keys (implicitly converted to a tuple of keys) will be deprecated, use a list instead.\n",
      "  sinasc0.groupby(latitude)['MESPRENAT', 'CONSPRENAT'].aggregate([sum,\n"
     ]
    },
    {
     "data": {
      "text/html": [
       "<div>\n",
       "<style scoped>\n",
       "    .dataframe tbody tr th:only-of-type {\n",
       "        vertical-align: middle;\n",
       "    }\n",
       "\n",
       "    .dataframe tbody tr th {\n",
       "        vertical-align: top;\n",
       "    }\n",
       "\n",
       "    .dataframe thead tr th {\n",
       "        text-align: left;\n",
       "    }\n",
       "\n",
       "    .dataframe thead tr:last-of-type th {\n",
       "        text-align: right;\n",
       "    }\n",
       "</style>\n",
       "<table border=\"1\" class=\"dataframe\">\n",
       "  <thead>\n",
       "    <tr>\n",
       "      <th></th>\n",
       "      <th colspan=\"7\" halign=\"left\">MESPRENAT</th>\n",
       "      <th colspan=\"7\" halign=\"left\">CONSPRENAT</th>\n",
       "    </tr>\n",
       "    <tr>\n",
       "      <th></th>\n",
       "      <th>sum</th>\n",
       "      <th>mean</th>\n",
       "      <th>min</th>\n",
       "      <th>max</th>\n",
       "      <th>median</th>\n",
       "      <th>std</th>\n",
       "      <th>var</th>\n",
       "      <th>sum</th>\n",
       "      <th>mean</th>\n",
       "      <th>min</th>\n",
       "      <th>max</th>\n",
       "      <th>median</th>\n",
       "      <th>std</th>\n",
       "      <th>var</th>\n",
       "    </tr>\n",
       "    <tr>\n",
       "      <th>munResLat</th>\n",
       "      <th></th>\n",
       "      <th></th>\n",
       "      <th></th>\n",
       "      <th></th>\n",
       "      <th></th>\n",
       "      <th></th>\n",
       "      <th></th>\n",
       "      <th></th>\n",
       "      <th></th>\n",
       "      <th></th>\n",
       "      <th></th>\n",
       "      <th></th>\n",
       "      <th></th>\n",
       "      <th></th>\n",
       "    </tr>\n",
       "  </thead>\n",
       "  <tbody>\n",
       "    <tr>\n",
       "      <th>(-13.49, -10.5]</th>\n",
       "      <td>93598.0</td>\n",
       "      <td>7.451477</td>\n",
       "      <td>1.0</td>\n",
       "      <td>99.0</td>\n",
       "      <td>2.0</td>\n",
       "      <td>21.388652</td>\n",
       "      <td>457.474417</td>\n",
       "      <td>109255.0</td>\n",
       "      <td>8.581134</td>\n",
       "      <td>0.0</td>\n",
       "      <td>99.0</td>\n",
       "      <td>8.0</td>\n",
       "      <td>4.246649</td>\n",
       "      <td>18.034026</td>\n",
       "    </tr>\n",
       "    <tr>\n",
       "      <th>(-10.5, -8.0]</th>\n",
       "      <td>102609.0</td>\n",
       "      <td>8.906258</td>\n",
       "      <td>1.0</td>\n",
       "      <td>99.0</td>\n",
       "      <td>2.0</td>\n",
       "      <td>24.040978</td>\n",
       "      <td>577.968642</td>\n",
       "      <td>105365.0</td>\n",
       "      <td>7.931125</td>\n",
       "      <td>0.0</td>\n",
       "      <td>99.0</td>\n",
       "      <td>8.0</td>\n",
       "      <td>5.863665</td>\n",
       "      <td>34.382564</td>\n",
       "    </tr>\n",
       "    <tr>\n",
       "      <th>(-8.0, 76.0]</th>\n",
       "      <td>0.0</td>\n",
       "      <td>NaN</td>\n",
       "      <td>NaN</td>\n",
       "      <td>NaN</td>\n",
       "      <td>NaN</td>\n",
       "      <td>NaN</td>\n",
       "      <td>NaN</td>\n",
       "      <td>0.0</td>\n",
       "      <td>NaN</td>\n",
       "      <td>NaN</td>\n",
       "      <td>NaN</td>\n",
       "      <td>NaN</td>\n",
       "      <td>NaN</td>\n",
       "      <td>NaN</td>\n",
       "    </tr>\n",
       "  </tbody>\n",
       "</table>\n",
       "</div>"
      ],
      "text/plain": [
       "                MESPRENAT                                                     \\\n",
       "                      sum      mean  min   max median        std         var   \n",
       "munResLat                                                                      \n",
       "(-13.49, -10.5]   93598.0  7.451477  1.0  99.0    2.0  21.388652  457.474417   \n",
       "(-10.5, -8.0]    102609.0  8.906258  1.0  99.0    2.0  24.040978  577.968642   \n",
       "(-8.0, 76.0]          0.0       NaN  NaN   NaN    NaN        NaN         NaN   \n",
       "\n",
       "                CONSPRENAT                                                   \n",
       "                       sum      mean  min   max median       std        var  \n",
       "munResLat                                                                    \n",
       "(-13.49, -10.5]   109255.0  8.581134  0.0  99.0    8.0  4.246649  18.034026  \n",
       "(-10.5, -8.0]     105365.0  7.931125  0.0  99.0    8.0  5.863665  34.382564  \n",
       "(-8.0, 76.0]           0.0       NaN  NaN   NaN    NaN       NaN        NaN  "
      ]
     },
     "execution_count": 37,
     "metadata": {},
     "output_type": "execute_result"
    }
   ],
   "source": [
    "sinasc0.groupby(latitude)['MESPRENAT', 'CONSPRENAT'].aggregate([sum, \n",
    "                    np.mean, min, max, np.median, 'std', 'var'])"
   ]
  },
  {
   "cell_type": "markdown",
   "metadata": {},
   "source": [
    "### 2. Crie 2 faixas da área dos municípios (munResArea) sendo uma acima e outra abaixo de 3000 e aplique o groupby usando essas faixas como chave e realize operações de soma, media, minimo, maximo, mediana, desvio padrao, variancia pra pelo menos 2 variáveis numéricas ainda não utilizadas\n"
   ]
  },
  {
   "cell_type": "code",
   "execution_count": 35,
   "metadata": {},
   "outputs": [
    {
     "data": {
      "text/html": [
       "<div>\n",
       "<style scoped>\n",
       "    .dataframe tbody tr th:only-of-type {\n",
       "        vertical-align: middle;\n",
       "    }\n",
       "\n",
       "    .dataframe tbody tr th {\n",
       "        vertical-align: top;\n",
       "    }\n",
       "\n",
       "    .dataframe thead th {\n",
       "        text-align: right;\n",
       "    }\n",
       "</style>\n",
       "<table border=\"1\" class=\"dataframe\">\n",
       "  <thead>\n",
       "    <tr style=\"text-align: right;\">\n",
       "      <th></th>\n",
       "      <th>munResArea</th>\n",
       "    </tr>\n",
       "  </thead>\n",
       "  <tbody>\n",
       "    <tr>\n",
       "      <th>count</th>\n",
       "      <td>27027.000000</td>\n",
       "    </tr>\n",
       "    <tr>\n",
       "      <th>mean</th>\n",
       "      <td>14702.799767</td>\n",
       "    </tr>\n",
       "    <tr>\n",
       "      <th>std</th>\n",
       "      <td>13706.177751</td>\n",
       "    </tr>\n",
       "    <tr>\n",
       "      <th>min</th>\n",
       "      <td>459.978000</td>\n",
       "    </tr>\n",
       "    <tr>\n",
       "      <th>25%</th>\n",
       "      <td>3792.998000</td>\n",
       "    </tr>\n",
       "    <tr>\n",
       "      <th>50%</th>\n",
       "      <td>6896.648000</td>\n",
       "    </tr>\n",
       "    <tr>\n",
       "      <th>75%</th>\n",
       "      <td>34096.394000</td>\n",
       "    </tr>\n",
       "    <tr>\n",
       "      <th>max</th>\n",
       "      <td>34096.394000</td>\n",
       "    </tr>\n",
       "  </tbody>\n",
       "</table>\n",
       "</div>"
      ],
      "text/plain": [
       "         munResArea\n",
       "count  27027.000000\n",
       "mean   14702.799767\n",
       "std    13706.177751\n",
       "min      459.978000\n",
       "25%     3792.998000\n",
       "50%     6896.648000\n",
       "75%    34096.394000\n",
       "max    34096.394000"
      ]
     },
     "execution_count": 35,
     "metadata": {},
     "output_type": "execute_result"
    }
   ],
   "source": [
    "sinasc0.munResArea.describe().to_frame()"
   ]
  },
  {
   "cell_type": "code",
   "execution_count": 38,
   "metadata": {},
   "outputs": [
    {
     "name": "stderr",
     "output_type": "stream",
     "text": [
      "C:\\Users\\renat\\AppData\\Local\\Temp\\ipykernel_14628\\2333361817.py:2: FutureWarning: Indexing with multiple keys (implicitly converted to a tuple of keys) will be deprecated, use a list instead.\n",
      "  sinasc0.groupby(areamunicipios)['STTRABPART', 'STCESPARTO'].aggregate([sum,\n"
     ]
    },
    {
     "data": {
      "text/html": [
       "<div>\n",
       "<style scoped>\n",
       "    .dataframe tbody tr th:only-of-type {\n",
       "        vertical-align: middle;\n",
       "    }\n",
       "\n",
       "    .dataframe tbody tr th {\n",
       "        vertical-align: top;\n",
       "    }\n",
       "\n",
       "    .dataframe thead tr th {\n",
       "        text-align: left;\n",
       "    }\n",
       "\n",
       "    .dataframe thead tr:last-of-type th {\n",
       "        text-align: right;\n",
       "    }\n",
       "</style>\n",
       "<table border=\"1\" class=\"dataframe\">\n",
       "  <thead>\n",
       "    <tr>\n",
       "      <th></th>\n",
       "      <th colspan=\"7\" halign=\"left\">STTRABPART</th>\n",
       "      <th colspan=\"7\" halign=\"left\">STCESPARTO</th>\n",
       "    </tr>\n",
       "    <tr>\n",
       "      <th></th>\n",
       "      <th>sum</th>\n",
       "      <th>mean</th>\n",
       "      <th>min</th>\n",
       "      <th>max</th>\n",
       "      <th>median</th>\n",
       "      <th>std</th>\n",
       "      <th>var</th>\n",
       "      <th>sum</th>\n",
       "      <th>mean</th>\n",
       "      <th>min</th>\n",
       "      <th>max</th>\n",
       "      <th>median</th>\n",
       "      <th>std</th>\n",
       "      <th>var</th>\n",
       "    </tr>\n",
       "    <tr>\n",
       "      <th>munResArea</th>\n",
       "      <th></th>\n",
       "      <th></th>\n",
       "      <th></th>\n",
       "      <th></th>\n",
       "      <th></th>\n",
       "      <th></th>\n",
       "      <th></th>\n",
       "      <th></th>\n",
       "      <th></th>\n",
       "      <th></th>\n",
       "      <th></th>\n",
       "      <th></th>\n",
       "      <th></th>\n",
       "      <th></th>\n",
       "    </tr>\n",
       "  </thead>\n",
       "  <tbody>\n",
       "    <tr>\n",
       "      <th>(1370, 3000]</th>\n",
       "      <td>8195.0</td>\n",
       "      <td>2.005629</td>\n",
       "      <td>1.0</td>\n",
       "      <td>9.0</td>\n",
       "      <td>2.0</td>\n",
       "      <td>0.556451</td>\n",
       "      <td>0.309638</td>\n",
       "      <td>8606.0</td>\n",
       "      <td>2.105701</td>\n",
       "      <td>1.0</td>\n",
       "      <td>9.0</td>\n",
       "      <td>2.0</td>\n",
       "      <td>1.130317</td>\n",
       "      <td>1.277616</td>\n",
       "    </tr>\n",
       "    <tr>\n",
       "      <th>(3000, 6896]</th>\n",
       "      <td>13329.0</td>\n",
       "      <td>1.969706</td>\n",
       "      <td>1.0</td>\n",
       "      <td>9.0</td>\n",
       "      <td>2.0</td>\n",
       "      <td>0.432016</td>\n",
       "      <td>0.186638</td>\n",
       "      <td>14295.0</td>\n",
       "      <td>2.107785</td>\n",
       "      <td>1.0</td>\n",
       "      <td>9.0</td>\n",
       "      <td>2.0</td>\n",
       "      <td>0.832730</td>\n",
       "      <td>0.693439</td>\n",
       "    </tr>\n",
       "  </tbody>\n",
       "</table>\n",
       "</div>"
      ],
      "text/plain": [
       "             STTRABPART                                                 \\\n",
       "                    sum      mean  min  max median       std       var   \n",
       "munResArea                                                               \n",
       "(1370, 3000]     8195.0  2.005629  1.0  9.0    2.0  0.556451  0.309638   \n",
       "(3000, 6896]    13329.0  1.969706  1.0  9.0    2.0  0.432016  0.186638   \n",
       "\n",
       "             STCESPARTO                                                 \n",
       "                    sum      mean  min  max median       std       var  \n",
       "munResArea                                                              \n",
       "(1370, 3000]     8606.0  2.105701  1.0  9.0    2.0  1.130317  1.277616  \n",
       "(3000, 6896]    14295.0  2.107785  1.0  9.0    2.0  0.832730  0.693439  "
      ]
     },
     "execution_count": 38,
     "metadata": {},
     "output_type": "execute_result"
    }
   ],
   "source": [
    "areamunicipios = pd.cut(sinasc0['munResArea'], [1370,3000,6896])\n",
    "sinasc0.groupby(areamunicipios)['STTRABPART', 'STCESPARTO'].aggregate([sum, \n",
    "                    np.mean, min, max, np.median, 'std', 'var'])"
   ]
  },
  {
   "cell_type": "markdown",
   "metadata": {},
   "source": [
    "### 3. Determine faixas na variável munResAlt e aplique o groupby usando essas faixas como chave e realize operações de soma, media, minimo, maximo, mediana, desvio padrao, variancia pra pelo menos 2 variáveis numéricas ainda não utilizadas"
   ]
  },
  {
   "cell_type": "code",
   "execution_count": 39,
   "metadata": {},
   "outputs": [
    {
     "data": {
      "text/html": [
       "<div>\n",
       "<style scoped>\n",
       "    .dataframe tbody tr th:only-of-type {\n",
       "        vertical-align: middle;\n",
       "    }\n",
       "\n",
       "    .dataframe tbody tr th {\n",
       "        vertical-align: top;\n",
       "    }\n",
       "\n",
       "    .dataframe thead th {\n",
       "        text-align: right;\n",
       "    }\n",
       "</style>\n",
       "<table border=\"1\" class=\"dataframe\">\n",
       "  <thead>\n",
       "    <tr style=\"text-align: right;\">\n",
       "      <th></th>\n",
       "      <th>munResAlt</th>\n",
       "    </tr>\n",
       "  </thead>\n",
       "  <tbody>\n",
       "    <tr>\n",
       "      <th>count</th>\n",
       "      <td>27027.000000</td>\n",
       "    </tr>\n",
       "    <tr>\n",
       "      <th>mean</th>\n",
       "      <td>179.111999</td>\n",
       "    </tr>\n",
       "    <tr>\n",
       "      <th>std</th>\n",
       "      <td>123.138365</td>\n",
       "    </tr>\n",
       "    <tr>\n",
       "      <th>min</th>\n",
       "      <td>85.000000</td>\n",
       "    </tr>\n",
       "    <tr>\n",
       "      <th>25%</th>\n",
       "      <td>87.000000</td>\n",
       "    </tr>\n",
       "    <tr>\n",
       "      <th>50%</th>\n",
       "      <td>153.000000</td>\n",
       "    </tr>\n",
       "    <tr>\n",
       "      <th>75%</th>\n",
       "      <td>191.000000</td>\n",
       "    </tr>\n",
       "    <tr>\n",
       "      <th>max</th>\n",
       "      <td>595.000000</td>\n",
       "    </tr>\n",
       "  </tbody>\n",
       "</table>\n",
       "</div>"
      ],
      "text/plain": [
       "          munResAlt\n",
       "count  27027.000000\n",
       "mean     179.111999\n",
       "std      123.138365\n",
       "min       85.000000\n",
       "25%       87.000000\n",
       "50%      153.000000\n",
       "75%      191.000000\n",
       "max      595.000000"
      ]
     },
     "execution_count": 39,
     "metadata": {},
     "output_type": "execute_result"
    }
   ],
   "source": [
    "sinasc0.munResAlt.describe().to_frame()"
   ]
  },
  {
   "cell_type": "code",
   "execution_count": 40,
   "metadata": {},
   "outputs": [
    {
     "name": "stderr",
     "output_type": "stream",
     "text": [
      "C:\\Users\\renat\\AppData\\Local\\Temp\\ipykernel_14628\\194371708.py:2: FutureWarning: Indexing with multiple keys (implicitly converted to a tuple of keys) will be deprecated, use a list instead.\n",
      "  sinasc0.groupby(altitude)['QTDPARTNOR', 'QTDPARTCES'].aggregate([sum,\n"
     ]
    },
    {
     "data": {
      "text/html": [
       "<div>\n",
       "<style scoped>\n",
       "    .dataframe tbody tr th:only-of-type {\n",
       "        vertical-align: middle;\n",
       "    }\n",
       "\n",
       "    .dataframe tbody tr th {\n",
       "        vertical-align: top;\n",
       "    }\n",
       "\n",
       "    .dataframe thead tr th {\n",
       "        text-align: left;\n",
       "    }\n",
       "\n",
       "    .dataframe thead tr:last-of-type th {\n",
       "        text-align: right;\n",
       "    }\n",
       "</style>\n",
       "<table border=\"1\" class=\"dataframe\">\n",
       "  <thead>\n",
       "    <tr>\n",
       "      <th></th>\n",
       "      <th colspan=\"7\" halign=\"left\">QTDPARTNOR</th>\n",
       "      <th colspan=\"7\" halign=\"left\">QTDPARTCES</th>\n",
       "    </tr>\n",
       "    <tr>\n",
       "      <th></th>\n",
       "      <th>sum</th>\n",
       "      <th>mean</th>\n",
       "      <th>min</th>\n",
       "      <th>max</th>\n",
       "      <th>median</th>\n",
       "      <th>std</th>\n",
       "      <th>var</th>\n",
       "      <th>sum</th>\n",
       "      <th>mean</th>\n",
       "      <th>min</th>\n",
       "      <th>max</th>\n",
       "      <th>median</th>\n",
       "      <th>std</th>\n",
       "      <th>var</th>\n",
       "    </tr>\n",
       "    <tr>\n",
       "      <th>munResAlt</th>\n",
       "      <th></th>\n",
       "      <th></th>\n",
       "      <th></th>\n",
       "      <th></th>\n",
       "      <th></th>\n",
       "      <th></th>\n",
       "      <th></th>\n",
       "      <th></th>\n",
       "      <th></th>\n",
       "      <th></th>\n",
       "      <th></th>\n",
       "      <th></th>\n",
       "      <th></th>\n",
       "      <th></th>\n",
       "    </tr>\n",
       "  </thead>\n",
       "  <tbody>\n",
       "    <tr>\n",
       "      <th>(87, 153]</th>\n",
       "      <td>3283.0</td>\n",
       "      <td>0.744107</td>\n",
       "      <td>0.0</td>\n",
       "      <td>14.0</td>\n",
       "      <td>0.0</td>\n",
       "      <td>1.330296</td>\n",
       "      <td>1.769689</td>\n",
       "      <td>2333.0</td>\n",
       "      <td>0.519368</td>\n",
       "      <td>0.0</td>\n",
       "      <td>4.0</td>\n",
       "      <td>0.0</td>\n",
       "      <td>0.736689</td>\n",
       "      <td>0.542711</td>\n",
       "    </tr>\n",
       "    <tr>\n",
       "      <th>(153, 191]</th>\n",
       "      <td>2915.0</td>\n",
       "      <td>0.423877</td>\n",
       "      <td>0.0</td>\n",
       "      <td>9.0</td>\n",
       "      <td>0.0</td>\n",
       "      <td>0.917432</td>\n",
       "      <td>0.841681</td>\n",
       "      <td>3563.0</td>\n",
       "      <td>0.517727</td>\n",
       "      <td>0.0</td>\n",
       "      <td>12.0</td>\n",
       "      <td>0.0</td>\n",
       "      <td>0.750559</td>\n",
       "      <td>0.563339</td>\n",
       "    </tr>\n",
       "  </tbody>\n",
       "</table>\n",
       "</div>"
      ],
      "text/plain": [
       "           QTDPARTNOR                                                  \\\n",
       "                  sum      mean  min   max median       std       var   \n",
       "munResAlt                                                               \n",
       "(87, 153]      3283.0  0.744107  0.0  14.0    0.0  1.330296  1.769689   \n",
       "(153, 191]     2915.0  0.423877  0.0   9.0    0.0  0.917432  0.841681   \n",
       "\n",
       "           QTDPARTCES                                                  \n",
       "                  sum      mean  min   max median       std       var  \n",
       "munResAlt                                                              \n",
       "(87, 153]      2333.0  0.519368  0.0   4.0    0.0  0.736689  0.542711  \n",
       "(153, 191]     3563.0  0.517727  0.0  12.0    0.0  0.750559  0.563339  "
      ]
     },
     "execution_count": 40,
     "metadata": {},
     "output_type": "execute_result"
    }
   ],
   "source": [
    "altitude = pd.cut(sinasc0['munResAlt'], [87,153,191])\n",
    "sinasc0.groupby(altitude)['QTDPARTNOR', 'QTDPARTCES'].aggregate([sum, \n",
    "                    np.mean, min, max, np.median, 'std', 'var'])"
   ]
  },
  {
   "cell_type": "markdown",
   "metadata": {},
   "source": [
    "### 4. Plote no mesmo grafico ao longo do tempo a idade media das mulheres de cada regiao imediatas de rondonia\n",
    "https://pt.wikipedia.org/wiki/Lista_de_regi%C3%B5es_geogr%C3%A1ficas_intermedi%C3%A1rias_e_imediatas_de_Rond%C3%B4nia"
   ]
  },
  {
   "cell_type": "code",
   "execution_count": 49,
   "metadata": {},
   "outputs": [],
   "source": [
    "imediatas = {\n",
    "    'Candeias do Jamari':'Porto Velho',\n",
    "    'Guajará-Mirim':'Porto Velho',\n",
    "    'Itapuã do Oeste':'Porto Velho',\n",
    "    'Nova Mamoré':'Porto Velho',\n",
    "    'Porto Velho':'Porto Velho',\n",
    "    'Ariquemes':'Ariquemes',\n",
    "    'Alto Paraíso':'Ariquemes',\n",
    "    'Buritis':'Ariquemes',\n",
    "    'Cacaulândia':'Ariquemes',\n",
    "    'Campo Novo de Rondônia':'Ariquemes',\n",
    "    'Cujubim':'Ariquemes',\n",
    "    'Monte Negro':'Ariquemes',\n",
    "    'Rio Crespo':'Ariquemes',\n",
    "    'Governador Jorge Teixeira':'Jaru',\n",
    "    'Jaru':'Jaru',\n",
    "    'Machadinho D Oeste':'Jaru',\n",
    "    'Theobroma':'Jaru',\n",
    "   ' Vale do Anari':'Jaru',\n",
    "    'Alvorada d Oeste':'Ji-Paraná',\n",
    "    'Costa Marques':'Ji-Paraná',\n",
    "    'Ji-Paraná':'Ji-Paraná',\n",
    "    'Mirante da Serra':'Ji-Paraná',\n",
    "    'Nova União':'Ji-Paraná',\n",
    "    'Ouro Preto do Oeste':'Ji-Paraná',\n",
    "    'Presidente Médici':'Ji-Paraná',\n",
    "    'São Francisco do Guaporé':'Ji-Paraná',\n",
    "    'São Miguel do Guaporé':'Ji-Paraná',\n",
    "    'Seringueiras':'Ji-Paraná',\n",
    "    'Teixeirópolis':'Ji-Paraná',\n",
    "    'Urupá':'Ji-Paraná',\n",
    "    'Vale do Paraíso':'Ji-Paraná',\n",
    "    'Alta Floresta d Oeste':'Cacoal',\n",
    "   ' Alto Alegre dos Parecis':'Cacoal',\n",
    "   ' Cacoal':'Cacoal',\n",
    "    'Castanheiras':'Cacoal',\n",
    "    'Espigão d Oeste':'Cacoal',\n",
    "    'Ministro Andreazza':'Cacoal',\n",
    "    'Nova Brasilândia d Oeste':'Cacoal',\n",
    "    'Novo Horizonte do Oeste':'Cacoal',\n",
    "    'Parecis':'Cacoal',\n",
    "    'Pimenta Bueno':'Cacoal',\n",
    "    'Primavera de Rondônia':'Cacoal',\n",
    "    'Rolim de Moura':'Cacoal',\n",
    "    'Santa Luzia d Oeste':'Cacoal',\n",
    "    'São Felipe d Oeste':'Cacoal',\n",
    "    'Cabixi':'Vilhena',\n",
    "    'Cerejeiras':'Vilhena',\n",
    "   ' Chupinguaia':'Vilhena',\n",
    "   ' Colorado do Oeste':'Vilhena',\n",
    "    'Corumbiara':'Vilhena',\n",
    "    'Pimenteiras do Oeste':'Vilhena',\n",
    "   ' Vilhena':'Vilhena'\n",
    "\n",
    "}"
   ]
  },
  {
   "cell_type": "code",
   "execution_count": 50,
   "metadata": {},
   "outputs": [],
   "source": [
    "sinasc4 = sinasc_raw.set_index('munResNome')\n"
   ]
  },
  {
   "cell_type": "code",
   "execution_count": 51,
   "metadata": {},
   "outputs": [
    {
     "data": {
      "image/png": "[encoded data removed]",
      "text/plain": [
       "<Figure size 1080x360 with 1 Axes>"
      ]
     },
     "metadata": {
      "needs_background": "light"
     },
     "output_type": "display_data"
    }
   ],
   "source": [
    "sinasc4.groupby(imediatas)['IDADEMAE'].mean().sort_values().plot(figsize = [15,5])\n",
    "\n",
    "plt.ylabel('Idade Média das Mães');\n",
    "plt.xlabel('Regiões - RO');"
   ]
  },
  {
   "cell_type": "markdown",
   "metadata": {},
   "source": [
    "### 5. Utilize a tabela do link abaixo e crie faixas utilizando o mapping e gere agrupamentos utilizando essas faixas como chave\n"
   ]
  },
  {
   "cell_type": "markdown",
   "metadata": {},
   "source": [
    "### 5.1 IDH\n",
    "A - https://pt.wikipedia.org/wiki/Lista_de_munic%C3%ADpios_de_Rond%C3%B4nia_por_IDH-M\n"
   ]
  },
  {
   "cell_type": "code",
   "execution_count": 54,
   "metadata": {},
   "outputs": [],
   "source": [
    "idh = {\n",
    "    'Porto Velho':'IDH-M alto',\n",
    "    'Vilhena':'IDH-M alto',\n",
    "    'Cacoal':'IDH-M alto',\n",
    "    'Ji-Paraná':'IDH-M alto',\n",
    "    'Pimenta Bueno':'IDH-M alto',\n",
    "    'Ariquemes':'IDH-M alto',\n",
    "    'Rolim de Moura':'IDH-M alto',\n",
    "    'Cerejeiras':'IDH-M médio',\n",
    "    'Jaru':'IDH-M médio',\n",
    "    'Colorado do Oeste':'IDH-M médio',\n",
    "    'Ouro Preto do Oeste':'IDH-M médio',\n",
    "    'Espigão dOeste':'IDH-M médio',\n",
    "    'Santa Luzia dOeste':'IDH-M médio',\n",
    "    'Pimenteiras do Oeste':'IDH-M médio',\n",
    "    'Presidente Médici':'IDH-M médio',\n",
    "    'Castanheiras':'IDH-M médio',\n",
    "    'Guajará-Mirim':'IDH-M médio',\n",
    "    'Chupinguaia':'IDH-M médio',\n",
    "    'Cabixi':'IDH-M médio',\n",
    "    'Candeias do Jamari':'IDH-M médio',\n",
    "    'São Felipe dOeste':'IDH-M médio',\n",
    "    'Cacaulândia':'IDH-M médio',\n",
    "    'São Miguel do Guaporé':'IDH-M médio',\n",
    "    'Mirante da Serra':'IDH-M médio',\n",
    "    'Alvorada d Oeste':'IDH-M médio',\n",
    "    'Teixeirópolis':'IDH-M médio',\n",
    "    'Nova Brasilândia dOeste':'IDH-M médio',\n",
    "    'Rio Crespo':'IDH-M médio',\n",
    "    'Primavera de Rondônia':'IDH-M médio',\n",
    "    'Alta Floresta dOeste':'IDH-M médio',\n",
    "    'Ministro Andreazza':'IDH-M médio',\n",
    "    'Novo Horizonte do Oeste':'IDH-M médio',\n",
    "    'Vale do Paraíso':'IDH-M médio',\n",
    "    'Alto Paraíso':'IDH-M médio',\n",
    "    'Parecis':'IDH-M médio',\n",
    "    'Buritis':'IDH-M médio',\n",
    "    'Itapuã do Oeste':'IDH-M médio',\n",
    "    'Corumbiara':'IDH-M médio',\n",
    "    'Cujubim':'IDH-M médio',\n",
    "    'Costa Marques':'IDH-M médio',\n",
    "    'São Francisco do Guaporé':'IDH-M médio',\n",
    "    'Urupá':'IDH-M médio',\n",
    "    'Monte Negro':'IDH-M médio',\n",
    "    'Seringueiras':'IDH-M baixo',\n",
    "    'Governador Jorge Teixeira':'IDH-M baixo',\n",
    "    'Machadinho dOeste':'IDH-M baixo',\n",
    "    'Campo Novo de Rondônia':'IDH-M baixo',\n",
    "    'Alto Alegre dos Parecis':'IDH-M baixo',\n",
    "    'Theobroma':'IDH-M baixo',\n",
    "    'Nova União':'IDH-M baixo',\n",
    "    'Nova Mamoré':'IDH-M baixo',\n",
    "    'Vale do Anari':'IDH-M baixo',\n",
    "}"
   ]
  },
  {
   "cell_type": "code",
   "execution_count": 69,
   "metadata": {},
   "outputs": [
    {
     "data": {
      "image/png": "[encoded data removed]",
      "text/plain": [
       "<Figure size 1080x360 with 1 Axes>"
      ]
     },
     "metadata": {
      "needs_background": "light"
     },
     "output_type": "display_data"
    }
   ],
   "source": [
    "sinasc4.groupby(idh)[['QTDPARTCES','QTDPARTNOR']].count().sort_values(by = ['QTDPARTCES']).plot(figsize = [15,5])\n",
    "\n",
    "plt.ylabel('quantidade de parto segunto tipo')\n",
    "plt.xlabel('IDH');"
   ]
  },
  {
   "cell_type": "markdown",
   "metadata": {},
   "source": [
    "### 5.2 IFDM \n",
    "B - https://pt.wikipedia.org/wiki/Lista_de_munic%C3%ADpios_de_Rond%C3%B4nia_por_IFDM\n"
   ]
  },
  {
   "cell_type": "code",
   "execution_count": 70,
   "metadata": {},
   "outputs": [],
   "source": [
    "desenvolvimento = {\n",
    "    'Ariquemes':'moderado',\n",
    "    'Vilhena':'moderado',\n",
    "    'Pimenta Bueno':'moderado',\n",
    "    'Porto Velho':'moderado',\n",
    "    'Ji-Paraná':'moderado',\n",
    "    'Cacoal':'moderado',\n",
    "    'Santa Luzia d Oeste':'moderado',\n",
    "    'Rolim de Moura':'moderado',\n",
    "    'Chupinguaia':'moderado',\n",
    "    'São Miguel do Guaporé':'moderado',\n",
    "    'Pimenteiras do Oeste':'moderado',\n",
    "    'Teixeirópolis':'moderado',\n",
    "    'Colorado do Oeste':'moderado',\n",
    "    'Jaru':'moderado',\n",
    "    'Rio Crespo':'moderado',\n",
    "    'Primavera de Rondônia':'moderado',\n",
    "    'Alta Floresta d Oeste':'moderado',\n",
    "    'Ouro Preto do Oeste':'moderado',\n",
    "    'São Francisco do Guaporé':'moderado',\n",
    "    'Candeias do Jamari':'moderado',\n",
    "    'Buritis':'moderado',\n",
    "    'São Felipe d Oeste':'moderado',\n",
    "    'Presidente Médici':'moderado',\n",
    "    'Cerejeiras':'moderado',\n",
    "    'Monte Negro':'moderado',\n",
    "    'Urupá':'moderado',\n",
    "    'Espigão d Oeste':'regular',\n",
    "    'Seringueiras':'regular',\n",
    "    'Alvorada d Oeste':'regular',\n",
    "    'Itapuã do Oeste':'regular',\n",
    "    'Cabixi':'regular',\n",
    "    'Novo Horizonte do Oeste':'regular',\n",
    "   ' Nova Brasilândia d Oeste':'regular',\n",
    "    'Vale do Paraíso':'regular',\n",
    "    'Corumbiara':'regular',\n",
    "    'Alto Paraíso':'regular',\n",
    "    'Cacaulândia':'regular',\n",
    "    'Vale do Anari':'regular',\n",
    "    'Ministro Andreazza':'regular',\n",
    "    'Costa Marques':'regular',\n",
    "    'Nova União':'regular',\n",
    "    'Guajará-Mirim':'regular',\n",
    "    'Mirante da Serra':'regular',\n",
    "    'Parecis':'regular',\n",
    "    'Castanheiras':'regular',\n",
    "    'Theobroma':'regular',\n",
    "    'Machadinho dOeste':'regular',\n",
    "    'Campo Novo de Rondônia':'regular',\n",
    "    'Nova Mamoré':'regular',\n",
    "    'Cujubim':'regular',\n",
    "    'Alto Alegre dos Parecis':'regular',\n",
    "    'Governador Jorge Teixeira':'regular',\n",
    "    'Nenhum':'alto',\n",
    "    'Nenhum':'baixo'\n",
    "\n",
    "\n",
    "}\n"
   ]
  },
  {
   "cell_type": "code",
   "execution_count": 73,
   "metadata": {},
   "outputs": [
    {
     "data": {
      "image/png": "[encoded data removed]",
      "text/plain": [
       "<Figure size 1080x360 with 1 Axes>"
      ]
     },
     "metadata": {
      "needs_background": "light"
     },
     "output_type": "display_data"
    }
   ],
   "source": [
    "sinasc4.groupby(desenvolvimento)[['QTDPARTCES','QTDPARTNOR']].count().sort_values(by = ['QTDPARTCES']).plot(figsize = [15,5])\n",
    "\n",
    "plt.ylabel('quantidade de parto segunto tipo')\n",
    "plt.xlabel('IFDM');"
   ]
  },
  {
   "cell_type": "markdown",
   "metadata": {},
   "source": [
    "### 5.3 PIB\n",
    "C - https://pt.wikipedia.org/wiki/Lista_de_munic%C3%ADpios_de_Rond%C3%B4nia_por_PIB\n"
   ]
  },
  {
   "cell_type": "code",
   "execution_count": 92,
   "metadata": {},
   "outputs": [],
   "source": [
    "pib = {'Porto Velho': 'Acima de 1 Bilhão', 'Ji-Paraná': 'Acima de 1 Bilhão', 'Vilhena': 'Acima de 1 Bilhão', 'Ariquemes': 'Acima de 1 Bilhão', 'Cacoal': 'Acima de 1 Bilhão', 'Jaru': 'Acima de 1 Bilhão', 'Rolim de Moura': 'Acima de 1 Bilhão', 'Pimenta Bueno': 'Acima de 1 Bilhão', 'Guajará-Mirim': 'Acima de 500 Milhões', 'Ouro Preto do Oeste': 'Acima de 500 Milhões', 'Buritis': 'Acima de 500 Milhões', 'Machadinho d''Oeste': 'Acima de 500 Milhões', 'Espigão d''Oeste': 'Acima de 500 Milhões', 'São Miguel do Guaporé': 'Acima de 500 Milhões', 'Candeias do Jamari': 'Acima de 500 Milhões', 'Nova Mamoré': 'Acima de 500 Milhões', 'Cerejeiras': 'Acima de 500 Milhões', 'Alta Floresta d''Oeste': 'Acima de 300 Milhões', 'Presidente Médici': 'Acima de 300 Milhões', 'Cujubim': 'Acima de 300 Milhões', 'Nova Brasilândia d''Oeste': 'Acima de 300 Milhões', 'Alto Paraíso': 'Acima de 300 Milhões', 'São Francisco do Guaporé': 'Acima de 300 Milhões', 'Colorado do Oeste': 'Acima de 300 Milhões', 'Monte Negro': 'Acima de 200 Milhões', 'Alto Alegre dos Parecis': 'Acima de 200 Milhões', 'Campo Novo de Rondônia': 'Acima de 200 Milhões', 'Alvorada d''Oeste': 'Acima de 200 Milhões', 'Chupinguaia': 'Acima de 100 Milhões', 'Corumbiara': 'Acima de 100 Milhões', 'Ministro Andreazza': 'Acima de 100 Milhões', 'Urupá': 'Acima de 100 Milhões', 'Costa Marques': 'Acima de 100 Milhões', 'Seringueiras': 'Acima de 100 Milhões', 'Mirante da Serra': 'Acima de 100 Milhões', 'Governador Jorge Teixeira': 'Acima de 100 Milhões', 'Theobroma': 'Acima de 100 Milhões', 'Santa Luzia d''Oeste': 'Acima de 100 Milhões', 'Novo Horizonte do Oeste': 'Acima de 100 Milhões', 'Itapuã do Oeste': 'Acima de 100 Milhões', 'Vale do Paraíso': 'Acima de 100 Milhões', 'Cacaulândia': 'Acima de 100 Milhões', 'Cabixi': 'Acima de 100 Milhões', 'Vale do Anari': 'Acima de 100 Milhões', 'Nova União': 'Até 100 Milhões', 'Parecis': 'Até 100 Milhões', 'Rio Crespo': 'Até 100 Milhões', 'Pimenteiras do Oeste': 'Até 100 Milhões', 'Teixeirópolis': 'Até 100 Milhões', 'São Felipe d''Oeste': 'Até 100 Milhões', 'Castanheiras': 'Até 100 Milhões', 'Primavera de Rondônia': 'Até 100 Milhões'}"
   ]
  },
  {
   "cell_type": "code",
   "execution_count": 95,
   "metadata": {},
   "outputs": [
    {
     "data": {
      "image/png": "[encoded data removed]",
      "text/plain": [
       "<Figure size 1080x360 with 1 Axes>"
      ]
     },
     "metadata": {
      "needs_background": "light"
     },
     "output_type": "display_data"
    }
   ],
   "source": [
    "sinasc4.groupby(pib)[['QTDPARTCES','QTDPARTNOR']].count().sort_values(by = ['QTDPARTCES']).plot(figsize = [15,5])\n",
    "\n",
    "plt.ylabel('quantidade de parto segunto tipo')\n",
    "plt.xlabel('PIB');"
   ]
  },
  {
   "cell_type": "markdown",
   "metadata": {},
   "source": [
    "### Analise as respostas encontradas, tire algum insight delas, conte pra gente algo encontrado nos dados."
   ]
  },
  {
   "cell_type": "markdown",
   "metadata": {},
   "source": [
    "Exemplo:\n",
    "- Ah, descobri que a idade mediana das mulheres que deram a luz no ano de 2019 dos municipios com o PIB mais alto é a maior dentre todas."
   ]
  },
  {
   "cell_type": "markdown",
   "metadata": {},
   "source": [
    "Depreende-se da análise de dados que a quantidade de partos cesáreos e vaginais são maiores em regiões mais populosas, com maior IDH e maior desenvolvimento. Tal fato pode está relacionado à concentração dos centros médicos nessas regiões, fazendo com que as mulheres tenham que sair do seu município de origem."
   ]
  }
 ],
 "metadata": {
  "kernelspec": {
   "display_name": "Python 3 (ipykernel)",
   "language": "python",
   "name": "python3"
  },
  "language_info": {
   "codemirror_mode": {
    "name": "ipython",
    "version": 3
   },
   "file_extension": ".py",
   "mimetype": "text/x-python",
   "name": "python",
   "nbconvert_exporter": "python",
   "pygments_lexer": "ipython3",
   "version": "3.9.12"
  },
  "varInspector": {
   "cols": {
    "lenName": 16,
    "lenType": 16,
    "lenVar": 40
   },
   "kernels_config": {
    "python": {
     "delete_cmd_postfix": "",
     "delete_cmd_prefix": "del ",
     "library": "var_list.py",
     "varRefreshCmd": "print(var_dic_list())"
    },
    "r": {
     "delete_cmd_postfix": ") ",
     "delete_cmd_prefix": "rm(",
     "library": "var_list.r",
     "varRefreshCmd": "cat(var_dic_list()) "
    }
   },
   "types_to_exclude": [
    "module",
    "function",
    "builtin_function_or_method",
    "instance",
    "_Feature"
   ],
   "window_display": false
  }
 },
 "nbformat": 4,
 "nbformat_minor": 4
}
