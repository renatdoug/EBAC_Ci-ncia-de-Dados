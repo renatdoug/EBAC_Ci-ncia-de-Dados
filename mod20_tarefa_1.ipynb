{
 "cells": [
  {
   "cell_type": "markdown",
   "id": "f97c74c5",
   "metadata": {},
   "source": [
    "#### Fórmula de Bhaskara #"
   ]
  },
  {
   "cell_type": "markdown",
   "id": "d9c2129e",
   "metadata": {},
   "source": [
    "A solução para uma função de segundo grau depende das suas raízes (valores de x). Como já vimos os coeficientes precisam ser números reais e o angular diferentes de zero. Sendo assim temos a seguinte fórmula de Bhaskara: "
   ]
  },
  {
   "cell_type": "markdown",
   "id": "32d4256b",
   "metadata": {},
   "source": [
    "$$\\huge X=\\frac{-b \\pm \\sqrt{b^2-4.a.c}}{2.a}$$"
   ]
  },
  {
   "cell_type": "markdown",
   "id": "b6be6d7e",
   "metadata": {},
   "source": [
    "<em><center>Fórmula de Bhaskara<em><center>"
   ]
  },
  {
   "cell_type": "markdown",
   "id": "7d6d3c5d",
   "metadata": {},
   "source": [
    "Para melhor compreensão o seu cálculo é dividido em duas partes: discriminante da equação e operações para determinar as raízes."
   ]
  },
  {
   "cell_type": "markdown",
   "id": "2ef4d7d3",
   "metadata": {},
   "source": [
    "**Discriminante**"
   ]
  },
  {
   "cell_type": "markdown",
   "id": "d679b156",
   "metadata": {},
   "source": [
    "A figura dentro da raiz na fórmula de Bhaskara é nomeada de discriminante. Seu símbolo é a letra grega delta e apresenta a determinada fórmula: "
   ]
  },
  {
   "cell_type": "markdown",
   "id": "694ac2b9",
   "metadata": {},
   "source": [
    "$$\\huge\\Delta={b^2-4.a.c}$$"
   ]
  },
  {
   "cell_type": "markdown",
   "id": "07319e40",
   "metadata": {},
   "source": [
    "<center>Fórmula da Discriminante<center>"
   ]
  },
  {
   "cell_type": "markdown",
   "id": "39230e58",
   "metadata": {},
   "source": [
    "- Se o delta for maior que zero, a equação terá dois valores reais e distintos."
   ]
  },
  {
   "cell_type": "markdown",
   "id": "7d2c99e2",
   "metadata": {},
   "source": [
    "- Se o delta for igual a zero, a equação terá somente um valor real ou dois resultados iguais."
   ]
  },
  {
   "cell_type": "markdown",
   "id": "8be6c416",
   "metadata": {},
   "source": [
    "- Se o delta for menor que zero, a equação não possuirá valores reais."
   ]
  },
  {
   "cell_type": "code",
   "execution_count": null,
   "id": "ddd7a9a5",
   "metadata": {},
   "outputs": [],
   "source": []
  }
 ],
 "metadata": {
  "kernelspec": {
   "display_name": "Python 3 (ipykernel)",
   "language": "python",
   "name": "python3"
  },
  "language_info": {
   "codemirror_mode": {
    "name": "ipython",
    "version": 3
   },
   "file_extension": ".py",
   "mimetype": "text/x-python",
   "name": "python",
   "nbconvert_exporter": "python",
   "pygments_lexer": "ipython3",
   "version": "3.9.12"
  }
 },
 "nbformat": 4,
 "nbformat_minor": 5
}
