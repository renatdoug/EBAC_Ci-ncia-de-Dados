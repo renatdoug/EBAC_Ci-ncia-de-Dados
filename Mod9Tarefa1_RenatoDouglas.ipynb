{
 "cells": [
  {
   "cell_type": "markdown",
   "metadata": {},
   "source": [
    "# Livro para consulta:\n",
    "- https://jakevdp.github.io/PythonDataScienceHandbook/03.08-aggregation-and-grouping.html\n",
    "- https://jakevdp.github.io/PythonDataScienceHandbook/03.09-pivot-tables.html\n",
    "    "
   ]
  },
  {
   "cell_type": "markdown",
   "metadata": {},
   "source": [
    "# 1. Importando bibliotecas <a name=\"import\"></a>\n",
    "\n",
    "<div style=\"text-align: right\"\n",
    "     \n",
    "[Voltar ao índice](#Contents)"
   ]
  },
  {
   "cell_type": "code",
   "execution_count": 1,
   "metadata": {
    "ExecuteTime": {
     "end_time": "2021-06-06T21:12:37.298706Z",
     "start_time": "2021-06-06T21:12:36.656481Z"
    }
   },
   "outputs": [],
   "source": [
    "import numpy as np\n",
    "import pandas as pd\n",
    "import seaborn as sns\n",
    "import matplotlib.pyplot as plt\n",
    "\n",
    "%matplotlib inline"
   ]
  },
  {
   "cell_type": "markdown",
   "metadata": {},
   "source": [
    "# 2. Carregando o dataframe SINASC <a name=\"read\"></a>\n",
    "<div style=\"text-align: right\"\n",
    "     \n",
    "[Voltar ao índice](#Contents)"
   ]
  },
  {
   "cell_type": "code",
   "execution_count": 2,
   "metadata": {
    "ExecuteTime": {
     "end_time": "2021-06-06T21:12:37.762376Z",
     "start_time": "2021-06-06T21:12:37.728383Z"
    },
    "scrolled": true
   },
   "outputs": [
    {
     "data": {
      "text/html": [
       "<div>\n",
       "<style scoped>\n",
       "    .dataframe tbody tr th:only-of-type {\n",
       "        vertical-align: middle;\n",
       "    }\n",
       "\n",
       "    .dataframe tbody tr th {\n",
       "        vertical-align: top;\n",
       "    }\n",
       "\n",
       "    .dataframe thead th {\n",
       "        text-align: right;\n",
       "    }\n",
       "</style>\n",
       "<table border=\"1\" class=\"dataframe\">\n",
       "  <thead>\n",
       "    <tr style=\"text-align: right;\">\n",
       "      <th></th>\n",
       "      <th>ORIGEM</th>\n",
       "      <th>CODESTAB</th>\n",
       "      <th>CODMUNNASC</th>\n",
       "      <th>LOCNASC</th>\n",
       "      <th>IDADEMAE</th>\n",
       "      <th>ESTCIVMAE</th>\n",
       "      <th>ESCMAE</th>\n",
       "      <th>CODOCUPMAE</th>\n",
       "      <th>QTDFILVIVO</th>\n",
       "      <th>QTDFILMORT</th>\n",
       "      <th>...</th>\n",
       "      <th>KOTELCHUCK</th>\n",
       "      <th>CONTADOR</th>\n",
       "      <th>munResStatus</th>\n",
       "      <th>munResTipo</th>\n",
       "      <th>munResNome</th>\n",
       "      <th>munResUf</th>\n",
       "      <th>munResLat</th>\n",
       "      <th>munResLon</th>\n",
       "      <th>munResAlt</th>\n",
       "      <th>munResArea</th>\n",
       "    </tr>\n",
       "  </thead>\n",
       "  <tbody>\n",
       "    <tr>\n",
       "      <th>0</th>\n",
       "      <td>1</td>\n",
       "      <td>2679477.0</td>\n",
       "      <td>110001</td>\n",
       "      <td>1</td>\n",
       "      <td>19</td>\n",
       "      <td>5.0</td>\n",
       "      <td>8 a 11 anos</td>\n",
       "      <td>NaN</td>\n",
       "      <td>0.0</td>\n",
       "      <td>0.0</td>\n",
       "      <td>...</td>\n",
       "      <td>5</td>\n",
       "      <td>1</td>\n",
       "      <td>ATIVO</td>\n",
       "      <td>MUNIC</td>\n",
       "      <td>Alta Floresta D'Oeste</td>\n",
       "      <td>Rondônia</td>\n",
       "      <td>-11.93554</td>\n",
       "      <td>-61.99982</td>\n",
       "      <td>338.0</td>\n",
       "      <td>7067.025</td>\n",
       "    </tr>\n",
       "    <tr>\n",
       "      <th>1</th>\n",
       "      <td>1</td>\n",
       "      <td>2679477.0</td>\n",
       "      <td>110001</td>\n",
       "      <td>1</td>\n",
       "      <td>29</td>\n",
       "      <td>2.0</td>\n",
       "      <td>8 a 11 anos</td>\n",
       "      <td>999992.0</td>\n",
       "      <td>1.0</td>\n",
       "      <td>0.0</td>\n",
       "      <td>...</td>\n",
       "      <td>5</td>\n",
       "      <td>2</td>\n",
       "      <td>ATIVO</td>\n",
       "      <td>MUNIC</td>\n",
       "      <td>Alta Floresta D'Oeste</td>\n",
       "      <td>Rondônia</td>\n",
       "      <td>-11.93554</td>\n",
       "      <td>-61.99982</td>\n",
       "      <td>338.0</td>\n",
       "      <td>7067.025</td>\n",
       "    </tr>\n",
       "    <tr>\n",
       "      <th>2</th>\n",
       "      <td>1</td>\n",
       "      <td>2679477.0</td>\n",
       "      <td>110001</td>\n",
       "      <td>1</td>\n",
       "      <td>37</td>\n",
       "      <td>9.0</td>\n",
       "      <td>8 a 11 anos</td>\n",
       "      <td>513205.0</td>\n",
       "      <td>2.0</td>\n",
       "      <td>0.0</td>\n",
       "      <td>...</td>\n",
       "      <td>5</td>\n",
       "      <td>3</td>\n",
       "      <td>ATIVO</td>\n",
       "      <td>MUNIC</td>\n",
       "      <td>Alta Floresta D'Oeste</td>\n",
       "      <td>Rondônia</td>\n",
       "      <td>-11.93554</td>\n",
       "      <td>-61.99982</td>\n",
       "      <td>338.0</td>\n",
       "      <td>7067.025</td>\n",
       "    </tr>\n",
       "    <tr>\n",
       "      <th>3</th>\n",
       "      <td>1</td>\n",
       "      <td>2516500.0</td>\n",
       "      <td>110001</td>\n",
       "      <td>1</td>\n",
       "      <td>30</td>\n",
       "      <td>5.0</td>\n",
       "      <td>12 anos ou mais</td>\n",
       "      <td>231205.0</td>\n",
       "      <td>0.0</td>\n",
       "      <td>0.0</td>\n",
       "      <td>...</td>\n",
       "      <td>4</td>\n",
       "      <td>4</td>\n",
       "      <td>ATIVO</td>\n",
       "      <td>MUNIC</td>\n",
       "      <td>Alto Alegre dos Parecis</td>\n",
       "      <td>Rondônia</td>\n",
       "      <td>-12.13178</td>\n",
       "      <td>-61.85308</td>\n",
       "      <td>397.0</td>\n",
       "      <td>3958.273</td>\n",
       "    </tr>\n",
       "    <tr>\n",
       "      <th>4</th>\n",
       "      <td>1</td>\n",
       "      <td>2516500.0</td>\n",
       "      <td>110001</td>\n",
       "      <td>1</td>\n",
       "      <td>30</td>\n",
       "      <td>2.0</td>\n",
       "      <td>8 a 11 anos</td>\n",
       "      <td>999992.0</td>\n",
       "      <td>1.0</td>\n",
       "      <td>0.0</td>\n",
       "      <td>...</td>\n",
       "      <td>5</td>\n",
       "      <td>5</td>\n",
       "      <td>ATIVO</td>\n",
       "      <td>MUNIC</td>\n",
       "      <td>Alta Floresta D'Oeste</td>\n",
       "      <td>Rondônia</td>\n",
       "      <td>-11.93554</td>\n",
       "      <td>-61.99982</td>\n",
       "      <td>338.0</td>\n",
       "      <td>7067.025</td>\n",
       "    </tr>\n",
       "  </tbody>\n",
       "</table>\n",
       "<p>5 rows × 69 columns</p>\n",
       "</div>"
      ],
      "text/plain": [
       "   ORIGEM   CODESTAB  CODMUNNASC  LOCNASC  IDADEMAE  ESTCIVMAE  \\\n",
       "0       1  2679477.0      110001        1        19        5.0   \n",
       "1       1  2679477.0      110001        1        29        2.0   \n",
       "2       1  2679477.0      110001        1        37        9.0   \n",
       "3       1  2516500.0      110001        1        30        5.0   \n",
       "4       1  2516500.0      110001        1        30        2.0   \n",
       "\n",
       "            ESCMAE  CODOCUPMAE  QTDFILVIVO  QTDFILMORT  ...  KOTELCHUCK  \\\n",
       "0      8 a 11 anos         NaN         0.0         0.0  ...           5   \n",
       "1      8 a 11 anos    999992.0         1.0         0.0  ...           5   \n",
       "2      8 a 11 anos    513205.0         2.0         0.0  ...           5   \n",
       "3  12 anos ou mais    231205.0         0.0         0.0  ...           4   \n",
       "4      8 a 11 anos    999992.0         1.0         0.0  ...           5   \n",
       "\n",
       "  CONTADOR munResStatus munResTipo               munResNome  munResUf  \\\n",
       "0        1        ATIVO      MUNIC    Alta Floresta D'Oeste  Rondônia   \n",
       "1        2        ATIVO      MUNIC    Alta Floresta D'Oeste  Rondônia   \n",
       "2        3        ATIVO      MUNIC    Alta Floresta D'Oeste  Rondônia   \n",
       "3        4        ATIVO      MUNIC  Alto Alegre dos Parecis  Rondônia   \n",
       "4        5        ATIVO      MUNIC    Alta Floresta D'Oeste  Rondônia   \n",
       "\n",
       "   munResLat munResLon  munResAlt  munResArea  \n",
       "0  -11.93554 -61.99982      338.0    7067.025  \n",
       "1  -11.93554 -61.99982      338.0    7067.025  \n",
       "2  -11.93554 -61.99982      338.0    7067.025  \n",
       "3  -12.13178 -61.85308      397.0    3958.273  \n",
       "4  -11.93554 -61.99982      338.0    7067.025  \n",
       "\n",
       "[5 rows x 69 columns]"
      ]
     },
     "execution_count": 2,
     "metadata": {},
     "output_type": "execute_result"
    }
   ],
   "source": [
    "sinasc_raw = pd.read_csv('SINASC_RO_2019.csv')\n",
    "sinasc_raw.head()"
   ]
  },
  {
   "cell_type": "code",
   "execution_count": 3,
   "metadata": {},
   "outputs": [
    {
     "data": {
      "text/plain": [
       "Index(['ORIGEM', 'CODESTAB', 'CODMUNNASC', 'LOCNASC', 'IDADEMAE', 'ESTCIVMAE',\n",
       "       'ESCMAE', 'CODOCUPMAE', 'QTDFILVIVO', 'QTDFILMORT', 'CODMUNRES',\n",
       "       'GESTACAO', 'GRAVIDEZ', 'PARTO', 'CONSULTAS', 'DTNASC', 'HORANASC',\n",
       "       'SEXO', 'APGAR1', 'APGAR5', 'RACACOR', 'PESO', 'IDANOMAL', 'DTCADASTRO',\n",
       "       'CODANOMAL', 'NUMEROLOTE', 'VERSAOSIST', 'DTRECEBIM', 'DIFDATA',\n",
       "       'DTRECORIGA', 'NATURALMAE', 'CODMUNNATU', 'CODUFNATU', 'ESCMAE2010',\n",
       "       'SERIESCMAE', 'DTNASCMAE', 'RACACORMAE', 'QTDGESTANT', 'QTDPARTNOR',\n",
       "       'QTDPARTCES', 'IDADEPAI', 'DTULTMENST', 'SEMAGESTAC', 'TPMETESTIM',\n",
       "       'CONSPRENAT', 'MESPRENAT', 'TPAPRESENT', 'STTRABPART', 'STCESPARTO',\n",
       "       'TPNASCASSI', 'TPFUNCRESP', 'TPDOCRESP', 'DTDECLARAC', 'ESCMAEAGR1',\n",
       "       'STDNEPIDEM', 'STDNNOVA', 'CODPAISRES', 'TPROBSON', 'PARIDADE',\n",
       "       'KOTELCHUCK', 'CONTADOR', 'munResStatus', 'munResTipo', 'munResNome',\n",
       "       'munResUf', 'munResLat', 'munResLon', 'munResAlt', 'munResArea'],\n",
       "      dtype='object')"
      ]
     },
     "execution_count": 3,
     "metadata": {},
     "output_type": "execute_result"
    }
   ],
   "source": [
    "sinasc_raw.columns"
   ]
  },
  {
   "cell_type": "markdown",
   "metadata": {},
   "source": [
    "# Tarefa 1"
   ]
  },
  {
   "cell_type": "markdown",
   "metadata": {},
   "source": [
    "### 1. Idade media das mães e dos pais por município (coluna munResNome)\n"
   ]
  },
  {
   "cell_type": "code",
   "execution_count": 4,
   "metadata": {},
   "outputs": [
    {
     "data": {
      "text/html": [
       "<div>\n",
       "<style scoped>\n",
       "    .dataframe tbody tr th:only-of-type {\n",
       "        vertical-align: middle;\n",
       "    }\n",
       "\n",
       "    .dataframe tbody tr th {\n",
       "        vertical-align: top;\n",
       "    }\n",
       "\n",
       "    .dataframe thead th {\n",
       "        text-align: right;\n",
       "    }\n",
       "</style>\n",
       "<table border=\"1\" class=\"dataframe\">\n",
       "  <thead>\n",
       "    <tr style=\"text-align: right;\">\n",
       "      <th></th>\n",
       "      <th>IDADEMAE</th>\n",
       "      <th>IDADEPAI</th>\n",
       "    </tr>\n",
       "    <tr>\n",
       "      <th>munResNome</th>\n",
       "      <th></th>\n",
       "      <th></th>\n",
       "    </tr>\n",
       "  </thead>\n",
       "  <tbody>\n",
       "    <tr>\n",
       "      <th>Pimenteiras do Oeste</th>\n",
       "      <td>32.600000</td>\n",
       "      <td>35.600000</td>\n",
       "    </tr>\n",
       "    <tr>\n",
       "      <th>Cabixi</th>\n",
       "      <td>32.166667</td>\n",
       "      <td>34.333333</td>\n",
       "    </tr>\n",
       "    <tr>\n",
       "      <th>Itapuã do Oeste</th>\n",
       "      <td>31.375000</td>\n",
       "      <td>42.500000</td>\n",
       "    </tr>\n",
       "    <tr>\n",
       "      <th>Colorado do Oeste</th>\n",
       "      <td>31.161290</td>\n",
       "      <td>34.354839</td>\n",
       "    </tr>\n",
       "    <tr>\n",
       "      <th>Cacaulândia</th>\n",
       "      <td>31.000000</td>\n",
       "      <td>36.333333</td>\n",
       "    </tr>\n",
       "    <tr>\n",
       "      <th>Vilhena</th>\n",
       "      <td>30.611765</td>\n",
       "      <td>34.152941</td>\n",
       "    </tr>\n",
       "    <tr>\n",
       "      <th>Corumbiara</th>\n",
       "      <td>29.000000</td>\n",
       "      <td>32.470588</td>\n",
       "    </tr>\n",
       "    <tr>\n",
       "      <th>Jaru</th>\n",
       "      <td>28.450704</td>\n",
       "      <td>32.197183</td>\n",
       "    </tr>\n",
       "    <tr>\n",
       "      <th>Cerejeiras</th>\n",
       "      <td>28.361111</td>\n",
       "      <td>31.652778</td>\n",
       "    </tr>\n",
       "    <tr>\n",
       "      <th>Porto Velho</th>\n",
       "      <td>28.355655</td>\n",
       "      <td>32.352679</td>\n",
       "    </tr>\n",
       "    <tr>\n",
       "      <th>Ariquemes</th>\n",
       "      <td>28.133333</td>\n",
       "      <td>32.466667</td>\n",
       "    </tr>\n",
       "    <tr>\n",
       "      <th>Primavera de Rondônia</th>\n",
       "      <td>28.083333</td>\n",
       "      <td>31.888889</td>\n",
       "    </tr>\n",
       "    <tr>\n",
       "      <th>Castanheiras</th>\n",
       "      <td>28.071429</td>\n",
       "      <td>30.392857</td>\n",
       "    </tr>\n",
       "    <tr>\n",
       "      <th>Ministro Andreazza</th>\n",
       "      <td>27.890411</td>\n",
       "      <td>33.849315</td>\n",
       "    </tr>\n",
       "    <tr>\n",
       "      <th>Monte Negro</th>\n",
       "      <td>27.642857</td>\n",
       "      <td>34.678571</td>\n",
       "    </tr>\n",
       "    <tr>\n",
       "      <th>São Miguel do Guaporé</th>\n",
       "      <td>27.469136</td>\n",
       "      <td>32.666667</td>\n",
       "    </tr>\n",
       "    <tr>\n",
       "      <th>Teixeirópolis</th>\n",
       "      <td>27.454545</td>\n",
       "      <td>31.500000</td>\n",
       "    </tr>\n",
       "    <tr>\n",
       "      <th>Cujubim</th>\n",
       "      <td>27.400000</td>\n",
       "      <td>31.400000</td>\n",
       "    </tr>\n",
       "    <tr>\n",
       "      <th>Nova União</th>\n",
       "      <td>27.371429</td>\n",
       "      <td>31.371429</td>\n",
       "    </tr>\n",
       "    <tr>\n",
       "      <th>Ji-Paraná</th>\n",
       "      <td>27.282819</td>\n",
       "      <td>31.132239</td>\n",
       "    </tr>\n",
       "    <tr>\n",
       "      <th>Vale do Anari</th>\n",
       "      <td>27.133333</td>\n",
       "      <td>34.000000</td>\n",
       "    </tr>\n",
       "    <tr>\n",
       "      <th>Urupá</th>\n",
       "      <td>27.116071</td>\n",
       "      <td>31.008929</td>\n",
       "    </tr>\n",
       "    <tr>\n",
       "      <th>Ouro Preto do Oeste</th>\n",
       "      <td>27.109920</td>\n",
       "      <td>31.233244</td>\n",
       "    </tr>\n",
       "    <tr>\n",
       "      <th>Nova Brasilândia D'Oeste</th>\n",
       "      <td>27.104167</td>\n",
       "      <td>30.520833</td>\n",
       "    </tr>\n",
       "    <tr>\n",
       "      <th>Novo Horizonte do Oeste</th>\n",
       "      <td>26.988235</td>\n",
       "      <td>31.588235</td>\n",
       "    </tr>\n",
       "    <tr>\n",
       "      <th>São Felipe D'Oeste</th>\n",
       "      <td>26.979167</td>\n",
       "      <td>31.395833</td>\n",
       "    </tr>\n",
       "    <tr>\n",
       "      <th>Cacoal</th>\n",
       "      <td>26.978605</td>\n",
       "      <td>30.931854</td>\n",
       "    </tr>\n",
       "    <tr>\n",
       "      <th>Parecis</th>\n",
       "      <td>26.973684</td>\n",
       "      <td>32.473684</td>\n",
       "    </tr>\n",
       "    <tr>\n",
       "      <th>São Francisco do Guaporé</th>\n",
       "      <td>26.944444</td>\n",
       "      <td>31.638889</td>\n",
       "    </tr>\n",
       "    <tr>\n",
       "      <th>Mirante da Serra</th>\n",
       "      <td>26.928571</td>\n",
       "      <td>32.154762</td>\n",
       "    </tr>\n",
       "    <tr>\n",
       "      <th>Chupinguaia</th>\n",
       "      <td>26.888889</td>\n",
       "      <td>29.629630</td>\n",
       "    </tr>\n",
       "    <tr>\n",
       "      <th>Alvorada D'Oeste</th>\n",
       "      <td>26.825243</td>\n",
       "      <td>30.757282</td>\n",
       "    </tr>\n",
       "    <tr>\n",
       "      <th>Espigão D'Oeste</th>\n",
       "      <td>26.808176</td>\n",
       "      <td>31.198113</td>\n",
       "    </tr>\n",
       "    <tr>\n",
       "      <th>Rolim de Moura</th>\n",
       "      <td>26.549701</td>\n",
       "      <td>30.360479</td>\n",
       "    </tr>\n",
       "    <tr>\n",
       "      <th>Presidente Médici</th>\n",
       "      <td>26.170854</td>\n",
       "      <td>30.150754</td>\n",
       "    </tr>\n",
       "    <tr>\n",
       "      <th>Guajará-Mirim</th>\n",
       "      <td>26.058824</td>\n",
       "      <td>30.470588</td>\n",
       "    </tr>\n",
       "    <tr>\n",
       "      <th>Nova Mamoré</th>\n",
       "      <td>26.051282</td>\n",
       "      <td>31.692308</td>\n",
       "    </tr>\n",
       "    <tr>\n",
       "      <th>Machadinho D'Oeste</th>\n",
       "      <td>26.048077</td>\n",
       "      <td>31.326923</td>\n",
       "    </tr>\n",
       "    <tr>\n",
       "      <th>Santa Luzia D'Oeste</th>\n",
       "      <td>26.043956</td>\n",
       "      <td>30.703297</td>\n",
       "    </tr>\n",
       "    <tr>\n",
       "      <th>Rio Crespo</th>\n",
       "      <td>26.000000</td>\n",
       "      <td>28.000000</td>\n",
       "    </tr>\n",
       "    <tr>\n",
       "      <th>Alta Floresta D'Oeste</th>\n",
       "      <td>25.892857</td>\n",
       "      <td>29.548701</td>\n",
       "    </tr>\n",
       "    <tr>\n",
       "      <th>Vale do Paraíso</th>\n",
       "      <td>25.604651</td>\n",
       "      <td>29.976744</td>\n",
       "    </tr>\n",
       "    <tr>\n",
       "      <th>Governador Jorge Teixeira</th>\n",
       "      <td>25.555556</td>\n",
       "      <td>29.222222</td>\n",
       "    </tr>\n",
       "    <tr>\n",
       "      <th>Pimenta Bueno</th>\n",
       "      <td>25.449807</td>\n",
       "      <td>29.745174</td>\n",
       "    </tr>\n",
       "    <tr>\n",
       "      <th>Costa Marques</th>\n",
       "      <td>25.250000</td>\n",
       "      <td>30.613636</td>\n",
       "    </tr>\n",
       "    <tr>\n",
       "      <th>Seringueiras</th>\n",
       "      <td>25.058824</td>\n",
       "      <td>30.500000</td>\n",
       "    </tr>\n",
       "    <tr>\n",
       "      <th>Theobroma</th>\n",
       "      <td>24.916667</td>\n",
       "      <td>30.083333</td>\n",
       "    </tr>\n",
       "    <tr>\n",
       "      <th>Campo Novo de Rondônia</th>\n",
       "      <td>24.900000</td>\n",
       "      <td>30.500000</td>\n",
       "    </tr>\n",
       "    <tr>\n",
       "      <th>Buritis</th>\n",
       "      <td>24.750000</td>\n",
       "      <td>30.812500</td>\n",
       "    </tr>\n",
       "    <tr>\n",
       "      <th>Alto Alegre dos Parecis</th>\n",
       "      <td>24.679104</td>\n",
       "      <td>29.179104</td>\n",
       "    </tr>\n",
       "    <tr>\n",
       "      <th>Município ignorado - RO</th>\n",
       "      <td>24.000000</td>\n",
       "      <td>22.000000</td>\n",
       "    </tr>\n",
       "    <tr>\n",
       "      <th>Candeias do Jamari</th>\n",
       "      <td>23.684211</td>\n",
       "      <td>29.894737</td>\n",
       "    </tr>\n",
       "    <tr>\n",
       "      <th>Alto Paraíso</th>\n",
       "      <td>22.833333</td>\n",
       "      <td>28.833333</td>\n",
       "    </tr>\n",
       "  </tbody>\n",
       "</table>\n",
       "</div>"
      ],
      "text/plain": [
       "                            IDADEMAE   IDADEPAI\n",
       "munResNome                                     \n",
       "Pimenteiras do Oeste       32.600000  35.600000\n",
       "Cabixi                     32.166667  34.333333\n",
       "Itapuã do Oeste            31.375000  42.500000\n",
       "Colorado do Oeste          31.161290  34.354839\n",
       "Cacaulândia                31.000000  36.333333\n",
       "Vilhena                    30.611765  34.152941\n",
       "Corumbiara                 29.000000  32.470588\n",
       "Jaru                       28.450704  32.197183\n",
       "Cerejeiras                 28.361111  31.652778\n",
       "Porto Velho                28.355655  32.352679\n",
       "Ariquemes                  28.133333  32.466667\n",
       "Primavera de Rondônia      28.083333  31.888889\n",
       "Castanheiras               28.071429  30.392857\n",
       "Ministro Andreazza         27.890411  33.849315\n",
       "Monte Negro                27.642857  34.678571\n",
       "São Miguel do Guaporé      27.469136  32.666667\n",
       "Teixeirópolis              27.454545  31.500000\n",
       "Cujubim                    27.400000  31.400000\n",
       "Nova União                 27.371429  31.371429\n",
       "Ji-Paraná                  27.282819  31.132239\n",
       "Vale do Anari              27.133333  34.000000\n",
       "Urupá                      27.116071  31.008929\n",
       "Ouro Preto do Oeste        27.109920  31.233244\n",
       "Nova Brasilândia D'Oeste   27.104167  30.520833\n",
       "Novo Horizonte do Oeste    26.988235  31.588235\n",
       "São Felipe D'Oeste         26.979167  31.395833\n",
       "Cacoal                     26.978605  30.931854\n",
       "Parecis                    26.973684  32.473684\n",
       "São Francisco do Guaporé   26.944444  31.638889\n",
       "Mirante da Serra           26.928571  32.154762\n",
       "Chupinguaia                26.888889  29.629630\n",
       "Alvorada D'Oeste           26.825243  30.757282\n",
       "Espigão D'Oeste            26.808176  31.198113\n",
       "Rolim de Moura             26.549701  30.360479\n",
       "Presidente Médici          26.170854  30.150754\n",
       "Guajará-Mirim              26.058824  30.470588\n",
       "Nova Mamoré                26.051282  31.692308\n",
       "Machadinho D'Oeste         26.048077  31.326923\n",
       "Santa Luzia D'Oeste        26.043956  30.703297\n",
       "Rio Crespo                 26.000000  28.000000\n",
       "Alta Floresta D'Oeste      25.892857  29.548701\n",
       "Vale do Paraíso            25.604651  29.976744\n",
       "Governador Jorge Teixeira  25.555556  29.222222\n",
       "Pimenta Bueno              25.449807  29.745174\n",
       "Costa Marques              25.250000  30.613636\n",
       "Seringueiras               25.058824  30.500000\n",
       "Theobroma                  24.916667  30.083333\n",
       "Campo Novo de Rondônia     24.900000  30.500000\n",
       "Buritis                    24.750000  30.812500\n",
       "Alto Alegre dos Parecis    24.679104  29.179104\n",
       "Município ignorado - RO    24.000000  22.000000\n",
       "Candeias do Jamari         23.684211  29.894737\n",
       "Alto Paraíso               22.833333  28.833333"
      ]
     },
     "execution_count": 4,
     "metadata": {},
     "output_type": "execute_result"
    }
   ],
   "source": [
    "sinasc_1 = sinasc_raw[['munResNome','IDADEMAE', 'IDADEPAI']]\n",
    "sinasc_munResNome = sinasc_1.dropna().groupby('munResNome')\n",
    "mediaIdade = sinasc_munResNome.mean().sort_values(by = 'IDADEMAE', ascending=False) \n",
    "mediaIdade"
   ]
  },
  {
   "cell_type": "code",
   "execution_count": 5,
   "metadata": {},
   "outputs": [
    {
     "data": {
      "image/png": "[encoded data removed]",
      "text/plain": [
       "<Figure size 1080x360 with 1 Axes>"
      ]
     },
     "metadata": {
      "needs_background": "light"
     },
     "output_type": "display_data"
    }
   ],
   "source": [
    "mediaIdade.plot(figsize=[15,5]);"
   ]
  },
  {
   "cell_type": "markdown",
   "metadata": {},
   "source": [
    "Pode-se observar que os pais apresentam um maior média de idade quando comparado com as médias de idades das mães.\n",
    "Embora o gráfico não mostre, os 5 municipos com maiores médias de idades dos pais e mães são, respectivamente: Pimenteiras do Oeste, Cabixi, Itapuã do Oeste, Colorado do Oeste e Cacaulândia.\n",
    "\n"
   ]
  },
  {
   "cell_type": "markdown",
   "metadata": {},
   "source": [
    "### 2. Peso médio dos bebes por sexo que nasceram no dia do seu aniversário por faixas de escolaridade mae\n",
    "Ex: Você, aluna(o), nasceu no dia 10/01, então você precisa filtrar o conjunto de dados nessa data e calcular o peso médio dos bebês de cada sexo por faixa de escolaridade da mãe."
   ]
  },
  {
   "cell_type": "code",
   "execution_count": 6,
   "metadata": {},
   "outputs": [
    {
     "data": {
      "text/html": [
       "<div>\n",
       "<style scoped>\n",
       "    .dataframe tbody tr th:only-of-type {\n",
       "        vertical-align: middle;\n",
       "    }\n",
       "\n",
       "    .dataframe tbody tr th {\n",
       "        vertical-align: top;\n",
       "    }\n",
       "\n",
       "    .dataframe thead th {\n",
       "        text-align: right;\n",
       "    }\n",
       "</style>\n",
       "<table border=\"1\" class=\"dataframe\">\n",
       "  <thead>\n",
       "    <tr style=\"text-align: right;\">\n",
       "      <th></th>\n",
       "      <th></th>\n",
       "      <th>PESO</th>\n",
       "    </tr>\n",
       "    <tr>\n",
       "      <th>ESCMAE</th>\n",
       "      <th>SEXO</th>\n",
       "      <th></th>\n",
       "    </tr>\n",
       "  </thead>\n",
       "  <tbody>\n",
       "    <tr>\n",
       "      <th>1 a 3 anos</th>\n",
       "      <th>Masculino</th>\n",
       "      <td>3190.000000</td>\n",
       "    </tr>\n",
       "    <tr>\n",
       "      <th rowspan=\"2\" valign=\"top\">12 anos ou mais</th>\n",
       "      <th>Feminino</th>\n",
       "      <td>2990.500000</td>\n",
       "    </tr>\n",
       "    <tr>\n",
       "      <th>Masculino</th>\n",
       "      <td>3307.777778</td>\n",
       "    </tr>\n",
       "    <tr>\n",
       "      <th rowspan=\"2\" valign=\"top\">4 a 7 anos</th>\n",
       "      <th>Feminino</th>\n",
       "      <td>3321.285714</td>\n",
       "    </tr>\n",
       "    <tr>\n",
       "      <th>Masculino</th>\n",
       "      <td>3042.272727</td>\n",
       "    </tr>\n",
       "    <tr>\n",
       "      <th rowspan=\"2\" valign=\"top\">8 a 11 anos</th>\n",
       "      <th>Feminino</th>\n",
       "      <td>3191.266667</td>\n",
       "    </tr>\n",
       "    <tr>\n",
       "      <th>Masculino</th>\n",
       "      <td>3209.375000</td>\n",
       "    </tr>\n",
       "    <tr>\n",
       "      <th>Nenhuma</th>\n",
       "      <th>Masculino</th>\n",
       "      <td>3645.000000</td>\n",
       "    </tr>\n",
       "  </tbody>\n",
       "</table>\n",
       "</div>"
      ],
      "text/plain": [
       "                                  PESO\n",
       "ESCMAE          SEXO                  \n",
       "1 a 3 anos      Masculino  3190.000000\n",
       "12 anos ou mais Feminino   2990.500000\n",
       "                Masculino  3307.777778\n",
       "4 a 7 anos      Feminino   3321.285714\n",
       "                Masculino  3042.272727\n",
       "8 a 11 anos     Feminino   3191.266667\n",
       "                Masculino  3209.375000\n",
       "Nenhuma         Masculino  3645.000000"
      ]
     },
     "execution_count": 6,
     "metadata": {},
     "output_type": "execute_result"
    }
   ],
   "source": [
    "minha_dataNasc = sinasc_raw[sinasc_raw['DTNASC'] == '2019-05-20']\n",
    "sinasc_2 = minha_dataNasc[['SEXO','PESO','ESCMAE']]\n",
    "resposta_2 = sinasc_2.groupby(['ESCMAE','SEXO']).agg(np.mean)\n",
    "resposta_2\n"
   ]
  },
  {
   "cell_type": "code",
   "execution_count": 7,
   "metadata": {},
   "outputs": [
    {
     "data": {
      "image/png": "[encoded data removed]",
      "text/plain": [
       "<Figure size 1080x360 with 1 Axes>"
      ]
     },
     "metadata": {
      "needs_background": "light"
     },
     "output_type": "display_data"
    }
   ],
   "source": [
    "resposta_2.unstack(level = 1).plot(figsize=[15,5]);"
   ]
  },
  {
   "cell_type": "markdown",
   "metadata": {},
   "source": [
    "O gráfico, gerado que representa o peso médio dos bebes por sexo que nasceram no dia do meu aniversário por faixas de escolaridade mae, mostra que, considreando a nascimento por escolaridade da mãe, não registro de nascimento de bebês do sexo feminino quando observado as esolaridade de 1 a 3 anos e Nenhuma. Ainda para o sexo os bebês do sexo feminino, a média de peso ao nascer concentrou-se na faixa de escolaridade de de 4 a 7 anos. O bebês do sexo masculino apresentaram distribuição em todas as faixas de escolaridade, notando-se que houveram picos de média de peso para filhos de mães sem nenhuma esolaridade e acima de 8 anos de de estudo.\n",
    "\n",
    "Ressalta-se que a média do peso esta estritamente relacionado ao quantitaivo de bebés nascidos no dia 20 de maio de 2019, assim o que temos é um corte de uma data específica. Abaixo está o quantitativo de nascidos por faixa de escolaridade da mãe."
   ]
  },
  {
   "cell_type": "code",
   "execution_count": 8,
   "metadata": {},
   "outputs": [
    {
     "data": {
      "text/html": [
       "<div>\n",
       "<style scoped>\n",
       "    .dataframe tbody tr th:only-of-type {\n",
       "        vertical-align: middle;\n",
       "    }\n",
       "\n",
       "    .dataframe tbody tr th {\n",
       "        vertical-align: top;\n",
       "    }\n",
       "\n",
       "    .dataframe thead tr th {\n",
       "        text-align: left;\n",
       "    }\n",
       "\n",
       "    .dataframe thead tr:last-of-type th {\n",
       "        text-align: right;\n",
       "    }\n",
       "</style>\n",
       "<table border=\"1\" class=\"dataframe\">\n",
       "  <thead>\n",
       "    <tr>\n",
       "      <th></th>\n",
       "      <th colspan=\"2\" halign=\"left\">PESO</th>\n",
       "    </tr>\n",
       "    <tr>\n",
       "      <th>SEXO</th>\n",
       "      <th>Feminino</th>\n",
       "      <th>Masculino</th>\n",
       "    </tr>\n",
       "    <tr>\n",
       "      <th>ESCMAE</th>\n",
       "      <th></th>\n",
       "      <th></th>\n",
       "    </tr>\n",
       "  </thead>\n",
       "  <tbody>\n",
       "    <tr>\n",
       "      <th>1 a 3 anos</th>\n",
       "      <td>0.0</td>\n",
       "      <td>1.0</td>\n",
       "    </tr>\n",
       "    <tr>\n",
       "      <th>12 anos ou mais</th>\n",
       "      <td>10.0</td>\n",
       "      <td>9.0</td>\n",
       "    </tr>\n",
       "    <tr>\n",
       "      <th>4 a 7 anos</th>\n",
       "      <td>7.0</td>\n",
       "      <td>11.0</td>\n",
       "    </tr>\n",
       "    <tr>\n",
       "      <th>8 a 11 anos</th>\n",
       "      <td>30.0</td>\n",
       "      <td>16.0</td>\n",
       "    </tr>\n",
       "    <tr>\n",
       "      <th>Nenhuma</th>\n",
       "      <td>0.0</td>\n",
       "      <td>1.0</td>\n",
       "    </tr>\n",
       "  </tbody>\n",
       "</table>\n",
       "</div>"
      ],
      "text/plain": [
       "                    PESO          \n",
       "SEXO            Feminino Masculino\n",
       "ESCMAE                            \n",
       "1 a 3 anos           0.0       1.0\n",
       "12 anos ou mais     10.0       9.0\n",
       "4 a 7 anos           7.0      11.0\n",
       "8 a 11 anos         30.0      16.0\n",
       "Nenhuma              0.0       1.0"
      ]
     },
     "execution_count": 8,
     "metadata": {},
     "output_type": "execute_result"
    }
   ],
   "source": [
    "resposta_2_quanti = sinasc_2.groupby(['ESCMAE','SEXO']).count().unstack()\n",
    "resposta_2_quanti.fillna(0)"
   ]
  },
  {
   "cell_type": "markdown",
   "metadata": {},
   "source": []
  },
  {
   "cell_type": "markdown",
   "metadata": {},
   "source": [
    "### 3. Qual o municipio que nasceu menos bebe em 2019?\n",
    "    - qual a idade media, maxima, minima das maes nesse municipio?\n",
    "    - qual a idade media, maxima, minima dos pais nesse municipio?"
   ]
  },
  {
   "cell_type": "code",
   "execution_count": 9,
   "metadata": {},
   "outputs": [
    {
     "data": {
      "text/plain": [
       "Município ignorado - RO     1\n",
       "Castanheiras               32\n",
       "Pimenteiras do Oeste       40\n",
       "Primavera de Rondônia      43\n",
       "Parecis                    44\n",
       "Name: munResNome, dtype: int64"
      ]
     },
     "execution_count": 9,
     "metadata": {},
     "output_type": "execute_result"
    }
   ],
   "source": [
    "sinasc_1['munResNome'].value_counts().sort_values().head(5)"
   ]
  },
  {
   "cell_type": "markdown",
   "metadata": {},
   "source": [
    "O municipio que nasceu menos bebê em 2019 foi Castanheirs, com 32 nascimentos. Há um regisro de municipio ignorado, que deve pode ser explicado por erro no registro do mesmo"
   ]
  },
  {
   "cell_type": "code",
   "execution_count": 10,
   "metadata": {},
   "outputs": [
    {
     "data": {
      "text/plain": [
       "munResNome    0\n",
       "IDADEMAE      0\n",
       "IDADEPAI      4\n",
       "dtype: int64"
      ]
     },
     "execution_count": 10,
     "metadata": {},
     "output_type": "execute_result"
    }
   ],
   "source": [
    "sinasc_1[sinasc_1['munResNome']=='Castanheiras'].isna().sum()"
   ]
  },
  {
   "cell_type": "markdown",
   "metadata": {},
   "source": [
    "Observamos que no munício de Castanheiras há 4 registro que não posseum a idade do pai"
   ]
  },
  {
   "cell_type": "code",
   "execution_count": 14,
   "metadata": {},
   "outputs": [
    {
     "data": {
      "text/html": [
       "<div>\n",
       "<style scoped>\n",
       "    .dataframe tbody tr th:only-of-type {\n",
       "        vertical-align: middle;\n",
       "    }\n",
       "\n",
       "    .dataframe tbody tr th {\n",
       "        vertical-align: top;\n",
       "    }\n",
       "\n",
       "    .dataframe thead tr th {\n",
       "        text-align: left;\n",
       "    }\n",
       "\n",
       "    .dataframe thead tr:last-of-type th {\n",
       "        text-align: right;\n",
       "    }\n",
       "</style>\n",
       "<table border=\"1\" class=\"dataframe\">\n",
       "  <thead>\n",
       "    <tr>\n",
       "      <th></th>\n",
       "      <th colspan=\"3\" halign=\"left\">IDADEMAE</th>\n",
       "    </tr>\n",
       "    <tr>\n",
       "      <th></th>\n",
       "      <th>Menor Idade</th>\n",
       "      <th>Maior Idade</th>\n",
       "      <th>Idade Média</th>\n",
       "    </tr>\n",
       "    <tr>\n",
       "      <th>munResNome</th>\n",
       "      <th></th>\n",
       "      <th></th>\n",
       "      <th></th>\n",
       "    </tr>\n",
       "  </thead>\n",
       "  <tbody>\n",
       "    <tr>\n",
       "      <th>Castanheiras</th>\n",
       "      <td>17</td>\n",
       "      <td>39</td>\n",
       "      <td>27.28125</td>\n",
       "    </tr>\n",
       "  </tbody>\n",
       "</table>\n",
       "</div>"
      ],
      "text/plain": [
       "                IDADEMAE                        \n",
       "             Menor Idade Maior Idade Idade Média\n",
       "munResNome                                      \n",
       "Castanheiras          17          39    27.28125"
      ]
     },
     "execution_count": 14,
     "metadata": {},
     "output_type": "execute_result"
    }
   ],
   "source": [
    "sinasc1_mae = sinasc_1.loc[sinasc_1['munResNome'] == 'Castanheiras', ['munResNome', 'IDADEMAE']]\n",
    "sinasc1_mae.groupby('munResNome').agg({('Maior Idade', max), ('Menor Idade', min), ('Idade Média', np.mean)})"
   ]
  },
  {
   "cell_type": "code",
   "execution_count": 15,
   "metadata": {},
   "outputs": [
    {
     "data": {
      "text/html": [
       "<div>\n",
       "<style scoped>\n",
       "    .dataframe tbody tr th:only-of-type {\n",
       "        vertical-align: middle;\n",
       "    }\n",
       "\n",
       "    .dataframe tbody tr th {\n",
       "        vertical-align: top;\n",
       "    }\n",
       "\n",
       "    .dataframe thead tr th {\n",
       "        text-align: left;\n",
       "    }\n",
       "\n",
       "    .dataframe thead tr:last-of-type th {\n",
       "        text-align: right;\n",
       "    }\n",
       "</style>\n",
       "<table border=\"1\" class=\"dataframe\">\n",
       "  <thead>\n",
       "    <tr>\n",
       "      <th></th>\n",
       "      <th colspan=\"3\" halign=\"left\">IDADEPAI</th>\n",
       "    </tr>\n",
       "    <tr>\n",
       "      <th></th>\n",
       "      <th>Menor Idade</th>\n",
       "      <th>Maior Idade</th>\n",
       "      <th>Idade Média</th>\n",
       "    </tr>\n",
       "    <tr>\n",
       "      <th>munResNome</th>\n",
       "      <th></th>\n",
       "      <th></th>\n",
       "      <th></th>\n",
       "    </tr>\n",
       "  </thead>\n",
       "  <tbody>\n",
       "    <tr>\n",
       "      <th>Castanheiras</th>\n",
       "      <td>17.0</td>\n",
       "      <td>43.0</td>\n",
       "      <td>30.392857</td>\n",
       "    </tr>\n",
       "  </tbody>\n",
       "</table>\n",
       "</div>"
      ],
      "text/plain": [
       "                IDADEPAI                        \n",
       "             Menor Idade Maior Idade Idade Média\n",
       "munResNome                                      \n",
       "Castanheiras        17.0        43.0   30.392857"
      ]
     },
     "execution_count": 15,
     "metadata": {},
     "output_type": "execute_result"
    }
   ],
   "source": [
    "sinasc1_pai = sinasc_1.loc[sinasc_1['munResNome'] == 'Castanheiras', ['munResNome', 'IDADEPAI']]\n",
    "sinasc1_pai.groupby('munResNome').agg({('Maior Idade', max), ('Menor Idade', min), ('Idade Média', np.mean)})"
   ]
  },
  {
   "cell_type": "markdown",
   "metadata": {},
   "source": [
    "No município de Castanheiras as mães possuem faixa de idade de 17 a 39 anos, com uma média de 27,28 anos. Enquanto que os pais, possuem idades entre 17 a 43 anos, com média de 30,39 anos."
   ]
  },
  {
   "cell_type": "markdown",
   "metadata": {},
   "source": [
    "### 4. Qual o municipio que nasceu mais bebe no mês de março?\n",
    "    - qual a quantidade de filhos vivos media, maxima, minima nesse municipio?\n",
    "    - qual a idade media, maxima, minima dos pais nesse municipio?\n",
    "\n"
   ]
  },
  {
   "cell_type": "code",
   "execution_count": 16,
   "metadata": {},
   "outputs": [
    {
     "data": {
      "text/plain": [
       "Porto Velho    744\n",
       "Ji-Paraná      188\n",
       "Vilhena        148\n",
       "Ariquemes      141\n",
       "Cacoal         133\n",
       "Name: munResNome, dtype: int64"
      ]
     },
     "execution_count": 16,
     "metadata": {},
     "output_type": "execute_result"
    }
   ],
   "source": [
    "#qual a quantidade de filhos vivos media, maxima, minima nesse municipio?\n",
    "sinasc_4 = sinasc_raw.copy()\n",
    "sinasc_4 = sinasc_4[['DTNASC','munResNome','QTDFILVIVO','IDADEPAI']]\n",
    "sinasc_4['DTNASC'] = pd.to_datetime(sinasc_4['DTNASC'])\n",
    "sinasc_4 = sinasc_4[sinasc_4['DTNASC'].dt.month == 3]\n",
    "sinasc_4['munResNome'].value_counts().sort_values(ascending=False).head(5)"
   ]
  },
  {
   "cell_type": "code",
   "execution_count": 17,
   "metadata": {},
   "outputs": [
    {
     "data": {
      "text/html": [
       "<div>\n",
       "<style scoped>\n",
       "    .dataframe tbody tr th:only-of-type {\n",
       "        vertical-align: middle;\n",
       "    }\n",
       "\n",
       "    .dataframe tbody tr th {\n",
       "        vertical-align: top;\n",
       "    }\n",
       "\n",
       "    .dataframe thead tr th {\n",
       "        text-align: left;\n",
       "    }\n",
       "\n",
       "    .dataframe thead tr:last-of-type th {\n",
       "        text-align: right;\n",
       "    }\n",
       "</style>\n",
       "<table border=\"1\" class=\"dataframe\">\n",
       "  <thead>\n",
       "    <tr>\n",
       "      <th></th>\n",
       "      <th colspan=\"3\" halign=\"left\">QTDFILVIVO</th>\n",
       "    </tr>\n",
       "    <tr>\n",
       "      <th></th>\n",
       "      <th>Máximo</th>\n",
       "      <th>Mínimo</th>\n",
       "      <th>Média</th>\n",
       "    </tr>\n",
       "    <tr>\n",
       "      <th>munResNome</th>\n",
       "      <th></th>\n",
       "      <th></th>\n",
       "      <th></th>\n",
       "    </tr>\n",
       "  </thead>\n",
       "  <tbody>\n",
       "    <tr>\n",
       "      <th>Porto Velho</th>\n",
       "      <td>6.0</td>\n",
       "      <td>0.0</td>\n",
       "      <td>1.479167</td>\n",
       "    </tr>\n",
       "  </tbody>\n",
       "</table>\n",
       "</div>"
      ],
      "text/plain": [
       "            QTDFILVIVO                 \n",
       "                Máximo Mínimo     Média\n",
       "munResNome                             \n",
       "Porto Velho        6.0    0.0  1.479167"
      ]
     },
     "execution_count": 17,
     "metadata": {},
     "output_type": "execute_result"
    }
   ],
   "source": [
    "sinascPV = sinasc_4[sinasc_4['munResNome'] == 'Porto Velho']\n",
    "sinascPV = sinascPV.dropna()\n",
    "sinascPV[['munResNome','QTDFILVIVO']].groupby('munResNome').agg({('Média', np.mean), ('Máximo', max), ('Mínimo', min)})"
   ]
  },
  {
   "cell_type": "markdown",
   "metadata": {},
   "source": [
    "**Em Porto Velho houveram 744 registros de bebês vivos no mês de março, sendo que o número máximo de nascimento por dia foi de 6 bebês e uma média de 1,47 bebês nascidos"
   ]
  },
  {
   "cell_type": "code",
   "execution_count": 18,
   "metadata": {},
   "outputs": [
    {
     "data": {
      "text/html": [
       "<div>\n",
       "<style scoped>\n",
       "    .dataframe tbody tr th:only-of-type {\n",
       "        vertical-align: middle;\n",
       "    }\n",
       "\n",
       "    .dataframe tbody tr th {\n",
       "        vertical-align: top;\n",
       "    }\n",
       "\n",
       "    .dataframe thead tr th {\n",
       "        text-align: left;\n",
       "    }\n",
       "\n",
       "    .dataframe thead tr:last-of-type th {\n",
       "        text-align: right;\n",
       "    }\n",
       "</style>\n",
       "<table border=\"1\" class=\"dataframe\">\n",
       "  <thead>\n",
       "    <tr>\n",
       "      <th></th>\n",
       "      <th colspan=\"3\" halign=\"left\">IDADEPAI</th>\n",
       "    </tr>\n",
       "    <tr>\n",
       "      <th></th>\n",
       "      <th>Máximo</th>\n",
       "      <th>Mínimo</th>\n",
       "      <th>Média</th>\n",
       "    </tr>\n",
       "    <tr>\n",
       "      <th>munResNome</th>\n",
       "      <th></th>\n",
       "      <th></th>\n",
       "      <th></th>\n",
       "    </tr>\n",
       "  </thead>\n",
       "  <tbody>\n",
       "    <tr>\n",
       "      <th>Porto Velho</th>\n",
       "      <td>62.0</td>\n",
       "      <td>19.0</td>\n",
       "      <td>35.75</td>\n",
       "    </tr>\n",
       "  </tbody>\n",
       "</table>\n",
       "</div>"
      ],
      "text/plain": [
       "            IDADEPAI              \n",
       "              Máximo Mínimo  Média\n",
       "munResNome                        \n",
       "Porto Velho     62.0   19.0  35.75"
      ]
     },
     "execution_count": 18,
     "metadata": {},
     "output_type": "execute_result"
    }
   ],
   "source": [
    "#qual a idade media, maxima, minima dos pais nesse municipio?\n",
    "sinascPV[['munResNome','IDADEPAI']].groupby('munResNome').agg({('Média', np.mean), ('Máximo', max), ('Mínimo', min)})"
   ]
  },
  {
   "cell_type": "markdown",
   "metadata": {},
   "source": [
    "** A média de idade dos pais de bebês nascido no mês de março em Porto velho foi de 35,75 anos, sendo a menor idade 19 e maior idade 62."
   ]
  },
  {
   "cell_type": "markdown",
   "metadata": {},
   "source": [
    "### Analise as respostas encontradas, tire algum insight delas, conte pra gente algo encontrado nos dados. Algo que você julgue relevante e novo pra você."
   ]
  },
  {
   "cell_type": "markdown",
   "metadata": {},
   "source": [
    "Exemplo:\n",
    "- Ah, descobri que a idade mediana das mulheres que deram a luz no ano de 2019 dos municipios x é maior que y."
   ]
  },
  {
   "cell_type": "code",
   "execution_count": 12,
   "metadata": {},
   "outputs": [
    {
     "data": {
      "text/plain": [
       "Index(['ORIGEM', 'CODESTAB', 'CODMUNNASC', 'LOCNASC', 'IDADEMAE', 'ESTCIVMAE',\n",
       "       'ESCMAE', 'CODOCUPMAE', 'QTDFILVIVO', 'QTDFILMORT', 'CODMUNRES',\n",
       "       'GESTACAO', 'GRAVIDEZ', 'PARTO', 'CONSULTAS', 'DTNASC', 'HORANASC',\n",
       "       'SEXO', 'APGAR1', 'APGAR5', 'RACACOR', 'PESO', 'IDANOMAL', 'DTCADASTRO',\n",
       "       'CODANOMAL', 'NUMEROLOTE', 'VERSAOSIST', 'DTRECEBIM', 'DIFDATA',\n",
       "       'DTRECORIGA', 'NATURALMAE', 'CODMUNNATU', 'CODUFNATU', 'ESCMAE2010',\n",
       "       'SERIESCMAE', 'DTNASCMAE', 'RACACORMAE', 'QTDGESTANT', 'QTDPARTNOR',\n",
       "       'QTDPARTCES', 'IDADEPAI', 'DTULTMENST', 'SEMAGESTAC', 'TPMETESTIM',\n",
       "       'CONSPRENAT', 'MESPRENAT', 'TPAPRESENT', 'STTRABPART', 'STCESPARTO',\n",
       "       'TPNASCASSI', 'TPFUNCRESP', 'TPDOCRESP', 'DTDECLARAC', 'ESCMAEAGR1',\n",
       "       'STDNEPIDEM', 'STDNNOVA', 'CODPAISRES', 'TPROBSON', 'PARIDADE',\n",
       "       'KOTELCHUCK', 'CONTADOR', 'munResStatus', 'munResTipo', 'munResNome',\n",
       "       'munResUf', 'munResLat', 'munResLon', 'munResAlt', 'munResArea'],\n",
       "      dtype='object')"
      ]
     },
     "execution_count": 12,
     "metadata": {},
     "output_type": "execute_result"
    }
   ],
   "source": [
    "sinasc_raw.columns"
   ]
  },
  {
   "cell_type": "code",
   "execution_count": 13,
   "metadata": {},
   "outputs": [
    {
     "data": {
      "text/plain": [
       "ESCMAE          object\n",
       "GESTACAO        object\n",
       "GRAVIDEZ        object\n",
       "PARTO           object\n",
       "DTNASC          object\n",
       "SEXO            object\n",
       "RACACOR         object\n",
       "DTCADASTRO      object\n",
       "CODANOMAL       object\n",
       "VERSAOSIST      object\n",
       "DTRECEBIM       object\n",
       "munResStatus    object\n",
       "munResTipo      object\n",
       "munResNome      object\n",
       "munResUf        object\n",
       "dtype: object"
      ]
     },
     "execution_count": 13,
     "metadata": {},
     "output_type": "execute_result"
    }
   ],
   "source": [
    "sinasc_Novo = sinasc_raw.select_dtypes(exclude=['int64','float64'])\n",
    "sinasc_Novo.dtypes"
   ]
  },
  {
   "cell_type": "code",
   "execution_count": 14,
   "metadata": {},
   "outputs": [
    {
     "data": {
      "text/plain": [
       "Index(['ESCMAE', 'GESTACAO', 'GRAVIDEZ', 'PARTO', 'DTNASC', 'SEXO', 'RACACOR',\n",
       "       'DTCADASTRO', 'CODANOMAL', 'VERSAOSIST', 'DTRECEBIM', 'munResStatus',\n",
       "       'munResTipo', 'munResNome', 'munResUf'],\n",
       "      dtype='object')"
      ]
     },
     "execution_count": 14,
     "metadata": {},
     "output_type": "execute_result"
    }
   ],
   "source": [
    "sinasc_Novo.columns"
   ]
  },
  {
   "cell_type": "code",
   "execution_count": 98,
   "metadata": {},
   "outputs": [
    {
     "data": {
      "text/plain": [
       "26979"
      ]
     },
     "execution_count": 98,
     "metadata": {},
     "output_type": "execute_result"
    }
   ],
   "source": [
    "num_parto = sinasc_Novo['PARTO'].count()\n",
    "num_parto"
   ]
  },
  {
   "cell_type": "code",
   "execution_count": 93,
   "metadata": {},
   "outputs": [],
   "source": [
    "sinasc_Novo['CESAREO']=sinasc_Novo['PARTO']=='Cesáreo'\n",
    "sinasc_Novo['VAGINAL']=sinasc_Novo['PARTO']=='Vaginal'\n",
    "ces_mun = sinasc_Novo[['munResNome','CESAREO']]\n",
    "vag_mun = sinasc_Novo[['munResNome','VAGINAL']]"
   ]
  },
  {
   "cell_type": "code",
   "execution_count": 99,
   "metadata": {},
   "outputs": [
    {
     "data": {
      "text/plain": [
       "18036"
      ]
     },
     "execution_count": 99,
     "metadata": {},
     "output_type": "execute_result"
    }
   ],
   "source": [
    "qtd_ces_mun = ces_mun[tipo_parto_mun['CESAREO']==True]\n",
    "num_ces_mun = qtd_ces['CESAREO'].count()\n",
    "num_ces_mun"
   ]
  },
  {
   "cell_type": "code",
   "execution_count": 102,
   "metadata": {},
   "outputs": [
    {
     "data": {
      "text/plain": [
       "8943"
      ]
     },
     "execution_count": 102,
     "metadata": {},
     "output_type": "execute_result"
    }
   ],
   "source": [
    "num_vag_mun = num_parto - num_ces_mun\n",
    "num_vag_mun"
   ]
  },
  {
   "cell_type": "code",
   "execution_count": 103,
   "metadata": {},
   "outputs": [
    {
     "data": {
      "text/plain": [
       "66.85199599688647"
      ]
     },
     "execution_count": 103,
     "metadata": {},
     "output_type": "execute_result"
    }
   ],
   "source": [
    "incidencia_ces = (num_ces_mun/num_parto)*100\n",
    "incidencia_ces"
   ]
  },
  {
   "cell_type": "markdown",
   "metadata": {},
   "source": [
    "*Considerando os dados relativos aos registros de Partos, pode-se observar que o número total de Partos no ano de 2019 foi 26.979, desses 18.036 fora Partos Cesarianos. A OMD preconiza que a inciência de parto cesáreo em relação ao número total de partos realizdos em um serviço de saúde seja de 15%, quando mâe e bebê não estão em condições físicas e de saúde para um parto normal/vaginal. No entanto em 2019 o Estado de Rondônia teve uma indicência de 66,85% de partos cesarianos, ou seja 4,45 vezes maior do que o preconizado pela OMS"
   ]
  },
  {
   "cell_type": "code",
   "execution_count": 88,
   "metadata": {},
   "outputs": [
    {
     "data": {
      "text/plain": [
       "Cesáreo    18036\n",
       "Vaginal     8943\n",
       "Name: PARTO, dtype: int64"
      ]
     },
     "execution_count": 88,
     "metadata": {},
     "output_type": "execute_result"
    }
   ],
   "source": [
    "sinasc_Novo['PARTO'].value_counts()"
   ]
  },
  {
   "cell_type": "code",
   "execution_count": 109,
   "metadata": {},
   "outputs": [
    {
     "data": {
      "text/html": [
       "<div>\n",
       "<style scoped>\n",
       "    .dataframe tbody tr th:only-of-type {\n",
       "        vertical-align: middle;\n",
       "    }\n",
       "\n",
       "    .dataframe tbody tr th {\n",
       "        vertical-align: top;\n",
       "    }\n",
       "\n",
       "    .dataframe thead th {\n",
       "        text-align: right;\n",
       "    }\n",
       "</style>\n",
       "<table border=\"1\" class=\"dataframe\">\n",
       "  <thead>\n",
       "    <tr style=\"text-align: right;\">\n",
       "      <th></th>\n",
       "      <th>CESAREO</th>\n",
       "    </tr>\n",
       "    <tr>\n",
       "      <th>munResNome</th>\n",
       "      <th></th>\n",
       "    </tr>\n",
       "  </thead>\n",
       "  <tbody>\n",
       "    <tr>\n",
       "      <th>Porto Velho</th>\n",
       "      <td>4702</td>\n",
       "    </tr>\n",
       "    <tr>\n",
       "      <th>Ji-Paraná</th>\n",
       "      <td>1384</td>\n",
       "    </tr>\n",
       "    <tr>\n",
       "      <th>Vilhena</th>\n",
       "      <td>1199</td>\n",
       "    </tr>\n",
       "    <tr>\n",
       "      <th>Ariquemes</th>\n",
       "      <td>1176</td>\n",
       "    </tr>\n",
       "    <tr>\n",
       "      <th>Cacoal</th>\n",
       "      <td>1113</td>\n",
       "    </tr>\n",
       "  </tbody>\n",
       "</table>\n",
       "</div>"
      ],
      "text/plain": [
       "             CESAREO\n",
       "munResNome          \n",
       "Porto Velho     4702\n",
       "Ji-Paraná       1384\n",
       "Vilhena         1199\n",
       "Ariquemes       1176\n",
       "Cacoal          1113"
      ]
     },
     "execution_count": 109,
     "metadata": {},
     "output_type": "execute_result"
    }
   ],
   "source": [
    "qtd_ces = ces_mun[ces_mun['CESAREO']==True]\n",
    "qtd_ces_mun = qtd_ces.groupby('munResNome').count().sort_values(by = ['CESAREO'],ascending=False).head(5)\n",
    "qtd_ces_mun "
   ]
  },
  {
   "cell_type": "code",
   "execution_count": 112,
   "metadata": {},
   "outputs": [
    {
     "data": {
      "image/png": "[encoded data removed]",
      "text/plain": [
       "<Figure size 1080x360 with 1 Axes>"
      ]
     },
     "metadata": {
      "needs_background": "light"
     },
     "output_type": "display_data"
    }
   ],
   "source": [
    "qtd_ces_mun.plot(figsize=[15,5]);"
   ]
  },
  {
   "cell_type": "markdown",
   "metadata": {},
   "source": [
    "**O cinco municípios com maior número de parto cesariano são: Porto Velho, Ji-Paraná, Vilhena, Ariquemes, Cocoal"
   ]
  },
  {
   "cell_type": "code",
   "execution_count": 110,
   "metadata": {},
   "outputs": [
    {
     "data": {
      "text/html": [
       "<div>\n",
       "<style scoped>\n",
       "    .dataframe tbody tr th:only-of-type {\n",
       "        vertical-align: middle;\n",
       "    }\n",
       "\n",
       "    .dataframe tbody tr th {\n",
       "        vertical-align: top;\n",
       "    }\n",
       "\n",
       "    .dataframe thead th {\n",
       "        text-align: right;\n",
       "    }\n",
       "</style>\n",
       "<table border=\"1\" class=\"dataframe\">\n",
       "  <thead>\n",
       "    <tr style=\"text-align: right;\">\n",
       "      <th></th>\n",
       "      <th>VAGINAL</th>\n",
       "    </tr>\n",
       "    <tr>\n",
       "      <th>munResNome</th>\n",
       "      <th></th>\n",
       "    </tr>\n",
       "  </thead>\n",
       "  <tbody>\n",
       "    <tr>\n",
       "      <th>Porto Velho</th>\n",
       "      <td>3710</td>\n",
       "    </tr>\n",
       "    <tr>\n",
       "      <th>Ji-Paraná</th>\n",
       "      <td>793</td>\n",
       "    </tr>\n",
       "    <tr>\n",
       "      <th>Ariquemes</th>\n",
       "      <td>553</td>\n",
       "    </tr>\n",
       "    <tr>\n",
       "      <th>Guajará-Mirim</th>\n",
       "      <td>478</td>\n",
       "    </tr>\n",
       "    <tr>\n",
       "      <th>Vilhena</th>\n",
       "      <td>391</td>\n",
       "    </tr>\n",
       "  </tbody>\n",
       "</table>\n",
       "</div>"
      ],
      "text/plain": [
       "               VAGINAL\n",
       "munResNome            \n",
       "Porto Velho       3710\n",
       "Ji-Paraná          793\n",
       "Ariquemes          553\n",
       "Guajará-Mirim      478\n",
       "Vilhena            391"
      ]
     },
     "execution_count": 110,
     "metadata": {},
     "output_type": "execute_result"
    }
   ],
   "source": [
    "qtd_vag = vag_mun[vag_mun['VAGINAL']==True]\n",
    "qtd_vag_mun = qtd_vag.groupby('munResNome').count().sort_values(by = ['VAGINAL'],ascending=False).head(5)\n",
    "qtd_vag_mun"
   ]
  },
  {
   "cell_type": "code",
   "execution_count": 113,
   "metadata": {},
   "outputs": [
    {
     "data": {
      "image/png": "[encoded data removed]",
      "text/plain": [
       "<Figure size 1080x360 with 1 Axes>"
      ]
     },
     "metadata": {
      "needs_background": "light"
     },
     "output_type": "display_data"
    }
   ],
   "source": [
    "qtd_vag_mun.plot(figsize=[15,5]);"
   ]
  },
  {
   "cell_type": "markdown",
   "metadata": {},
   "source": [
    "**Observa-se, com excessão do municipio de Vilhena, que todos os 5 primeiros municipios apresenta uma incidência de parto cesariano acima do que é preconizado pela OMS. O que leva a uma necessidade de investigar o porquê dessa situação."
   ]
  },
  {
   "cell_type": "code",
   "execution_count": null,
   "metadata": {},
   "outputs": [],
   "source": []
  }
 ],
 "metadata": {
  "kernelspec": {
   "display_name": "Python 3 (ipykernel)",
   "language": "python",
   "name": "python3"
  },
  "language_info": {
   "codemirror_mode": {
    "name": "ipython",
    "version": 3
   },
   "file_extension": ".py",
   "mimetype": "text/x-python",
   "name": "python",
   "nbconvert_exporter": "python",
   "pygments_lexer": "ipython3",
   "version": "3.9.12"
  },
  "varInspector": {
   "cols": {
    "lenName": 16,
    "lenType": 16,
    "lenVar": 40
   },
   "kernels_config": {
    "python": {
     "delete_cmd_postfix": "",
     "delete_cmd_prefix": "del ",
     "library": "var_list.py",
     "varRefreshCmd": "print(var_dic_list())"
    },
    "r": {
     "delete_cmd_postfix": ") ",
     "delete_cmd_prefix": "rm(",
     "library": "var_list.r",
     "varRefreshCmd": "cat(var_dic_list()) "
    }
   },
   "types_to_exclude": [
    "module",
    "function",
    "builtin_function_or_method",
    "instance",
    "_Feature"
   ],
   "window_display": false
  }
 },
 "nbformat": 4,
 "nbformat_minor": 4
}
