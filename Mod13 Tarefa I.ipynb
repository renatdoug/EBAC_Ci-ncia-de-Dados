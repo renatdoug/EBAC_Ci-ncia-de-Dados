{
 "cells": [
  {
   "cell_type": "markdown",
   "metadata": {},
   "source": [
    "# EBAC - Regressão II - regressão múltipla\n",
    "\n",
    "## Tarefa I"
   ]
  },
  {
   "cell_type": "markdown",
   "metadata": {},
   "source": [
    "#### Previsão de renda\n",
    "\n",
    "Vamos trabalhar com a base 'previsao_de_renda.csv', que é a base do seu próximo projeto. Vamos usar os recursos que vimos até aqui nesta base.\n",
    "\n",
    "|variavel|descrição|\n",
    "|-|-|\n",
    "|data_ref                | Data de referência de coleta das variáveis |\n",
    "|index                   | Código de identificação do cliente|\n",
    "|sexo                    | Sexo do cliente|\n",
    "|posse_de_veiculo        | Indica se o cliente possui veículo|\n",
    "|posse_de_imovel         | Indica se o cliente possui imóvel|\n",
    "|qtd_filhos              | Quantidade de filhos do cliente|\n",
    "|tipo_renda              | Tipo de renda do cliente|\n",
    "|educacao                | Grau de instrução do cliente|\n",
    "|estado_civil            | Estado civil do cliente|\n",
    "|tipo_residencia         | Tipo de residência do cliente (própria, alugada etc)|\n",
    "|idade                   | Idade do cliente|\n",
    "|tempo_emprego           | Tempo no emprego atual|\n",
    "|qt_pessoas_residencia   | Quantidade de pessoas que moram na residência|\n",
    "|renda                   | Renda em reais|"
   ]
  },
  {
   "cell_type": "code",
   "execution_count": 1,
   "metadata": {},
   "outputs": [],
   "source": [
    "import pandas as pd\n",
    "import seaborn as sns\n",
    "import matplotlib.pyplot as plt\n",
    "import numpy as np\n",
    "\n",
    "import patsy\n",
    "import statsmodels.api as sm\n",
    "import statsmodels.formula.api as smf\n",
    "\n",
    "%matplotlib inline"
   ]
  },
  {
   "cell_type": "code",
   "execution_count": 2,
   "metadata": {},
   "outputs": [],
   "source": [
    "df = pd.read_csv('previsao_de_renda.csv')"
   ]
  },
  {
   "cell_type": "markdown",
   "metadata": {},
   "source": [
    "1. Ajuste um modelo para prever log(renda) considerando todas as covariáveis disponíveis.\n",
    "    - Utilizando os recursos do Patsy, coloque as variáveis qualitativas como *dummies*.\n",
    "    - Mantenha sempre a categoria mais frequente como casela de referência\n",
    "    - Avalie os parâmetros e veja se parecem fazer sentido prático.\n",
    "\n",
    "2. Remova a variável menos significante e analise:\n",
    "    - Observe os indicadores que vimos, e avalie se o modelo melhorou ou piorou na sua opinião.\n",
    "    - Observe os parâmetros e veja se algum se alterou muito.\n",
    "\n",
    "3. Siga removendo as variáveis menos significantes, sempre que o *p-value* for menor que 5%. Compare o modelo final com o inicial. Observe os indicadores e conclua se o modelo parece melhor. \n",
    "    "
   ]
  },
  {
   "cell_type": "code",
   "execution_count": 3,
   "metadata": {},
   "outputs": [
    {
     "data": {
      "text/plain": [
       "Unnamed: 0                  0\n",
       "data_ref                    0\n",
       "id_cliente                  0\n",
       "sexo                        0\n",
       "posse_de_veiculo            0\n",
       "posse_de_imovel             0\n",
       "qtd_filhos                  0\n",
       "tipo_renda                  0\n",
       "educacao                    0\n",
       "estado_civil                0\n",
       "tipo_residencia             0\n",
       "idade                       0\n",
       "tempo_emprego            2573\n",
       "qt_pessoas_residencia       0\n",
       "renda                       0\n",
       "dtype: int64"
      ]
     },
     "execution_count": 3,
     "metadata": {},
     "output_type": "execute_result"
    }
   ],
   "source": [
    "#Verificando variávels nulls\n",
    "df.isnull().sum()"
   ]
  },
  {
   "cell_type": "code",
   "execution_count": 4,
   "metadata": {},
   "outputs": [],
   "source": [
    "df = df.dropna()"
   ]
  },
  {
   "cell_type": "code",
   "execution_count": 5,
   "metadata": {},
   "outputs": [
    {
     "data": {
      "text/plain": [
       "Unnamed: 0               0\n",
       "data_ref                 0\n",
       "id_cliente               0\n",
       "sexo                     0\n",
       "posse_de_veiculo         0\n",
       "posse_de_imovel          0\n",
       "qtd_filhos               0\n",
       "tipo_renda               0\n",
       "educacao                 0\n",
       "estado_civil             0\n",
       "tipo_residencia          0\n",
       "idade                    0\n",
       "tempo_emprego            0\n",
       "qt_pessoas_residencia    0\n",
       "renda                    0\n",
       "dtype: int64"
      ]
     },
     "execution_count": 5,
     "metadata": {},
     "output_type": "execute_result"
    }
   ],
   "source": [
    "df.isnull().sum()"
   ]
  },
  {
   "cell_type": "markdown",
   "metadata": {},
   "source": [
    "## 1 - Ajuste um modelo para prever log(renda) considerando todas as covariáveis disponíveis."
   ]
  },
  {
   "cell_type": "code",
   "execution_count": 6,
   "metadata": {},
   "outputs": [
    {
     "name": "stdout",
     "output_type": "stream",
     "text": [
      "Index(['sexo', 'tipo_renda', 'educacao', 'estado_civil', 'tipo_residencia'], dtype='object')\n"
     ]
    }
   ],
   "source": [
    "# Lista de colunas do tipo 'object' que são as variáveis categóricas , excluindo 'data_ref'\n",
    "variaveis_qualitativas = df.drop(columns=['data_ref']).select_dtypes(include='object').columns\n",
    "print(variaveis_qualitativas)"
   ]
  },
  {
   "cell_type": "code",
   "execution_count": 7,
   "metadata": {},
   "outputs": [
    {
     "name": "stdout",
     "output_type": "stream",
     "text": [
      "sexo -> ['F' 'M']\n",
      "tipo_renda -> ['Empresário' 'Assalariado' 'Servidor público' 'Bolsista' 'Pensionista']\n",
      "educacao -> ['Secundário' 'Superior completo' 'Superior incompleto' 'Primário'\n",
      " 'Pós graduação']\n",
      "estado_civil -> ['Solteiro' 'Casado' 'Viúvo' 'União' 'Separado']\n",
      "tipo_residencia -> ['Casa' 'Governamental' 'Com os pais' 'Aluguel' 'Estúdio' 'Comunitário']\n"
     ]
    }
   ],
   "source": [
    "for col in df.columns:\n",
    "    if col in variaveis_qualitativas:\n",
    "        print(col, '->', df[col].unique())"
   ]
  },
  {
   "cell_type": "code",
   "execution_count": 8,
   "metadata": {},
   "outputs": [
    {
     "name": "stdout",
     "output_type": "stream",
     "text": [
      "Assalariado         7633\n",
      "Empresário          3508\n",
      "Servidor público    1268\n",
      "Bolsista               9\n",
      "Pensionista            9\n",
      "Name: tipo_renda, dtype: int64\n",
      "Secundário             7045\n",
      "Superior completo      4695\n",
      "Superior incompleto     558\n",
      "Primário                103\n",
      "Pós graduação            26\n",
      "Name: educacao, dtype: int64\n",
      "Casado      8897\n",
      "Solteiro    1543\n",
      "União        924\n",
      "Separado     739\n",
      "Viúvo        324\n",
      "Name: estado_civil, dtype: int64\n",
      "Casa             11071\n",
      "Com os pais        674\n",
      "Governamental      360\n",
      "Aluguel            183\n",
      "Estúdio             75\n",
      "Comunitário         64\n",
      "Name: tipo_residencia, dtype: int64\n",
      "F    7901\n",
      "M    4526\n",
      "Name: sexo, dtype: int64\n"
     ]
    }
   ],
   "source": [
    "# Verficando os niveis das categorias mais frequentes\n",
    "print(df['tipo_renda'].value_counts())\n",
    "print(df['educacao'].value_counts())\n",
    "print(df['estado_civil'].value_counts())\n",
    "print(df['tipo_residencia'].value_counts())\n",
    "print(df['sexo'].value_counts())\n"
   ]
  },
  {
   "cell_type": "code",
   "execution_count": 9,
   "metadata": {},
   "outputs": [
    {
     "name": "stdout",
     "output_type": "stream",
     "text": [
      "                            OLS Regression Results                            \n",
      "==============================================================================\n",
      "Dep. Variable:          np.log(renda)   R-squared:                       0.357\n",
      "Model:                            OLS   Adj. R-squared:                  0.356\n",
      "Method:                 Least Squares   F-statistic:                     287.5\n",
      "Date:                Sat, 13 Jan 2024   Prob (F-statistic):               0.00\n",
      "Time:                        08:26:28   Log-Likelihood:                -13568.\n",
      "No. Observations:               12427   AIC:                         2.719e+04\n",
      "Df Residuals:                   12402   BIC:                         2.737e+04\n",
      "Df Model:                          24                                         \n",
      "Covariance Type:            nonrobust                                         \n",
      "===============================================================================================================================\n",
      "                                                                  coef    std err          t      P>|t|      [0.025      0.975]\n",
      "-------------------------------------------------------------------------------------------------------------------------------\n",
      "Intercept                                                       6.5264      0.219     29.853      0.000       6.098       6.955\n",
      "C(sexo)[T.M]                                                    0.7874      0.015     53.723      0.000       0.759       0.816\n",
      "posse_de_veiculo[T.True]                                        0.0441      0.014      3.119      0.002       0.016       0.072\n",
      "posse_de_imovel[T.True]                                         0.0829      0.014      5.926      0.000       0.055       0.110\n",
      "C(tipo_renda, Treatment('Assalariado'))[T.Bolsista]             0.2209      0.241      0.916      0.360      -0.252       0.694\n",
      "C(tipo_renda, Treatment('Assalariado'))[T.Empresário]           0.1551      0.015     10.387      0.000       0.126       0.184\n",
      "C(tipo_renda, Treatment('Assalariado'))[T.Pensionista]         -0.3087      0.241     -1.280      0.201      -0.782       0.164\n",
      "C(tipo_renda, Treatment('Assalariado'))[T.Servidor público]     0.0576      0.022      2.591      0.010       0.014       0.101\n",
      "C(educacao, Treatment('Secundário'))[T.Primário]                0.0141      0.072      0.196      0.844      -0.127       0.155\n",
      "C(educacao, Treatment('Secundário'))[T.Pós graduação]           0.1212      0.142      0.853      0.394      -0.157       0.400\n",
      "C(educacao, Treatment('Secundário'))[T.Superior completo]       0.1079      0.014      7.763      0.000       0.081       0.135\n",
      "C(educacao, Treatment('Secundário'))[T.Superior incompleto]    -0.0290      0.032     -0.900      0.368      -0.092       0.034\n",
      "C(estado_civil, Treatment('Casado'))[T.Separado]                0.3265      0.111      2.935      0.003       0.108       0.545\n",
      "C(estado_civil, Treatment('Casado'))[T.Solteiro]                0.2672      0.109      2.453      0.014       0.054       0.481\n",
      "C(estado_civil, Treatment('Casado'))[T.União]                  -0.0343      0.025     -1.361      0.174      -0.084       0.015\n",
      "C(estado_civil, Treatment('Casado'))[T.Viúvo]                   0.3689      0.116      3.191      0.001       0.142       0.596\n",
      "C(tipo_residencia, Treatment('Casa'))[T.Aluguel]                0.0442      0.054      0.815      0.415      -0.062       0.150\n",
      "C(tipo_residencia, Treatment('Casa'))[T.Com os pais]            0.0184      0.029      0.625      0.532      -0.039       0.076\n",
      "C(tipo_residencia, Treatment('Casa'))[T.Comunitário]           -0.0754      0.091     -0.829      0.407      -0.254       0.103\n",
      "C(tipo_residencia, Treatment('Casa'))[T.Estúdio]                0.1107      0.084      1.319      0.187      -0.054       0.275\n",
      "C(tipo_residencia, Treatment('Casa'))[T.Governamental]         -0.0129      0.039     -0.331      0.741      -0.089       0.064\n",
      "qtd_filhos                                                     -0.2658      0.108     -2.463      0.014      -0.477      -0.054\n",
      "idade                                                           0.0053      0.001      6.624      0.000       0.004       0.007\n",
      "tempo_emprego                                                   0.0617      0.001     59.398      0.000       0.060       0.064\n",
      "qt_pessoas_residencia                                           0.2926      0.108      2.716      0.007       0.081       0.504\n",
      "==============================================================================\n",
      "Omnibus:                        0.858   Durbin-Watson:                   2.023\n",
      "Prob(Omnibus):                  0.651   Jarque-Bera (JB):                0.839\n",
      "Skew:                           0.019   Prob(JB):                        0.657\n",
      "Kurtosis:                       3.012   Cond. No.                     2.13e+03\n",
      "==============================================================================\n",
      "\n",
      "Notes:\n",
      "[1] Standard Errors assume that the covariance matrix of the errors is correctly specified.\n",
      "[2] The condition number is large, 2.13e+03. This might indicate that there are\n",
      "strong multicollinearity or other numerical problems.\n"
     ]
    }
   ],
   "source": [
    "# Usando os niveis mais frequente como casela de referência para cada variável categórica\n",
    "y, X = patsy.dmatrices('''np.log(renda) \n",
    "                    ~ C(sexo) \n",
    "                    + posse_de_veiculo \n",
    "                    + posse_de_imovel\n",
    "                    + qtd_filhos \n",
    "                    + C(tipo_renda, Treatment('Assalariado')) \n",
    "                    + C(educacao, Treatment('Secundário')) \n",
    "                    + C(estado_civil, Treatment('Casado')) \n",
    "                    + C(tipo_residencia, Treatment('Casa')) \n",
    "                    + idade\n",
    "                    + tempo_emprego\n",
    "                    + qt_pessoas_residencia\n",
    "                    + 1''', df)\n",
    "\n",
    "\n",
    "\n",
    "reg = sm.OLS(y,X).fit()\n",
    "\n",
    "print(reg.summary())"
   ]
  },
  {
   "cell_type": "markdown",
   "metadata": {},
   "source": [
    "O modelo parece apresentar uma capacidade pouca razoável de explicar a variação na renda com base nas variáveis incluídas, pois o R-squared e Adj. R-squared ambos em torno de 36%, indicam que aproximadamente 36% da variabilidade na renda é explicada pelas variáveis independentes. \n",
    "\n",
    "Além disso, o sexo masculino está associado a um log de renda 0.7874 maior do que o sexo feminino. Além disso, algumas categorias de variáveis categóricas, como tipo de renda, estado civil e tipo de residência, mostram efeitos significativos na previsão do log de renda.\n",
    "\n",
    "Para os parâmetros que apresentaram coeficientes negativos, como é o caso de C(tipo_renda, Treatment('Assalariado'))[T.Pensionista], o valor indica uma associação negativa com o log de renda. Isso sugere que, mantendo todas as outras variáveis constantes, a categoria 'Pensionista' está associada a um log de renda menor em comparação com a categoria de referência ('Assalariado'). \n",
    "\n",
    "E seguida o p-value abaixo estão as variáveis que são estatísticamente insginificantes"
   ]
  },
  {
   "cell_type": "code",
   "execution_count": 10,
   "metadata": {
    "scrolled": false
   },
   "outputs": [
    {
     "name": "stdout",
     "output_type": "stream",
     "text": [
      "Variáveis não significativas:\n",
      "\n",
      "C(tipo_renda, Treatment('Assalariado'))[T.Bolsista]: 0.36\n",
      "C(tipo_renda, Treatment('Assalariado'))[T.Pensionista]: 0.20\n",
      "C(educacao, Treatment('Secundário'))[T.Primário]: 0.84\n",
      "C(educacao, Treatment('Secundário'))[T.Pós graduação]: 0.39\n",
      "C(educacao, Treatment('Secundário'))[T.Superior incompleto]: 0.37\n",
      "C(estado_civil, Treatment('Casado'))[T.União]: 0.17\n",
      "C(tipo_residencia, Treatment('Casa'))[T.Aluguel]: 0.41\n",
      "C(tipo_residencia, Treatment('Casa'))[T.Com os pais]: 0.53\n",
      "C(tipo_residencia, Treatment('Casa'))[T.Comunitário]: 0.41\n",
      "C(tipo_residencia, Treatment('Casa'))[T.Estúdio]: 0.19\n",
      "C(tipo_residencia, Treatment('Casa'))[T.Governamental]: 0.74\n"
     ]
    }
   ],
   "source": [
    "# Extraindo variáveis não significativas com p-value acima de 0.05\n",
    "insignificant_vars = [i for i, pvalue in enumerate(reg.pvalues) if pvalue > 0.05]\n",
    "\n",
    "# Visualizando as variáveis não significativas e seus p-values\n",
    "print(\"Variáveis não significativas:\\n\")\n",
    "for i in insignificant_vars:\n",
    "    print(f\"{X.design_info.column_names[i]}: {reg.pvalues[i]:.2f}\")\n",
    "\n"
   ]
  },
  {
   "cell_type": "code",
   "execution_count": 11,
   "metadata": {},
   "outputs": [
    {
     "name": "stdout",
     "output_type": "stream",
     "text": [
      "C(tipo_renda, Treatment('Assalariado'))[T.Bolsista]\n",
      "C(tipo_renda, Treatment('Assalariado'))[T.Pensionista]\n",
      "C(educacao, Treatment('Secundário'))[T.Primário]\n",
      "C(educacao, Treatment('Secundário'))[T.Pós graduação]\n",
      "C(educacao, Treatment('Secundário'))[T.Superior incompleto]\n",
      "C(estado_civil, Treatment('Casado'))[T.União]\n",
      "C(tipo_residencia, Treatment('Casa'))[T.Aluguel]\n",
      "C(tipo_residencia, Treatment('Casa'))[T.Com os pais]\n",
      "C(tipo_residencia, Treatment('Casa'))[T.Comunitário]\n",
      "C(tipo_residencia, Treatment('Casa'))[T.Estúdio]\n",
      "C(tipo_residencia, Treatment('Casa'))[T.Governamental]\n"
     ]
    }
   ],
   "source": [
    "for i in insignificant_vars:\n",
    "    print(X.design_info.column_names[i])"
   ]
  },
  {
   "cell_type": "markdown",
   "metadata": {},
   "source": [
    "# 2 Remova a variável menos significante e analise:"
   ]
  },
  {
   "cell_type": "code",
   "execution_count": 12,
   "metadata": {},
   "outputs": [],
   "source": [
    "# Lista de valores a serem excluídos\n",
    "excluded_values = ['Bolsista', 'Pensionista', 'Primário', 'Pós graduação', 'Superior incompleto', 'União', 'Aluguel',\n",
    "                     'Com os pais', 'Comunitário', 'Estudio', 'Governamental']"
   ]
  },
  {
   "cell_type": "code",
   "execution_count": 13,
   "metadata": {},
   "outputs": [],
   "source": [
    "# Excluindo linhas que contenham os valores específicos em qualquer coluna e criando um novo DataFrame\n",
    "df_new = df[~df.isin(excluded_values).any(axis=1)]"
   ]
  },
  {
   "cell_type": "code",
   "execution_count": 14,
   "metadata": {},
   "outputs": [
    {
     "name": "stdout",
     "output_type": "stream",
     "text": [
      "DataFrame sem os valores insignificantes:\n"
     ]
    },
    {
     "data": {
      "text/html": [
       "<div>\n",
       "<style scoped>\n",
       "    .dataframe tbody tr th:only-of-type {\n",
       "        vertical-align: middle;\n",
       "    }\n",
       "\n",
       "    .dataframe tbody tr th {\n",
       "        vertical-align: top;\n",
       "    }\n",
       "\n",
       "    .dataframe thead th {\n",
       "        text-align: right;\n",
       "    }\n",
       "</style>\n",
       "<table border=\"1\" class=\"dataframe\">\n",
       "  <thead>\n",
       "    <tr style=\"text-align: right;\">\n",
       "      <th></th>\n",
       "      <th>Unnamed: 0</th>\n",
       "      <th>data_ref</th>\n",
       "      <th>id_cliente</th>\n",
       "      <th>sexo</th>\n",
       "      <th>posse_de_veiculo</th>\n",
       "      <th>posse_de_imovel</th>\n",
       "      <th>qtd_filhos</th>\n",
       "      <th>tipo_renda</th>\n",
       "      <th>educacao</th>\n",
       "      <th>estado_civil</th>\n",
       "      <th>tipo_residencia</th>\n",
       "      <th>idade</th>\n",
       "      <th>tempo_emprego</th>\n",
       "      <th>qt_pessoas_residencia</th>\n",
       "      <th>renda</th>\n",
       "    </tr>\n",
       "  </thead>\n",
       "  <tbody>\n",
       "    <tr>\n",
       "      <th>0</th>\n",
       "      <td>0</td>\n",
       "      <td>2015-01-01</td>\n",
       "      <td>15056</td>\n",
       "      <td>F</td>\n",
       "      <td>False</td>\n",
       "      <td>True</td>\n",
       "      <td>0</td>\n",
       "      <td>Empresário</td>\n",
       "      <td>Secundário</td>\n",
       "      <td>Solteiro</td>\n",
       "      <td>Casa</td>\n",
       "      <td>26</td>\n",
       "      <td>6.602740</td>\n",
       "      <td>1.0</td>\n",
       "      <td>8060.34</td>\n",
       "    </tr>\n",
       "    <tr>\n",
       "      <th>1</th>\n",
       "      <td>1</td>\n",
       "      <td>2015-01-01</td>\n",
       "      <td>9968</td>\n",
       "      <td>M</td>\n",
       "      <td>True</td>\n",
       "      <td>True</td>\n",
       "      <td>0</td>\n",
       "      <td>Assalariado</td>\n",
       "      <td>Superior completo</td>\n",
       "      <td>Casado</td>\n",
       "      <td>Casa</td>\n",
       "      <td>28</td>\n",
       "      <td>7.183562</td>\n",
       "      <td>2.0</td>\n",
       "      <td>1852.15</td>\n",
       "    </tr>\n",
       "    <tr>\n",
       "      <th>2</th>\n",
       "      <td>2</td>\n",
       "      <td>2015-01-01</td>\n",
       "      <td>4312</td>\n",
       "      <td>F</td>\n",
       "      <td>True</td>\n",
       "      <td>True</td>\n",
       "      <td>0</td>\n",
       "      <td>Empresário</td>\n",
       "      <td>Superior completo</td>\n",
       "      <td>Casado</td>\n",
       "      <td>Casa</td>\n",
       "      <td>35</td>\n",
       "      <td>0.838356</td>\n",
       "      <td>2.0</td>\n",
       "      <td>2253.89</td>\n",
       "    </tr>\n",
       "    <tr>\n",
       "      <th>3</th>\n",
       "      <td>3</td>\n",
       "      <td>2015-01-01</td>\n",
       "      <td>10639</td>\n",
       "      <td>F</td>\n",
       "      <td>False</td>\n",
       "      <td>True</td>\n",
       "      <td>1</td>\n",
       "      <td>Servidor público</td>\n",
       "      <td>Superior completo</td>\n",
       "      <td>Casado</td>\n",
       "      <td>Casa</td>\n",
       "      <td>30</td>\n",
       "      <td>4.846575</td>\n",
       "      <td>3.0</td>\n",
       "      <td>6600.77</td>\n",
       "    </tr>\n",
       "    <tr>\n",
       "      <th>5</th>\n",
       "      <td>5</td>\n",
       "      <td>2015-01-01</td>\n",
       "      <td>10581</td>\n",
       "      <td>F</td>\n",
       "      <td>False</td>\n",
       "      <td>True</td>\n",
       "      <td>0</td>\n",
       "      <td>Assalariado</td>\n",
       "      <td>Superior completo</td>\n",
       "      <td>Casado</td>\n",
       "      <td>Casa</td>\n",
       "      <td>39</td>\n",
       "      <td>4.345205</td>\n",
       "      <td>2.0</td>\n",
       "      <td>1445.87</td>\n",
       "    </tr>\n",
       "  </tbody>\n",
       "</table>\n",
       "</div>"
      ],
      "text/plain": [
       "   Unnamed: 0    data_ref  id_cliente sexo  posse_de_veiculo  posse_de_imovel  \\\n",
       "0           0  2015-01-01       15056    F             False             True   \n",
       "1           1  2015-01-01        9968    M              True             True   \n",
       "2           2  2015-01-01        4312    F              True             True   \n",
       "3           3  2015-01-01       10639    F             False             True   \n",
       "5           5  2015-01-01       10581    F             False             True   \n",
       "\n",
       "   qtd_filhos        tipo_renda           educacao estado_civil  \\\n",
       "0           0        Empresário         Secundário     Solteiro   \n",
       "1           0       Assalariado  Superior completo       Casado   \n",
       "2           0        Empresário  Superior completo       Casado   \n",
       "3           1  Servidor público  Superior completo       Casado   \n",
       "5           0       Assalariado  Superior completo       Casado   \n",
       "\n",
       "  tipo_residencia  idade  tempo_emprego  qt_pessoas_residencia    renda  \n",
       "0            Casa     26       6.602740                    1.0  8060.34  \n",
       "1            Casa     28       7.183562                    2.0  1852.15  \n",
       "2            Casa     35       0.838356                    2.0  2253.89  \n",
       "3            Casa     30       4.846575                    3.0  6600.77  \n",
       "5            Casa     39       4.345205                    2.0  1445.87  "
      ]
     },
     "execution_count": 14,
     "metadata": {},
     "output_type": "execute_result"
    }
   ],
   "source": [
    "# Visualizando do novo DataFrame resultante\n",
    "print(\"DataFrame sem os valores insignificantes:\")\n",
    "df_new.head()"
   ]
  },
  {
   "cell_type": "code",
   "execution_count": 15,
   "metadata": {},
   "outputs": [
    {
     "data": {
      "text/plain": [
       "Index(['Unnamed: 0', 'data_ref', 'id_cliente', 'sexo', 'posse_de_veiculo',\n",
       "       'posse_de_imovel', 'qtd_filhos', 'tipo_renda', 'educacao',\n",
       "       'estado_civil', 'tipo_residencia', 'idade', 'tempo_emprego',\n",
       "       'qt_pessoas_residencia', 'renda'],\n",
       "      dtype='object')"
      ]
     },
     "execution_count": 15,
     "metadata": {},
     "output_type": "execute_result"
    }
   ],
   "source": [
    "df_new.columns"
   ]
  },
  {
   "cell_type": "code",
   "execution_count": 16,
   "metadata": {},
   "outputs": [
    {
     "name": "stdout",
     "output_type": "stream",
     "text": [
      "Index(['sexo', 'tipo_renda', 'educacao', 'estado_civil', 'tipo_residencia'], dtype='object')\n"
     ]
    }
   ],
   "source": [
    "# Lista de colunas do tipo 'object' que são as variáveis categóricas , excluindo 'data_ref'\n",
    "var_new = df_new.drop(columns=['data_ref']).select_dtypes(include='object').columns\n",
    "print(var_new)"
   ]
  },
  {
   "cell_type": "code",
   "execution_count": 17,
   "metadata": {},
   "outputs": [
    {
     "name": "stdout",
     "output_type": "stream",
     "text": [
      "sexo -> ['F' 'M']\n",
      "tipo_renda -> ['Empresário' 'Assalariado' 'Servidor público']\n",
      "educacao -> ['Secundário' 'Superior completo']\n",
      "estado_civil -> ['Solteiro' 'Casado' 'Viúvo' 'Separado']\n",
      "tipo_residencia -> ['Casa' 'Estúdio']\n"
     ]
    }
   ],
   "source": [
    "for col in df_new.columns:\n",
    "    if col in var_new:\n",
    "        print(col, '->', df_new[col].unique())"
   ]
  },
  {
   "cell_type": "code",
   "execution_count": 18,
   "metadata": {},
   "outputs": [
    {
     "name": "stdout",
     "output_type": "stream",
     "text": [
      "Assalariado         6021\n",
      "Empresário          2724\n",
      "Servidor público    1040\n",
      "Name: tipo_renda, dtype: int64\n",
      "Secundário           5872\n",
      "Superior completo    3913\n",
      "Name: educacao, dtype: int64\n",
      "Casado      7631\n",
      "Solteiro    1218\n",
      "Separado     644\n",
      "Viúvo        292\n",
      "Name: estado_civil, dtype: int64\n",
      "Casa       9717\n",
      "Estúdio      68\n",
      "Name: tipo_residencia, dtype: int64\n",
      "F    6282\n",
      "M    3503\n",
      "Name: sexo, dtype: int64\n"
     ]
    }
   ],
   "source": [
    "# Verficando os niveis das categorias mais frequentes\n",
    "print(df_new['tipo_renda'].value_counts())\n",
    "print(df_new['educacao'].value_counts())\n",
    "print(df_new['estado_civil'].value_counts())\n",
    "print(df_new['tipo_residencia'].value_counts())\n",
    "print(df_new['sexo'].value_counts())"
   ]
  },
  {
   "cell_type": "code",
   "execution_count": 19,
   "metadata": {},
   "outputs": [],
   "source": [
    "# Usando os niveis mais frequente como casela de referência para cada variável categórica\n",
    "y_new, X_new = patsy.dmatrices('''np.log(renda)\n",
    "                    ~ C(sexo)\n",
    "                    + posse_de_veiculo\n",
    "                    + posse_de_imovel\n",
    "                    + qtd_filhos\n",
    "                    + C(tipo_renda, Treatment('Assalariado'))\n",
    "                    + C(educacao, Treatment('Secundário'))\n",
    "                    + C(estado_civil, Treatment('Casado'))\n",
    "                    + C(tipo_residencia, Treatment('Casa'))\n",
    "                    + idade\n",
    "                    + tempo_emprego\n",
    "                    + qt_pessoas_residencia\n",
    "                    + 1''', df_new)\n",
    "\n",
    "\n",
    "\n",
    "reg_new = sm.OLS(y_new, X_new).fit()"
   ]
  },
  {
   "cell_type": "code",
   "execution_count": 20,
   "metadata": {},
   "outputs": [
    {
     "name": "stdout",
     "output_type": "stream",
     "text": [
      "                            OLS Regression Results                            \n",
      "==============================================================================\n",
      "Dep. Variable:          np.log(renda)   R-squared:                       0.364\n",
      "Model:                            OLS   Adj. R-squared:                  0.364\n",
      "Method:                 Least Squares   F-statistic:                     400.2\n",
      "Date:                Sat, 13 Jan 2024   Prob (F-statistic):               0.00\n",
      "Time:                        08:29:42   Log-Likelihood:                -10759.\n",
      "No. Observations:                9785   AIC:                         2.155e+04\n",
      "Df Residuals:                    9770   BIC:                         2.166e+04\n",
      "Df Model:                          14                                         \n",
      "Covariance Type:            nonrobust                                         \n",
      "===============================================================================================================================\n",
      "                                                                  coef    std err          t      P>|t|      [0.025      0.975]\n",
      "-------------------------------------------------------------------------------------------------------------------------------\n",
      "Intercept                                                       6.4486      0.237     27.233      0.000       5.984       6.913\n",
      "C(sexo)[T.M]                                                    0.8142      0.017     48.829      0.000       0.782       0.847\n",
      "posse_de_veiculo[T.True]                                        0.0422      0.016      2.636      0.008       0.011       0.074\n",
      "posse_de_imovel[T.True]                                         0.0913      0.016      5.698      0.000       0.060       0.123\n",
      "C(tipo_renda, Treatment('Assalariado'))[T.Empresário]           0.1670      0.017      9.823      0.000       0.134       0.200\n",
      "C(tipo_renda, Treatment('Assalariado'))[T.Servidor público]     0.0522      0.025      2.103      0.035       0.004       0.101\n",
      "C(educacao, Treatment('Secundário'))[T.Superior completo]       0.0988      0.015      6.442      0.000       0.069       0.129\n",
      "C(estado_civil, Treatment('Casado'))[T.Separado]                0.3729      0.120      3.098      0.002       0.137       0.609\n",
      "C(estado_civil, Treatment('Casado'))[T.Solteiro]                0.3168      0.118      2.685      0.007       0.086       0.548\n",
      "C(estado_civil, Treatment('Casado'))[T.Viúvo]                   0.4123      0.125      3.305      0.001       0.168       0.657\n",
      "C(tipo_residencia, Treatment('Casa'))[T.Estúdio]                0.0874      0.089      0.983      0.326      -0.087       0.262\n",
      "qtd_filhos                                                     -0.3242      0.117     -2.775      0.006      -0.553      -0.095\n",
      "idade                                                           0.0046      0.001      5.170      0.000       0.003       0.006\n",
      "tempo_emprego                                                   0.0616      0.001     53.332      0.000       0.059       0.064\n",
      "qt_pessoas_residencia                                           0.3423      0.117      2.936      0.003       0.114       0.571\n",
      "==============================================================================\n",
      "Omnibus:                        1.264   Durbin-Watson:                   2.015\n",
      "Prob(Omnibus):                  0.532   Jarque-Bera (JB):                1.296\n",
      "Skew:                           0.023   Prob(JB):                        0.523\n",
      "Kurtosis:                       2.967   Cond. No.                     2.07e+03\n",
      "==============================================================================\n",
      "\n",
      "Notes:\n",
      "[1] Standard Errors assume that the covariance matrix of the errors is correctly specified.\n",
      "[2] The condition number is large, 2.07e+03. This might indicate that there are\n",
      "strong multicollinearity or other numerical problems.\n"
     ]
    }
   ],
   "source": [
    "print(reg_new.summary())"
   ]
  },
  {
   "cell_type": "markdown",
   "metadata": {},
   "source": [
    "O novo modelo reg_new, baseado pelo vlaores do R-squared e Adj. R-squared não apresenta diferença, quando ao percentual da variável resposta que pode ser explicado. Porém o AIC apresentou mudança:\n",
    " * AIC: 2.719e+04 no primeiro modelo, \n",
    " * AIC: 2.155e+04 no segundo modelo\n",
    " \n",
    " O AIC do segundo modelo apresenta menor valor, mostrando que esse novo modelo tem qualidade melhor que o primeiro, sendo mais simples que o primeiro.\n",
    " \n",
    " O p-value manteve seus valores de significância para as variáveis que continuaram no modelo"
   ]
  },
  {
   "cell_type": "code",
   "execution_count": null,
   "metadata": {},
   "outputs": [],
   "source": []
  },
  {
   "cell_type": "code",
   "execution_count": 21,
   "metadata": {},
   "outputs": [
    {
     "name": "stdout",
     "output_type": "stream",
     "text": [
      "DataFrame sem os valores insignificantes:\n"
     ]
    },
    {
     "data": {
      "text/html": [
       "<div>\n",
       "<style scoped>\n",
       "    .dataframe tbody tr th:only-of-type {\n",
       "        vertical-align: middle;\n",
       "    }\n",
       "\n",
       "    .dataframe tbody tr th {\n",
       "        vertical-align: top;\n",
       "    }\n",
       "\n",
       "    .dataframe thead th {\n",
       "        text-align: right;\n",
       "    }\n",
       "</style>\n",
       "<table border=\"1\" class=\"dataframe\">\n",
       "  <thead>\n",
       "    <tr style=\"text-align: right;\">\n",
       "      <th></th>\n",
       "      <th>Unnamed: 0</th>\n",
       "      <th>data_ref</th>\n",
       "      <th>id_cliente</th>\n",
       "      <th>sexo</th>\n",
       "      <th>posse_de_veiculo</th>\n",
       "      <th>posse_de_imovel</th>\n",
       "      <th>qtd_filhos</th>\n",
       "      <th>tipo_renda</th>\n",
       "      <th>educacao</th>\n",
       "      <th>estado_civil</th>\n",
       "      <th>tipo_residencia</th>\n",
       "      <th>idade</th>\n",
       "      <th>tempo_emprego</th>\n",
       "      <th>qt_pessoas_residencia</th>\n",
       "      <th>renda</th>\n",
       "    </tr>\n",
       "  </thead>\n",
       "  <tbody>\n",
       "    <tr>\n",
       "      <th>0</th>\n",
       "      <td>0</td>\n",
       "      <td>2015-01-01</td>\n",
       "      <td>15056</td>\n",
       "      <td>F</td>\n",
       "      <td>False</td>\n",
       "      <td>True</td>\n",
       "      <td>0</td>\n",
       "      <td>Empresário</td>\n",
       "      <td>Secundário</td>\n",
       "      <td>Solteiro</td>\n",
       "      <td>Casa</td>\n",
       "      <td>26</td>\n",
       "      <td>6.602740</td>\n",
       "      <td>1.0</td>\n",
       "      <td>8060.34</td>\n",
       "    </tr>\n",
       "    <tr>\n",
       "      <th>1</th>\n",
       "      <td>1</td>\n",
       "      <td>2015-01-01</td>\n",
       "      <td>9968</td>\n",
       "      <td>M</td>\n",
       "      <td>True</td>\n",
       "      <td>True</td>\n",
       "      <td>0</td>\n",
       "      <td>Assalariado</td>\n",
       "      <td>Superior completo</td>\n",
       "      <td>Casado</td>\n",
       "      <td>Casa</td>\n",
       "      <td>28</td>\n",
       "      <td>7.183562</td>\n",
       "      <td>2.0</td>\n",
       "      <td>1852.15</td>\n",
       "    </tr>\n",
       "    <tr>\n",
       "      <th>2</th>\n",
       "      <td>2</td>\n",
       "      <td>2015-01-01</td>\n",
       "      <td>4312</td>\n",
       "      <td>F</td>\n",
       "      <td>True</td>\n",
       "      <td>True</td>\n",
       "      <td>0</td>\n",
       "      <td>Empresário</td>\n",
       "      <td>Superior completo</td>\n",
       "      <td>Casado</td>\n",
       "      <td>Casa</td>\n",
       "      <td>35</td>\n",
       "      <td>0.838356</td>\n",
       "      <td>2.0</td>\n",
       "      <td>2253.89</td>\n",
       "    </tr>\n",
       "    <tr>\n",
       "      <th>3</th>\n",
       "      <td>3</td>\n",
       "      <td>2015-01-01</td>\n",
       "      <td>10639</td>\n",
       "      <td>F</td>\n",
       "      <td>False</td>\n",
       "      <td>True</td>\n",
       "      <td>1</td>\n",
       "      <td>Servidor público</td>\n",
       "      <td>Superior completo</td>\n",
       "      <td>Casado</td>\n",
       "      <td>Casa</td>\n",
       "      <td>30</td>\n",
       "      <td>4.846575</td>\n",
       "      <td>3.0</td>\n",
       "      <td>6600.77</td>\n",
       "    </tr>\n",
       "    <tr>\n",
       "      <th>5</th>\n",
       "      <td>5</td>\n",
       "      <td>2015-01-01</td>\n",
       "      <td>10581</td>\n",
       "      <td>F</td>\n",
       "      <td>False</td>\n",
       "      <td>True</td>\n",
       "      <td>0</td>\n",
       "      <td>Assalariado</td>\n",
       "      <td>Superior completo</td>\n",
       "      <td>Casado</td>\n",
       "      <td>Casa</td>\n",
       "      <td>39</td>\n",
       "      <td>4.345205</td>\n",
       "      <td>2.0</td>\n",
       "      <td>1445.87</td>\n",
       "    </tr>\n",
       "  </tbody>\n",
       "</table>\n",
       "</div>"
      ],
      "text/plain": [
       "   Unnamed: 0    data_ref  id_cliente sexo  posse_de_veiculo  posse_de_imovel  \\\n",
       "0           0  2015-01-01       15056    F             False             True   \n",
       "1           1  2015-01-01        9968    M              True             True   \n",
       "2           2  2015-01-01        4312    F              True             True   \n",
       "3           3  2015-01-01       10639    F             False             True   \n",
       "5           5  2015-01-01       10581    F             False             True   \n",
       "\n",
       "   qtd_filhos        tipo_renda           educacao estado_civil  \\\n",
       "0           0        Empresário         Secundário     Solteiro   \n",
       "1           0       Assalariado  Superior completo       Casado   \n",
       "2           0        Empresário  Superior completo       Casado   \n",
       "3           1  Servidor público  Superior completo       Casado   \n",
       "5           0       Assalariado  Superior completo       Casado   \n",
       "\n",
       "  tipo_residencia  idade  tempo_emprego  qt_pessoas_residencia    renda  \n",
       "0            Casa     26       6.602740                    1.0  8060.34  \n",
       "1            Casa     28       7.183562                    2.0  1852.15  \n",
       "2            Casa     35       0.838356                    2.0  2253.89  \n",
       "3            Casa     30       4.846575                    3.0  6600.77  \n",
       "5            Casa     39       4.345205                    2.0  1445.87  "
      ]
     },
     "execution_count": 21,
     "metadata": {},
     "output_type": "execute_result"
    }
   ],
   "source": [
    "# Lista de valores a serem excluídos\n",
    "excluded_val = ['Estudio']\n",
    "# Excluindo linhas que contenham os valores específicos em qualquer coluna e criando um novo DataFrame\n",
    "df_new2 = df_new[~df_new.isin(excluded_val).any(axis=1)]\n",
    "# Visualizando do novo DataFrame resultante\n",
    "print(\"DataFrame sem os valores insignificantes:\")\n",
    "df_new2.head()"
   ]
  },
  {
   "cell_type": "code",
   "execution_count": 22,
   "metadata": {},
   "outputs": [
    {
     "name": "stdout",
     "output_type": "stream",
     "text": [
      "Index(['sexo', 'tipo_renda', 'educacao', 'estado_civil', 'tipo_residencia'], dtype='object')\n"
     ]
    }
   ],
   "source": [
    "# Lista de colunas do tipo 'object' que são as variáveis categóricas , excluindo 'data_ref'\n",
    "var_new2 = df_new.drop(columns=['data_ref']).select_dtypes(include='object').columns\n",
    "print(var_new2)"
   ]
  },
  {
   "cell_type": "code",
   "execution_count": 23,
   "metadata": {},
   "outputs": [
    {
     "name": "stdout",
     "output_type": "stream",
     "text": [
      "                            OLS Regression Results                            \n",
      "==============================================================================\n",
      "Dep. Variable:          np.log(renda)   R-squared:                       0.364\n",
      "Model:                            OLS   Adj. R-squared:                  0.364\n",
      "Method:                 Least Squares   F-statistic:                     400.2\n",
      "Date:                Sat, 13 Jan 2024   Prob (F-statistic):               0.00\n",
      "Time:                        08:44:58   Log-Likelihood:                -10759.\n",
      "No. Observations:                9785   AIC:                         2.155e+04\n",
      "Df Residuals:                    9770   BIC:                         2.166e+04\n",
      "Df Model:                          14                                         \n",
      "Covariance Type:            nonrobust                                         \n",
      "===============================================================================================================================\n",
      "                                                                  coef    std err          t      P>|t|      [0.025      0.975]\n",
      "-------------------------------------------------------------------------------------------------------------------------------\n",
      "Intercept                                                       6.4486      0.237     27.233      0.000       5.984       6.913\n",
      "C(sexo)[T.M]                                                    0.8142      0.017     48.829      0.000       0.782       0.847\n",
      "posse_de_veiculo[T.True]                                        0.0422      0.016      2.636      0.008       0.011       0.074\n",
      "posse_de_imovel[T.True]                                         0.0913      0.016      5.698      0.000       0.060       0.123\n",
      "C(tipo_renda, Treatment('Assalariado'))[T.Empresário]           0.1670      0.017      9.823      0.000       0.134       0.200\n",
      "C(tipo_renda, Treatment('Assalariado'))[T.Servidor público]     0.0522      0.025      2.103      0.035       0.004       0.101\n",
      "C(educacao, Treatment('Secundário'))[T.Superior completo]       0.0988      0.015      6.442      0.000       0.069       0.129\n",
      "C(estado_civil, Treatment('Casado'))[T.Separado]                0.3729      0.120      3.098      0.002       0.137       0.609\n",
      "C(estado_civil, Treatment('Casado'))[T.Solteiro]                0.3168      0.118      2.685      0.007       0.086       0.548\n",
      "C(estado_civil, Treatment('Casado'))[T.Viúvo]                   0.4123      0.125      3.305      0.001       0.168       0.657\n",
      "C(tipo_residencia, Treatment('Casa'))[T.Estúdio]                0.0874      0.089      0.983      0.326      -0.087       0.262\n",
      "qtd_filhos                                                     -0.3242      0.117     -2.775      0.006      -0.553      -0.095\n",
      "idade                                                           0.0046      0.001      5.170      0.000       0.003       0.006\n",
      "tempo_emprego                                                   0.0616      0.001     53.332      0.000       0.059       0.064\n",
      "qt_pessoas_residencia                                           0.3423      0.117      2.936      0.003       0.114       0.571\n",
      "==============================================================================\n",
      "Omnibus:                        1.264   Durbin-Watson:                   2.015\n",
      "Prob(Omnibus):                  0.532   Jarque-Bera (JB):                1.296\n",
      "Skew:                           0.023   Prob(JB):                        0.523\n",
      "Kurtosis:                       2.967   Cond. No.                     2.07e+03\n",
      "==============================================================================\n",
      "\n",
      "Notes:\n",
      "[1] Standard Errors assume that the covariance matrix of the errors is correctly specified.\n",
      "[2] The condition number is large, 2.07e+03. This might indicate that there are\n",
      "strong multicollinearity or other numerical problems.\n"
     ]
    }
   ],
   "source": [
    "# Usando os niveis mais frequente como casela de referência para cada variável categórica\n",
    "y_new2, X_new2 = patsy.dmatrices('''np.log(renda)\n",
    "                    ~ C(sexo)\n",
    "                    + posse_de_veiculo\n",
    "                    + posse_de_imovel\n",
    "                    + qtd_filhos\n",
    "                    + C(tipo_renda, Treatment('Assalariado'))\n",
    "                    + C(educacao, Treatment('Secundário'))\n",
    "                    + C(estado_civil, Treatment('Casado'))\n",
    "                    + C(tipo_residencia, Treatment('Casa'))\n",
    "                    + idade\n",
    "                    + tempo_emprego\n",
    "                    + qt_pessoas_residencia\n",
    "                    + 1''', df_new)\n",
    "\n",
    "\n",
    "\n",
    "reg_new2 = sm.OLS(y_new2, X_new2).fit()\n",
    "print(reg_new2.summary())"
   ]
  },
  {
   "cell_type": "code",
   "execution_count": 25,
   "metadata": {},
   "outputs": [
    {
     "data": {
      "text/plain": [
       "array(['Casa', 'Estúdio'], dtype=object)"
      ]
     },
     "execution_count": 25,
     "metadata": {},
     "output_type": "execute_result"
    }
   ],
   "source": [
    "df_new2['tipo_residencia'].unique()"
   ]
  },
  {
   "cell_type": "markdown",
   "metadata": {},
   "source": [
    "## Removendo a variável tipo_residenencia"
   ]
  },
  {
   "cell_type": "code",
   "execution_count": 27,
   "metadata": {},
   "outputs": [
    {
     "name": "stdout",
     "output_type": "stream",
     "text": [
      "                            OLS Regression Results                            \n",
      "==============================================================================\n",
      "Dep. Variable:          np.log(renda)   R-squared:                       0.364\n",
      "Model:                            OLS   Adj. R-squared:                  0.364\n",
      "Method:                 Least Squares   F-statistic:                     430.9\n",
      "Date:                Sat, 13 Jan 2024   Prob (F-statistic):               0.00\n",
      "Time:                        08:47:37   Log-Likelihood:                -10759.\n",
      "No. Observations:                9785   AIC:                         2.155e+04\n",
      "Df Residuals:                    9771   BIC:                         2.165e+04\n",
      "Df Model:                          13                                         \n",
      "Covariance Type:            nonrobust                                         \n",
      "===============================================================================================================================\n",
      "                                                                  coef    std err          t      P>|t|      [0.025      0.975]\n",
      "-------------------------------------------------------------------------------------------------------------------------------\n",
      "Intercept                                                       6.4473      0.237     27.229      0.000       5.983       6.911\n",
      "C(sexo)[T.M]                                                    0.8152      0.017     48.962      0.000       0.783       0.848\n",
      "posse_de_veiculo[T.True]                                        0.0426      0.016      2.661      0.008       0.011       0.074\n",
      "posse_de_imovel[T.True]                                         0.0909      0.016      5.674      0.000       0.059       0.122\n",
      "C(tipo_renda, Treatment('Assalariado'))[T.Empresário]           0.1675      0.017      9.861      0.000       0.134       0.201\n",
      "C(tipo_renda, Treatment('Assalariado'))[T.Servidor público]     0.0532      0.025      2.146      0.032       0.005       0.102\n",
      "C(educacao, Treatment('Secundário'))[T.Superior completo]       0.0989      0.015      6.455      0.000       0.069       0.129\n",
      "C(estado_civil, Treatment('Casado'))[T.Separado]                0.3733      0.120      3.102      0.002       0.137       0.609\n",
      "C(estado_civil, Treatment('Casado'))[T.Solteiro]                0.3173      0.118      2.689      0.007       0.086       0.549\n",
      "C(estado_civil, Treatment('Casado'))[T.Viúvo]                   0.4123      0.125      3.304      0.001       0.168       0.657\n",
      "qtd_filhos                                                     -0.3243      0.117     -2.776      0.006      -0.553      -0.095\n",
      "idade                                                           0.0046      0.001      5.188      0.000       0.003       0.006\n",
      "tempo_emprego                                                   0.0616      0.001     53.351      0.000       0.059       0.064\n",
      "qt_pessoas_residencia                                           0.3426      0.117      2.937      0.003       0.114       0.571\n",
      "==============================================================================\n",
      "Omnibus:                        1.250   Durbin-Watson:                   2.015\n",
      "Prob(Omnibus):                  0.535   Jarque-Bera (JB):                1.282\n",
      "Skew:                           0.023   Prob(JB):                        0.527\n",
      "Kurtosis:                       2.968   Cond. No.                     2.07e+03\n",
      "==============================================================================\n",
      "\n",
      "Notes:\n",
      "[1] Standard Errors assume that the covariance matrix of the errors is correctly specified.\n",
      "[2] The condition number is large, 2.07e+03. This might indicate that there are\n",
      "strong multicollinearity or other numerical problems.\n"
     ]
    }
   ],
   "source": [
    "# Usando os niveis mais frequente como casela de referência para cada variável categórica\n",
    "y_new3, X_new3 = patsy.dmatrices('''np.log(renda)\n",
    "                    ~ C(sexo)\n",
    "                    + posse_de_veiculo\n",
    "                    + posse_de_imovel\n",
    "                    + qtd_filhos\n",
    "                    + C(tipo_renda, Treatment('Assalariado'))\n",
    "                    + C(educacao, Treatment('Secundário'))\n",
    "                    + C(estado_civil, Treatment('Casado'))\n",
    "                    + idade\n",
    "                    + tempo_emprego\n",
    "                    + qt_pessoas_residencia\n",
    "                    + 1''', df_new)\n",
    "\n",
    "\n",
    "\n",
    "reg_new3 = sm.OLS(y_new3, X_new3).fit()\n",
    "print(reg_new3.summary())"
   ]
  },
  {
   "cell_type": "markdown",
   "metadata": {},
   "source": [
    "Ao remover todsas a variáveis cujo p-value é maior que 0.05 não foi obseservado melhoria no modelo."
   ]
  }
 ],
 "metadata": {
  "kernelspec": {
   "display_name": "Python 3 (ipykernel)",
   "language": "python",
   "name": "python3"
  },
  "language_info": {
   "codemirror_mode": {
    "name": "ipython",
    "version": 3
   },
   "file_extension": ".py",
   "mimetype": "text/x-python",
   "name": "python",
   "nbconvert_exporter": "python",
   "pygments_lexer": "ipython3",
   "version": "3.10.9"
  }
 },
 "nbformat": 4,
 "nbformat_minor": 4
}
