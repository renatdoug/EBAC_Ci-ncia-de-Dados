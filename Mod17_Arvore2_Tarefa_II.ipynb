{
  "cells": [
    {
      "cell_type": "markdown",
      "metadata": {
        "id": "yaTTa91qFzQO"
      },
      "source": [
        "# Árvores II - Tarefa 2"
      ]
    },
    {
      "cell_type": "code",
      "source": [
        "from google.colab import drive\n",
        "drive.mount('/content/drive')"
      ],
      "metadata": {
        "colab": {
          "base_uri": "https://localhost:8080/"
        },
        "id": "6RBvOuqBF2__",
        "outputId": "98de00e7-9b9e-4e20-8ac9-e622c4406d21"
      },
      "execution_count": 1,
      "outputs": [
        {
          "output_type": "stream",
          "name": "stdout",
          "text": [
            "Mounted at /content/drive\n"
          ]
        }
      ]
    },
    {
      "cell_type": "markdown",
      "metadata": {
        "id": "Ppu-Q1v9FzQb"
      },
      "source": [
        "### 1. Carregar as bases\n",
        "\n",
        "Vamos carregar as bases lidas na tarefa passada. Se você salvou essas bases em arquivo texto, basta fazer a leitura com o comando ```pd.read_csv``` das seguintes bases:\n",
        "\n",
        "- X_train\n",
        "- Y_train\n",
        "- X_test\n",
        "- Y_test\n",
        "\n",
        "Não se esqueça de considerar a leitura dos índices dos arquivos no ```read_csv()```!"
      ]
    },
    {
      "cell_type": "code",
      "execution_count": 4,
      "metadata": {
        "id": "mlYYhMjZFzQc"
      },
      "outputs": [],
      "source": [
        "import pandas as pd\n",
        "import seaborn as sns\n",
        "import matplotlib.pyplot as plt\n",
        "import numpy as np\n",
        "import graphviz\n",
        "\n",
        "from sklearn.tree import DecisionTreeClassifier\n",
        "from sklearn.tree import export_graphviz\n",
        "from sklearn.metrics import confusion_matrix, ConfusionMatrixDisplay\n",
        "from sklearn.model_selection import train_test_split\n",
        "from sklearn.model_selection import cross_val_score\n",
        "from sklearn.metrics import accuracy_score"
      ]
    },
    {
      "cell_type": "code",
      "source": [
        "path_X_test = '/content/drive/MyDrive/Dados_Ebac/Unid17/X_test.csv'\n",
        "path_X_train = '/content/drive/MyDrive/Dados_Ebac/Unid17/X_train.csv'\n",
        "path_y_test = '/content/drive/MyDrive/Dados_Ebac/Unid17/y_test.csv'\n",
        "path_y_train = '/content/drive/MyDrive/Dados_Ebac/Unid17/y_train.csv'"
      ],
      "metadata": {
        "id": "K4MWC6KlGVY1"
      },
      "execution_count": 2,
      "outputs": []
    },
    {
      "cell_type": "code",
      "execution_count": 6,
      "metadata": {
        "id": "QyeNRD0mFzQf"
      },
      "outputs": [],
      "source": [
        "X_= pd.read_csv(path_X_train, index_col = [0,1])\n",
        "X_test = pd.read_csv(path_X_test, index_col = [0,1])\n",
        "y_= pd.read_csv(path_y_train, index_col = [0,1])\n",
        "y_test = pd.read_csv(path_y_test, index_col = [0,1])"
      ]
    },
    {
      "cell_type": "markdown",
      "metadata": {
        "id": "rmfJiAB3FzQf"
      },
      "source": [
        "### 2. Divisão da base em Treino, Validação e Teste\n",
        "\n",
        "A base já se encontra dividida em Treino e Validação. O que vamos fazer então é extrair uma base de Validação da base de Treino.\n",
        "\n",
        "Extraia 25% da base de treino como base de validação."
      ]
    },
    {
      "cell_type": "code",
      "execution_count": 7,
      "metadata": {
        "id": "MXo5DFKMFzQf"
      },
      "outputs": [],
      "source": [
        "X_train, X_valid, y_train, y_valid = train_test_split(X_, y_, test_size=.25, random_state=100)"
      ]
    },
    {
      "cell_type": "markdown",
      "metadata": {
        "id": "sWL3KK6eFzQf"
      },
      "source": [
        "### 3. Melhores 3 variáveis\n",
        "\n",
        "Rode uma árvore com profundidade máxima igual a 4 para prever a atividade humana com todas as variáveis.\n",
        "Observe a importância das variáveis e considere as 3 variáveis com maior importância para os próximos passos.\n",
        "Dica: utilize o atributo ```clf.feature_importances_``` da árvore treinada."
      ]
    },
    {
      "cell_type": "code",
      "execution_count": 8,
      "metadata": {
        "colab": {
          "base_uri": "https://localhost:8080/",
          "height": 109
        },
        "id": "LpxcR2R8FzQg",
        "outputId": "9ca14424-403f-47d6-e2b1-6c55b2b0280b"
      },
      "outputs": [
        {
          "output_type": "stream",
          "name": "stdout",
          "text": [
            "CPU times: user 1.58 s, sys: 5.35 ms, total: 1.58 s\n",
            "Wall time: 1.61 s\n"
          ]
        },
        {
          "output_type": "execute_result",
          "data": {
            "text/plain": [
              "DecisionTreeClassifier(max_depth=4, random_state=100)"
            ],
            "text/html": [
              "<style>#sk-container-id-1 {color: black;background-color: white;}#sk-container-id-1 pre{padding: 0;}#sk-container-id-1 div.sk-toggleable {background-color: white;}#sk-container-id-1 label.sk-toggleable__label {cursor: pointer;display: block;width: 100%;margin-bottom: 0;padding: 0.3em;box-sizing: border-box;text-align: center;}#sk-container-id-1 label.sk-toggleable__label-arrow:before {content: \"▸\";float: left;margin-right: 0.25em;color: #696969;}#sk-container-id-1 label.sk-toggleable__label-arrow:hover:before {color: black;}#sk-container-id-1 div.sk-estimator:hover label.sk-toggleable__label-arrow:before {color: black;}#sk-container-id-1 div.sk-toggleable__content {max-height: 0;max-width: 0;overflow: hidden;text-align: left;background-color: #f0f8ff;}#sk-container-id-1 div.sk-toggleable__content pre {margin: 0.2em;color: black;border-radius: 0.25em;background-color: #f0f8ff;}#sk-container-id-1 input.sk-toggleable__control:checked~div.sk-toggleable__content {max-height: 200px;max-width: 100%;overflow: auto;}#sk-container-id-1 input.sk-toggleable__control:checked~label.sk-toggleable__label-arrow:before {content: \"▾\";}#sk-container-id-1 div.sk-estimator input.sk-toggleable__control:checked~label.sk-toggleable__label {background-color: #d4ebff;}#sk-container-id-1 div.sk-label input.sk-toggleable__control:checked~label.sk-toggleable__label {background-color: #d4ebff;}#sk-container-id-1 input.sk-hidden--visually {border: 0;clip: rect(1px 1px 1px 1px);clip: rect(1px, 1px, 1px, 1px);height: 1px;margin: -1px;overflow: hidden;padding: 0;position: absolute;width: 1px;}#sk-container-id-1 div.sk-estimator {font-family: monospace;background-color: #f0f8ff;border: 1px dotted black;border-radius: 0.25em;box-sizing: border-box;margin-bottom: 0.5em;}#sk-container-id-1 div.sk-estimator:hover {background-color: #d4ebff;}#sk-container-id-1 div.sk-parallel-item::after {content: \"\";width: 100%;border-bottom: 1px solid gray;flex-grow: 1;}#sk-container-id-1 div.sk-label:hover label.sk-toggleable__label {background-color: #d4ebff;}#sk-container-id-1 div.sk-serial::before {content: \"\";position: absolute;border-left: 1px solid gray;box-sizing: border-box;top: 0;bottom: 0;left: 50%;z-index: 0;}#sk-container-id-1 div.sk-serial {display: flex;flex-direction: column;align-items: center;background-color: white;padding-right: 0.2em;padding-left: 0.2em;position: relative;}#sk-container-id-1 div.sk-item {position: relative;z-index: 1;}#sk-container-id-1 div.sk-parallel {display: flex;align-items: stretch;justify-content: center;background-color: white;position: relative;}#sk-container-id-1 div.sk-item::before, #sk-container-id-1 div.sk-parallel-item::before {content: \"\";position: absolute;border-left: 1px solid gray;box-sizing: border-box;top: 0;bottom: 0;left: 50%;z-index: -1;}#sk-container-id-1 div.sk-parallel-item {display: flex;flex-direction: column;z-index: 1;position: relative;background-color: white;}#sk-container-id-1 div.sk-parallel-item:first-child::after {align-self: flex-end;width: 50%;}#sk-container-id-1 div.sk-parallel-item:last-child::after {align-self: flex-start;width: 50%;}#sk-container-id-1 div.sk-parallel-item:only-child::after {width: 0;}#sk-container-id-1 div.sk-dashed-wrapped {border: 1px dashed gray;margin: 0 0.4em 0.5em 0.4em;box-sizing: border-box;padding-bottom: 0.4em;background-color: white;}#sk-container-id-1 div.sk-label label {font-family: monospace;font-weight: bold;display: inline-block;line-height: 1.2em;}#sk-container-id-1 div.sk-label-container {text-align: center;}#sk-container-id-1 div.sk-container {/* jupyter's `normalize.less` sets `[hidden] { display: none; }` but bootstrap.min.css set `[hidden] { display: none !important; }` so we also need the `!important` here to be able to override the default hidden behavior on the sphinx rendered scikit-learn.org. See: https://github.com/scikit-learn/scikit-learn/issues/21755 */display: inline-block !important;position: relative;}#sk-container-id-1 div.sk-text-repr-fallback {display: none;}</style><div id=\"sk-container-id-1\" class=\"sk-top-container\"><div class=\"sk-text-repr-fallback\"><pre>DecisionTreeClassifier(max_depth=4, random_state=100)</pre><b>In a Jupyter environment, please rerun this cell to show the HTML representation or trust the notebook. <br />On GitHub, the HTML representation is unable to render, please try loading this page with nbviewer.org.</b></div><div class=\"sk-container\" hidden><div class=\"sk-item\"><div class=\"sk-estimator sk-toggleable\"><input class=\"sk-toggleable__control sk-hidden--visually\" id=\"sk-estimator-id-1\" type=\"checkbox\" checked><label for=\"sk-estimator-id-1\" class=\"sk-toggleable__label sk-toggleable__label-arrow\">DecisionTreeClassifier</label><div class=\"sk-toggleable__content\"><pre>DecisionTreeClassifier(max_depth=4, random_state=100)</pre></div></div></div></div></div>"
            ]
          },
          "metadata": {},
          "execution_count": 8
        }
      ],
      "source": [
        "%%time\n",
        "# Treinando uma árvore com profundidade máxima igual a 4\n",
        "clf0 = DecisionTreeClassifier(random_state=100, max_depth=4).fit(X_train,y_train)\n",
        "clf0"
      ]
    },
    {
      "cell_type": "code",
      "execution_count": 9,
      "metadata": {
        "colab": {
          "base_uri": "https://localhost:8080/",
          "height": 677
        },
        "id": "bEzk8PUEFzQg",
        "outputId": "d80a66fb-4055-4c9d-9676-1e7811970206"
      },
      "outputs": [
        {
          "output_type": "execute_result",
          "data": {
            "image/svg+xml": "<?xml version=\"1.0\" encoding=\"UTF-8\" standalone=\"no\"?>\n<!DOCTYPE svg PUBLIC \"-//W3C//DTD SVG 1.1//EN\"\n \"http://www.w3.org/Graphics/SVG/1.1/DTD/svg11.dtd\">\n<!-- Generated by graphviz version 2.43.0 (0)\n -->\n<!-- Title: Tree Pages: 1 -->\n<svg width=\"1571pt\" height=\"477pt\"\n viewBox=\"0.00 0.00 1570.50 477.00\" xmlns=\"http://www.w3.org/2000/svg\" xmlns:xlink=\"http://www.w3.org/1999/xlink\">\n<g id=\"graph0\" class=\"graph\" transform=\"scale(1 1) rotate(0) translate(4 473)\">\n<title>Tree</title>\n<polygon fill=\"white\" stroke=\"transparent\" points=\"-4,4 -4,-473 1566.5,-473 1566.5,4 -4,4\"/>\n<!-- 0 -->\n<g id=\"node1\" class=\"node\">\n<title>0</title>\n<polygon fill=\"#fffeff\" stroke=\"black\" points=\"728.5,-469 468.5,-469 468.5,-401 728.5,-401 728.5,-469\"/>\n<text text-anchor=\"middle\" x=\"598.5\" y=\"-453.8\" font-family=\"Helvetica,sans-Serif\" font-size=\"14.00\">53 tGravityAcc&#45;min()&#45;X &lt;= 0.096</text>\n<text text-anchor=\"middle\" x=\"598.5\" y=\"-438.8\" font-family=\"Helvetica,sans-Serif\" font-size=\"14.00\">gini = 0.831</text>\n<text text-anchor=\"middle\" x=\"598.5\" y=\"-423.8\" font-family=\"Helvetica,sans-Serif\" font-size=\"14.00\">samples = 5514</text>\n<text text-anchor=\"middle\" x=\"598.5\" y=\"-408.8\" font-family=\"Helvetica,sans-Serif\" font-size=\"14.00\">value = [928, 807, 725, 968, 1032, 1054]</text>\n</g>\n<!-- 1 -->\n<g id=\"node2\" class=\"node\">\n<title>1</title>\n<polygon fill=\"#e5399d\" stroke=\"black\" points=\"560,-357.5 383,-357.5 383,-304.5 560,-304.5 560,-357.5\"/>\n<text text-anchor=\"middle\" x=\"471.5\" y=\"-342.3\" font-family=\"Helvetica,sans-Serif\" font-size=\"14.00\">gini = 0.0</text>\n<text text-anchor=\"middle\" x=\"471.5\" y=\"-327.3\" font-family=\"Helvetica,sans-Serif\" font-size=\"14.00\">samples = 1054</text>\n<text text-anchor=\"middle\" x=\"471.5\" y=\"-312.3\" font-family=\"Helvetica,sans-Serif\" font-size=\"14.00\">value = [0, 0, 0, 0, 0, 1054]</text>\n</g>\n<!-- 0&#45;&gt;1 -->\n<g id=\"edge1\" class=\"edge\">\n<title>0&#45;&gt;1</title>\n<path fill=\"none\" stroke=\"black\" d=\"M557.27,-400.88C542.48,-389.01 525.84,-375.65 511.19,-363.88\"/>\n<polygon fill=\"black\" stroke=\"black\" points=\"513.26,-361.05 503.27,-357.52 508.88,-366.51 513.26,-361.05\"/>\n<text text-anchor=\"middle\" x=\"505.99\" y=\"-378.67\" font-family=\"Helvetica,sans-Serif\" font-size=\"14.00\">True</text>\n</g>\n<!-- 2 -->\n<g id=\"node3\" class=\"node\">\n<title>2</title>\n<polygon fill=\"#fdfbff\" stroke=\"black\" points=\"874.5,-365 578.5,-365 578.5,-297 874.5,-297 874.5,-365\"/>\n<text text-anchor=\"middle\" x=\"726.5\" y=\"-349.8\" font-family=\"Helvetica,sans-Serif\" font-size=\"14.00\">382 fBodyAccJerk&#45;bandsEnergy()&#45;1,8 &lt;= &#45;0.99</text>\n<text text-anchor=\"middle\" x=\"726.5\" y=\"-334.8\" font-family=\"Helvetica,sans-Serif\" font-size=\"14.00\">gini = 0.797</text>\n<text text-anchor=\"middle\" x=\"726.5\" y=\"-319.8\" font-family=\"Helvetica,sans-Serif\" font-size=\"14.00\">samples = 4460</text>\n<text text-anchor=\"middle\" x=\"726.5\" y=\"-304.8\" font-family=\"Helvetica,sans-Serif\" font-size=\"14.00\">value = [928, 807, 725, 968, 1032, 0]</text>\n</g>\n<!-- 0&#45;&gt;2 -->\n<g id=\"edge2\" class=\"edge\">\n<title>0&#45;&gt;2</title>\n<path fill=\"none\" stroke=\"black\" d=\"M640.06,-400.88C651.79,-391.53 664.68,-381.26 676.85,-371.57\"/>\n<polygon fill=\"black\" stroke=\"black\" points=\"679.07,-374.27 684.71,-365.3 674.71,-368.79 679.07,-374.27\"/>\n<text text-anchor=\"middle\" x=\"681.9\" y=\"-386.44\" font-family=\"Helvetica,sans-Serif\" font-size=\"14.00\">False</text>\n</g>\n<!-- 3 -->\n<g id=\"node4\" class=\"node\">\n<title>3</title>\n<polygon fill=\"#f7f3fd\" stroke=\"black\" points=\"689,-261 468,-261 468,-193 689,-193 689,-261\"/>\n<text text-anchor=\"middle\" x=\"578.5\" y=\"-245.8\" font-family=\"Helvetica,sans-Serif\" font-size=\"14.00\">560 angle(Y,gravityMean) &lt;= 0.14</text>\n<text text-anchor=\"middle\" x=\"578.5\" y=\"-230.8\" font-family=\"Helvetica,sans-Serif\" font-size=\"14.00\">gini = 0.499</text>\n<text text-anchor=\"middle\" x=\"578.5\" y=\"-215.8\" font-family=\"Helvetica,sans-Serif\" font-size=\"14.00\">samples = 2000</text>\n<text text-anchor=\"middle\" x=\"578.5\" y=\"-200.8\" font-family=\"Helvetica,sans-Serif\" font-size=\"14.00\">value = [0, 0, 0, 968, 1032, 0]</text>\n</g>\n<!-- 2&#45;&gt;3 -->\n<g id=\"edge3\" class=\"edge\">\n<title>2&#45;&gt;3</title>\n<path fill=\"none\" stroke=\"black\" d=\"M678.45,-296.88C664.55,-287.3 649.25,-276.76 634.89,-266.86\"/>\n<polygon fill=\"black\" stroke=\"black\" points=\"636.78,-263.92 626.56,-261.12 632.81,-269.68 636.78,-263.92\"/>\n</g>\n<!-- 10 -->\n<g id=\"node11\" class=\"node\">\n<title>10</title>\n<polygon fill=\"#fdf6f1\" stroke=\"black\" points=\"1067.5,-261 823.5,-261 823.5,-193 1067.5,-193 1067.5,-261\"/>\n<text text-anchor=\"middle\" x=\"945.5\" y=\"-245.8\" font-family=\"Helvetica,sans-Serif\" font-size=\"14.00\">509 fBodyAccMag&#45;energy() &lt;= &#45;0.525</text>\n<text text-anchor=\"middle\" x=\"945.5\" y=\"-230.8\" font-family=\"Helvetica,sans-Serif\" font-size=\"14.00\">gini = 0.663</text>\n<text text-anchor=\"middle\" x=\"945.5\" y=\"-215.8\" font-family=\"Helvetica,sans-Serif\" font-size=\"14.00\">samples = 2460</text>\n<text text-anchor=\"middle\" x=\"945.5\" y=\"-200.8\" font-family=\"Helvetica,sans-Serif\" font-size=\"14.00\">value = [928, 807, 725, 0, 0, 0]</text>\n</g>\n<!-- 2&#45;&gt;10 -->\n<g id=\"edge10\" class=\"edge\">\n<title>2&#45;&gt;10</title>\n<path fill=\"none\" stroke=\"black\" d=\"M797.6,-296.88C819.13,-286.86 842.93,-275.77 865.02,-265.48\"/>\n<polygon fill=\"black\" stroke=\"black\" points=\"866.79,-268.52 874.38,-261.12 863.84,-262.17 866.79,-268.52\"/>\n</g>\n<!-- 4 -->\n<g id=\"node5\" class=\"node\">\n<title>4</title>\n<polygon fill=\"#59ade9\" stroke=\"black\" points=\"406.5,-157 170.5,-157 170.5,-89 406.5,-89 406.5,-157\"/>\n<text text-anchor=\"middle\" x=\"288.5\" y=\"-141.8\" font-family=\"Helvetica,sans-Serif\" font-size=\"14.00\">58 tGravityAcc&#45;energy()&#45;Y &lt;= &#45;0.983</text>\n<text text-anchor=\"middle\" x=\"288.5\" y=\"-126.8\" font-family=\"Helvetica,sans-Serif\" font-size=\"14.00\">gini = 0.237</text>\n<text text-anchor=\"middle\" x=\"288.5\" y=\"-111.8\" font-family=\"Helvetica,sans-Serif\" font-size=\"14.00\">samples = 1040</text>\n<text text-anchor=\"middle\" x=\"288.5\" y=\"-96.8\" font-family=\"Helvetica,sans-Serif\" font-size=\"14.00\">value = [0, 0, 0, 897, 143, 0]</text>\n</g>\n<!-- 3&#45;&gt;4 -->\n<g id=\"edge4\" class=\"edge\">\n<title>3&#45;&gt;4</title>\n<path fill=\"none\" stroke=\"black\" d=\"M484.35,-192.88C454.95,-182.54 422.35,-171.08 392.33,-160.52\"/>\n<polygon fill=\"black\" stroke=\"black\" points=\"393.27,-157.14 382.68,-157.12 390.95,-163.74 393.27,-157.14\"/>\n</g>\n<!-- 7 -->\n<g id=\"node8\" class=\"node\">\n<title>7</title>\n<polygon fill=\"#8b49e7\" stroke=\"black\" points=\"686,-157 471,-157 471,-89 686,-89 686,-157\"/>\n<text text-anchor=\"middle\" x=\"578.5\" y=\"-141.8\" font-family=\"Helvetica,sans-Serif\" font-size=\"14.00\">427 fBodyGyro&#45;std()&#45;X &lt;= &#45;0.997</text>\n<text text-anchor=\"middle\" x=\"578.5\" y=\"-126.8\" font-family=\"Helvetica,sans-Serif\" font-size=\"14.00\">gini = 0.137</text>\n<text text-anchor=\"middle\" x=\"578.5\" y=\"-111.8\" font-family=\"Helvetica,sans-Serif\" font-size=\"14.00\">samples = 960</text>\n<text text-anchor=\"middle\" x=\"578.5\" y=\"-96.8\" font-family=\"Helvetica,sans-Serif\" font-size=\"14.00\">value = [0, 0, 0, 71, 889, 0]</text>\n</g>\n<!-- 3&#45;&gt;7 -->\n<g id=\"edge7\" class=\"edge\">\n<title>3&#45;&gt;7</title>\n<path fill=\"none\" stroke=\"black\" d=\"M578.5,-192.88C578.5,-184.78 578.5,-175.98 578.5,-167.47\"/>\n<polygon fill=\"black\" stroke=\"black\" points=\"582,-167.3 578.5,-157.3 575,-167.3 582,-167.3\"/>\n</g>\n<!-- 5 -->\n<g id=\"node6\" class=\"node\">\n<title>5</title>\n<polygon fill=\"#8ac5f0\" stroke=\"black\" points=\"185,-53 0,-53 0,0 185,0 185,-53\"/>\n<text text-anchor=\"middle\" x=\"92.5\" y=\"-37.8\" font-family=\"Helvetica,sans-Serif\" font-size=\"14.00\">gini = 0.411</text>\n<text text-anchor=\"middle\" x=\"92.5\" y=\"-22.8\" font-family=\"Helvetica,sans-Serif\" font-size=\"14.00\">samples = 484</text>\n<text text-anchor=\"middle\" x=\"92.5\" y=\"-7.8\" font-family=\"Helvetica,sans-Serif\" font-size=\"14.00\">value = [0, 0, 0, 344, 140, 0]</text>\n</g>\n<!-- 4&#45;&gt;5 -->\n<g id=\"edge5\" class=\"edge\">\n<title>4&#45;&gt;5</title>\n<path fill=\"none\" stroke=\"black\" d=\"M219.95,-88.95C198.7,-78.7 175.41,-67.47 154.62,-57.45\"/>\n<polygon fill=\"black\" stroke=\"black\" points=\"156.1,-54.28 145.57,-53.09 153.06,-60.58 156.1,-54.28\"/>\n</g>\n<!-- 6 -->\n<g id=\"node7\" class=\"node\">\n<title>6</title>\n<polygon fill=\"#3a9ee5\" stroke=\"black\" points=\"373.5,-53 203.5,-53 203.5,0 373.5,0 373.5,-53\"/>\n<text text-anchor=\"middle\" x=\"288.5\" y=\"-37.8\" font-family=\"Helvetica,sans-Serif\" font-size=\"14.00\">gini = 0.011</text>\n<text text-anchor=\"middle\" x=\"288.5\" y=\"-22.8\" font-family=\"Helvetica,sans-Serif\" font-size=\"14.00\">samples = 556</text>\n<text text-anchor=\"middle\" x=\"288.5\" y=\"-7.8\" font-family=\"Helvetica,sans-Serif\" font-size=\"14.00\">value = [0, 0, 0, 553, 3, 0]</text>\n</g>\n<!-- 4&#45;&gt;6 -->\n<g id=\"edge6\" class=\"edge\">\n<title>4&#45;&gt;6</title>\n<path fill=\"none\" stroke=\"black\" d=\"M288.5,-88.95C288.5,-80.72 288.5,-71.85 288.5,-63.48\"/>\n<polygon fill=\"black\" stroke=\"black\" points=\"292,-63.24 288.5,-53.24 285,-63.24 292,-63.24\"/>\n</g>\n<!-- 8 -->\n<g id=\"node9\" class=\"node\">\n<title>8</title>\n<polygon fill=\"#e0f0fb\" stroke=\"black\" points=\"561.5,-53 391.5,-53 391.5,0 561.5,0 561.5,-53\"/>\n<text text-anchor=\"middle\" x=\"476.5\" y=\"-37.8\" font-family=\"Helvetica,sans-Serif\" font-size=\"14.00\">gini = 0.496</text>\n<text text-anchor=\"middle\" x=\"476.5\" y=\"-22.8\" font-family=\"Helvetica,sans-Serif\" font-size=\"14.00\">samples = 35</text>\n<text text-anchor=\"middle\" x=\"476.5\" y=\"-7.8\" font-family=\"Helvetica,sans-Serif\" font-size=\"14.00\">value = [0, 0, 0, 19, 16, 0]</text>\n</g>\n<!-- 7&#45;&gt;8 -->\n<g id=\"edge8\" class=\"edge\">\n<title>7&#45;&gt;8</title>\n<path fill=\"none\" stroke=\"black\" d=\"M542.83,-88.95C532.75,-79.62 521.8,-69.47 511.76,-60.16\"/>\n<polygon fill=\"black\" stroke=\"black\" points=\"513.99,-57.47 504.28,-53.24 509.24,-62.6 513.99,-57.47\"/>\n</g>\n<!-- 9 -->\n<g id=\"node10\" class=\"node\">\n<title>9</title>\n<polygon fill=\"#8945e7\" stroke=\"black\" points=\"757,-53 580,-53 580,0 757,0 757,-53\"/>\n<text text-anchor=\"middle\" x=\"668.5\" y=\"-37.8\" font-family=\"Helvetica,sans-Serif\" font-size=\"14.00\">gini = 0.106</text>\n<text text-anchor=\"middle\" x=\"668.5\" y=\"-22.8\" font-family=\"Helvetica,sans-Serif\" font-size=\"14.00\">samples = 925</text>\n<text text-anchor=\"middle\" x=\"668.5\" y=\"-7.8\" font-family=\"Helvetica,sans-Serif\" font-size=\"14.00\">value = [0, 0, 0, 52, 873, 0]</text>\n</g>\n<!-- 7&#45;&gt;9 -->\n<g id=\"edge9\" class=\"edge\">\n<title>7&#45;&gt;9</title>\n<path fill=\"none\" stroke=\"black\" d=\"M609.98,-88.95C618.69,-79.8 628.15,-69.87 636.87,-60.71\"/>\n<polygon fill=\"black\" stroke=\"black\" points=\"639.63,-62.89 643.99,-53.24 634.56,-58.06 639.63,-62.89\"/>\n</g>\n<!-- 11 -->\n<g id=\"node12\" class=\"node\">\n<title>11</title>\n<polygon fill=\"#fbeade\" stroke=\"black\" points=\"1068,-157 823,-157 823,-89 1068,-89 1068,-157\"/>\n<text text-anchor=\"middle\" x=\"945.5\" y=\"-141.8\" font-family=\"Helvetica,sans-Serif\" font-size=\"14.00\">75 tGravityAcc&#45;arCoeff()&#45;Z,2 &lt;= 0.564</text>\n<text text-anchor=\"middle\" x=\"945.5\" y=\"-126.8\" font-family=\"Helvetica,sans-Serif\" font-size=\"14.00\">gini = 0.557</text>\n<text text-anchor=\"middle\" x=\"945.5\" y=\"-111.8\" font-family=\"Helvetica,sans-Serif\" font-size=\"14.00\">samples = 1778</text>\n<text text-anchor=\"middle\" x=\"945.5\" y=\"-96.8\" font-family=\"Helvetica,sans-Serif\" font-size=\"14.00\">value = [914, 741, 123, 0, 0, 0]</text>\n</g>\n<!-- 10&#45;&gt;11 -->\n<g id=\"edge11\" class=\"edge\">\n<title>10&#45;&gt;11</title>\n<path fill=\"none\" stroke=\"black\" d=\"M945.5,-192.88C945.5,-184.78 945.5,-175.98 945.5,-167.47\"/>\n<polygon fill=\"black\" stroke=\"black\" points=\"949,-167.3 945.5,-157.3 942,-167.3 949,-167.3\"/>\n</g>\n<!-- 14 -->\n<g id=\"node15\" class=\"node\">\n<title>14</title>\n<polygon fill=\"#53e891\" stroke=\"black\" points=\"1422.5,-157 1156.5,-157 1156.5,-89 1422.5,-89 1422.5,-157\"/>\n<text text-anchor=\"middle\" x=\"1289.5\" y=\"-141.8\" font-family=\"Helvetica,sans-Serif\" font-size=\"14.00\">160 tBodyGyro&#45;correlation()&#45;Y,Z &lt;= 0.273</text>\n<text text-anchor=\"middle\" x=\"1289.5\" y=\"-126.8\" font-family=\"Helvetica,sans-Serif\" font-size=\"14.00\">gini = 0.211</text>\n<text text-anchor=\"middle\" x=\"1289.5\" y=\"-111.8\" font-family=\"Helvetica,sans-Serif\" font-size=\"14.00\">samples = 682</text>\n<text text-anchor=\"middle\" x=\"1289.5\" y=\"-96.8\" font-family=\"Helvetica,sans-Serif\" font-size=\"14.00\">value = [14, 66, 602, 0, 0, 0]</text>\n</g>\n<!-- 10&#45;&gt;14 -->\n<g id=\"edge14\" class=\"edge\">\n<title>10&#45;&gt;14</title>\n<path fill=\"none\" stroke=\"black\" d=\"M1057.19,-192.88C1092.75,-182.34 1132.26,-170.62 1168.46,-159.89\"/>\n<polygon fill=\"black\" stroke=\"black\" points=\"1169.49,-163.24 1178.08,-157.04 1167.5,-156.52 1169.49,-163.24\"/>\n</g>\n<!-- 12 -->\n<g id=\"node13\" class=\"node\">\n<title>12</title>\n<polygon fill=\"#eb9d65\" stroke=\"black\" points=\"975.5,-53 775.5,-53 775.5,0 975.5,0 975.5,-53\"/>\n<text text-anchor=\"middle\" x=\"875.5\" y=\"-37.8\" font-family=\"Helvetica,sans-Serif\" font-size=\"14.00\">gini = 0.339</text>\n<text text-anchor=\"middle\" x=\"875.5\" y=\"-22.8\" font-family=\"Helvetica,sans-Serif\" font-size=\"14.00\">samples = 1024</text>\n<text text-anchor=\"middle\" x=\"875.5\" y=\"-7.8\" font-family=\"Helvetica,sans-Serif\" font-size=\"14.00\">value = [820, 104, 100, 0, 0, 0]</text>\n</g>\n<!-- 11&#45;&gt;12 -->\n<g id=\"edge12\" class=\"edge\">\n<title>11&#45;&gt;12</title>\n<path fill=\"none\" stroke=\"black\" d=\"M921.02,-88.95C914.44,-80.07 907.33,-70.46 900.71,-61.54\"/>\n<polygon fill=\"black\" stroke=\"black\" points=\"903.33,-59.19 894.56,-53.24 897.7,-63.36 903.33,-59.19\"/>\n</g>\n<!-- 13 -->\n<g id=\"node14\" class=\"node\">\n<title>13</title>\n<polygon fill=\"#aeea5c\" stroke=\"black\" points=\"1179,-53 994,-53 994,0 1179,0 1179,-53\"/>\n<text text-anchor=\"middle\" x=\"1086.5\" y=\"-37.8\" font-family=\"Helvetica,sans-Serif\" font-size=\"14.00\">gini = 0.27</text>\n<text text-anchor=\"middle\" x=\"1086.5\" y=\"-22.8\" font-family=\"Helvetica,sans-Serif\" font-size=\"14.00\">samples = 754</text>\n<text text-anchor=\"middle\" x=\"1086.5\" y=\"-7.8\" font-family=\"Helvetica,sans-Serif\" font-size=\"14.00\">value = [94, 637, 23, 0, 0, 0]</text>\n</g>\n<!-- 11&#45;&gt;13 -->\n<g id=\"edge13\" class=\"edge\">\n<title>11&#45;&gt;13</title>\n<path fill=\"none\" stroke=\"black\" d=\"M994.81,-88.95C1009.28,-79.25 1025.06,-68.68 1039.39,-59.07\"/>\n<polygon fill=\"black\" stroke=\"black\" points=\"1041.74,-61.71 1048.1,-53.24 1037.84,-55.9 1041.74,-61.71\"/>\n</g>\n<!-- 15 -->\n<g id=\"node16\" class=\"node\">\n<title>15</title>\n<polygon fill=\"#45e789\" stroke=\"black\" points=\"1382,-53 1197,-53 1197,0 1382,0 1382,-53\"/>\n<text text-anchor=\"middle\" x=\"1289.5\" y=\"-37.8\" font-family=\"Helvetica,sans-Serif\" font-size=\"14.00\">gini = 0.111</text>\n<text text-anchor=\"middle\" x=\"1289.5\" y=\"-22.8\" font-family=\"Helvetica,sans-Serif\" font-size=\"14.00\">samples = 636</text>\n<text text-anchor=\"middle\" x=\"1289.5\" y=\"-7.8\" font-family=\"Helvetica,sans-Serif\" font-size=\"14.00\">value = [12, 25, 599, 0, 0, 0]</text>\n</g>\n<!-- 14&#45;&gt;15 -->\n<g id=\"edge15\" class=\"edge\">\n<title>14&#45;&gt;15</title>\n<path fill=\"none\" stroke=\"black\" d=\"M1289.5,-88.95C1289.5,-80.72 1289.5,-71.85 1289.5,-63.48\"/>\n<polygon fill=\"black\" stroke=\"black\" points=\"1293,-63.24 1289.5,-53.24 1286,-63.24 1293,-63.24\"/>\n</g>\n<!-- 16 -->\n<g id=\"node17\" class=\"node\">\n<title>16</title>\n<polygon fill=\"#a8e850\" stroke=\"black\" points=\"1562.5,-53 1400.5,-53 1400.5,0 1562.5,0 1562.5,-53\"/>\n<text text-anchor=\"middle\" x=\"1481.5\" y=\"-37.8\" font-family=\"Helvetica,sans-Serif\" font-size=\"14.00\">gini = 0.199</text>\n<text text-anchor=\"middle\" x=\"1481.5\" y=\"-22.8\" font-family=\"Helvetica,sans-Serif\" font-size=\"14.00\">samples = 46</text>\n<text text-anchor=\"middle\" x=\"1481.5\" y=\"-7.8\" font-family=\"Helvetica,sans-Serif\" font-size=\"14.00\">value = [2, 41, 3, 0, 0, 0]</text>\n</g>\n<!-- 14&#45;&gt;16 -->\n<g id=\"edge16\" class=\"edge\">\n<title>14&#45;&gt;16</title>\n<path fill=\"none\" stroke=\"black\" d=\"M1356.65,-88.95C1377.38,-78.75 1400.08,-67.57 1420.37,-57.59\"/>\n<polygon fill=\"black\" stroke=\"black\" points=\"1422.09,-60.64 1429.51,-53.09 1419,-54.36 1422.09,-60.64\"/>\n</g>\n</g>\n</svg>\n",
            "text/plain": [
              "<graphviz.sources.Source at 0x7eb15b27b220>"
            ]
          },
          "metadata": {},
          "execution_count": 9
        }
      ],
      "source": [
        "dot_data = export_graphviz(clf0, out_file=None,\n",
        "                          feature_names=X_train.columns,\n",
        "                          filled=True)\n",
        "\n",
        "graph = graphviz.Source(dot_data, format=\"png\")\n",
        "graph"
      ]
    },
    {
      "cell_type": "code",
      "execution_count": 10,
      "metadata": {
        "id": "vNSdkfD3FzQg"
      },
      "outputs": [],
      "source": [
        "# Obtendo a importancia das variáveis\n",
        "freature_importances = clf0.feature_importances_"
      ]
    },
    {
      "cell_type": "code",
      "execution_count": 11,
      "metadata": {
        "colab": {
          "base_uri": "https://localhost:8080/"
        },
        "id": "FMzCAYllFzQh",
        "outputId": "1997fe32-2a45-4856-f813-962c7a342396"
      },
      "outputs": [
        {
          "output_type": "execute_result",
          "data": {
            "text/plain": [
              "53 tGravityAcc-min()-X                0.282630\n",
              "382 fBodyAccJerk-bandsEnergy()-1,8    0.254515\n",
              "560 angle(Y,gravityMean)              0.171064\n",
              "dtype: float64"
            ]
          },
          "metadata": {},
          "execution_count": 11
        }
      ],
      "source": [
        "#Criando uma Série com as importãncias das variáveis\n",
        "importancia = pd.Series(clf0.feature_importances_, index = X_train.columns)\n",
        "#Ordenando as características da maior para menor segundo sua importância\n",
        "importancia.sort_values(ascending = False, inplace = True)\n",
        "importancia.head(3)"
      ]
    },
    {
      "cell_type": "code",
      "execution_count": 12,
      "metadata": {
        "colab": {
          "base_uri": "https://localhost:8080/"
        },
        "id": "ujC_uogpFzQh",
        "outputId": "28debd33-7bda-4b35-9143-30b2494782e5"
      },
      "outputs": [
        {
          "output_type": "stream",
          "name": "stdout",
          "text": [
            "As três variáveis com maior importância são:\n",
            "\n",
            "Característica 1: 53 tGravityAcc-min()-X - 0.283\n",
            "\n",
            "Característica 2: 382 fBodyAccJerk-bandsEnergy()-1,8 - 0.255\n",
            "\n",
            "Característica 3: 560 angle(Y,gravityMean) - 0.171\n"
          ]
        }
      ],
      "source": [
        "# Obtendo a importancia das variáveis\n",
        "feature_importances = clf0.feature_importances_\n",
        "\n",
        "# Criando uma lista de tuplas contendo o nome da característica e sua importância\n",
        "feature_importance_tuples = [(feature, importance) for feature, importance in zip(X_train.columns, feature_importances)]\n",
        "\n",
        "# Ordenando as tuplas pelo valor da importância em ordem decrescente\n",
        "feature_importance_tuples.sort(key=lambda x: x[1], reverse=True)\n",
        "\n",
        "# Selecionando as três primeiras características\n",
        "top_3_features = feature_importance_tuples[:3]\n",
        "\n",
        "# Imprimindo as três características com maior importância\n",
        "print(\"As três variáveis com maior importância são:\")\n",
        "for i, (feature, importance) in enumerate(top_3_features):\n",
        "    print(f'\\nCaracterística {i+1}: {feature} - {round(importance, 3)}')\n"
      ]
    },
    {
      "cell_type": "markdown",
      "metadata": {
        "id": "BpLBlZY1FzQi"
      },
      "source": [
        "### 4. Construa uma árvore com as 3 melhores variáveis\n",
        "\n",
        "Utilizando as três variáveis encontradas acima, construa uma árvore de decisão. Encontre o melhor ```ccp_alpha``` utilizando a base de validação, conforme a estrutura que vimos em aula."
      ]
    },
    {
      "cell_type": "code",
      "execution_count": 13,
      "metadata": {
        "id": "fBJTg0wrFzQi"
      },
      "outputs": [],
      "source": [
        "#Obtento os dataframe com as 3 melhores variáveis\n",
        "\n",
        "X_train_3mv = X_train[['53 tGravityAcc-min()-X','382 fBodyAccJerk-bandsEnergy()-1,8','560 angle(Y,gravityMean)']]\n",
        "X_valid_3mv = X_valid[['53 tGravityAcc-min()-X','382 fBodyAccJerk-bandsEnergy()-1,8','560 angle(Y,gravityMean)']]\n",
        "X_test_3mv = X_test[['53 tGravityAcc-min()-X','382 fBodyAccJerk-bandsEnergy()-1,8','560 angle(Y,gravityMean)']]"
      ]
    },
    {
      "cell_type": "code",
      "execution_count": 14,
      "metadata": {
        "id": "rgAOQodHFzQi"
      },
      "outputs": [],
      "source": [
        "#Construindo a árvore com as três melhores variáveis encontradas\n",
        "clf1 = DecisionTreeClassifier(random_state=100, min_samples_leaf = 20).fit(X_train_3mv, y_train)"
      ]
    },
    {
      "cell_type": "code",
      "execution_count": 15,
      "metadata": {
        "colab": {
          "base_uri": "https://localhost:8080/"
        },
        "id": "oftERF6sFzQi",
        "outputId": "9816ea8e-7008-4d21-e1bd-c2d916f65d5c"
      },
      "outputs": [
        {
          "output_type": "execute_result",
          "data": {
            "text/plain": [
              "array([0.00000000e+00, 1.27220264e-05, 1.64247439e-05, 4.66345406e-05,\n",
              "       9.13009089e-05, 1.62028964e-04, 2.50381565e-04, 3.56118310e-04,\n",
              "       4.39652235e-04, 4.61909629e-04, 5.87184924e-04, 6.95330738e-04,\n",
              "       7.49133077e-04, 9.92596071e-04, 1.06364437e-03, 1.40353351e-03,\n",
              "       1.68782107e-03, 2.49884313e-03, 3.03345349e-03, 4.65751799e-03,\n",
              "       4.31255693e-02, 1.86014110e-01])"
            ]
          },
          "metadata": {},
          "execution_count": 15
        }
      ],
      "source": [
        "#Calculando os ccp_aplhas\n",
        "path = DecisionTreeClassifier(random_state=100, min_samples_leaf = 20).cost_complexity_pruning_path(X_train_3mv, y_train)\n",
        "ccp_alphas, impurities = path.ccp_alphas, path.impurities\n",
        "ccp_alphas = ccp_alphas[::4]\n",
        "ccp_alphas"
      ]
    },
    {
      "cell_type": "code",
      "execution_count": 16,
      "metadata": {
        "id": "PuChPXTEFzQi"
      },
      "outputs": [],
      "source": [
        "# Lista para armazenar os resultados da validação cruzada\n",
        "cv_scores = []\n",
        "\n",
        "# Realizar validação cruzada para cada valor de ccp_alpha\n",
        "for alpha in ccp_alphas:\n",
        "    clf1.set_params(ccp_alpha=alpha)\n",
        "    scores = cross_val_score(clf1, X_train_3mv, y_train, cv=5)\n",
        "    cv_scores.append(scores.mean())\n",
        "\n",
        "# Encontrar o melhor ccp_alpha\n",
        "best_alpha = ccp_alphas[np.argmax(cv_scores)]"
      ]
    },
    {
      "cell_type": "code",
      "execution_count": 17,
      "metadata": {
        "colab": {
          "base_uri": "https://localhost:8080/"
        },
        "id": "LwOdUXooFzQj",
        "outputId": "93c37d22-4176-4b37-d647-498bc328dacb"
      },
      "outputs": [
        {
          "output_type": "stream",
          "name": "stdout",
          "text": [
            "O melhor ccp_alpha é 0.00099\n"
          ]
        }
      ],
      "source": [
        "print(f'O melhor ccp_alpha é {round(best_alpha,5)}')"
      ]
    },
    {
      "cell_type": "markdown",
      "metadata": {
        "id": "rrp93YmWFzQj"
      },
      "source": [
        "### 5. Avaliação do modelo\n",
        "\n",
        "Avalie a árvore encontrada no item anterior na base de testes."
      ]
    },
    {
      "cell_type": "code",
      "execution_count": 18,
      "metadata": {
        "colab": {
          "base_uri": "https://localhost:8080/"
        },
        "id": "XUv3O5sAFzQj",
        "outputId": "96dc9259-7fc9-4f2e-9bee-6cd748f07081"
      },
      "outputs": [
        {
          "output_type": "stream",
          "name": "stdout",
          "text": [
            "CPU times: user 445 ms, sys: 1.65 ms, total: 447 ms\n",
            "Wall time: 446 ms\n"
          ]
        }
      ],
      "source": [
        "%%time\n",
        "# Calculando todas as possíveis árvores\n",
        "clfs = []\n",
        "for ccp_alpha in ccp_alphas:\n",
        "    clf2 = DecisionTreeClassifier(random_state=100, ccp_alpha=ccp_alpha).fit(X_train_3mv, y_train)\n",
        "    clfs.append(clf2)"
      ]
    },
    {
      "cell_type": "code",
      "execution_count": 20,
      "metadata": {
        "colab": {
          "base_uri": "https://localhost:8080/",
          "height": 472
        },
        "id": "Ub-Y02QlFzQj",
        "outputId": "72dd2f64-dbd0-48a2-eae3-cefa608a2c8e"
      },
      "outputs": [
        {
          "output_type": "display_data",
          "data": {
            "text/plain": [
              "<Figure size 640x480 with 1 Axes>"
            ],
            "image/png": "[encoded data removed]"
          },
          "metadata": {}
        }
      ],
      "source": [
        "#Calculando as pontuações de treinamento e validação\n",
        "test_scores = [clf3.score(X_test_3mv, y_test) for clf3 in clfs]\n",
        "valid_scores = [clf3.score(X_valid_3mv, y_valid) for clf3 in clfs]\n",
        "\n",
        "fig, ax = plt.subplots()\n",
        "ax.set_xlabel(\"alpha\")\n",
        "ax.set_ylabel(\"Acurácia\")\n",
        "ax.set_title(\"Acurácia x alpha do conjunto de dados de treino e validação\")\n",
        "ax.plot(ccp_alphas, test_scores, marker='o', label=\"Teste\",\n",
        "        drawstyle=\"steps-post\")\n",
        "ax.plot(ccp_alphas, valid_scores, marker='o', label=\"Validação\",\n",
        "        drawstyle=\"steps-post\")\n",
        "ax.legend()\n",
        "plt.show()"
      ]
    },
    {
      "cell_type": "code",
      "execution_count": 21,
      "metadata": {
        "colab": {
          "base_uri": "https://localhost:8080/",
          "height": 92
        },
        "id": "Ams4VnErFzQj",
        "outputId": "3d4ab88c-7d45-49b2-a3c7-c983fe9a22e1"
      },
      "outputs": [
        {
          "output_type": "stream",
          "name": "stdout",
          "text": [
            "Acurácia da melhor árvore na base de Teste é: 76.31\n"
          ]
        },
        {
          "output_type": "execute_result",
          "data": {
            "text/plain": [
              "DecisionTreeClassifier(ccp_alpha=0.04312556925552688, random_state=100)"
            ],
            "text/html": [
              "<style>#sk-container-id-2 {color: black;background-color: white;}#sk-container-id-2 pre{padding: 0;}#sk-container-id-2 div.sk-toggleable {background-color: white;}#sk-container-id-2 label.sk-toggleable__label {cursor: pointer;display: block;width: 100%;margin-bottom: 0;padding: 0.3em;box-sizing: border-box;text-align: center;}#sk-container-id-2 label.sk-toggleable__label-arrow:before {content: \"▸\";float: left;margin-right: 0.25em;color: #696969;}#sk-container-id-2 label.sk-toggleable__label-arrow:hover:before {color: black;}#sk-container-id-2 div.sk-estimator:hover label.sk-toggleable__label-arrow:before {color: black;}#sk-container-id-2 div.sk-toggleable__content {max-height: 0;max-width: 0;overflow: hidden;text-align: left;background-color: #f0f8ff;}#sk-container-id-2 div.sk-toggleable__content pre {margin: 0.2em;color: black;border-radius: 0.25em;background-color: #f0f8ff;}#sk-container-id-2 input.sk-toggleable__control:checked~div.sk-toggleable__content {max-height: 200px;max-width: 100%;overflow: auto;}#sk-container-id-2 input.sk-toggleable__control:checked~label.sk-toggleable__label-arrow:before {content: \"▾\";}#sk-container-id-2 div.sk-estimator input.sk-toggleable__control:checked~label.sk-toggleable__label {background-color: #d4ebff;}#sk-container-id-2 div.sk-label input.sk-toggleable__control:checked~label.sk-toggleable__label {background-color: #d4ebff;}#sk-container-id-2 input.sk-hidden--visually {border: 0;clip: rect(1px 1px 1px 1px);clip: rect(1px, 1px, 1px, 1px);height: 1px;margin: -1px;overflow: hidden;padding: 0;position: absolute;width: 1px;}#sk-container-id-2 div.sk-estimator {font-family: monospace;background-color: #f0f8ff;border: 1px dotted black;border-radius: 0.25em;box-sizing: border-box;margin-bottom: 0.5em;}#sk-container-id-2 div.sk-estimator:hover {background-color: #d4ebff;}#sk-container-id-2 div.sk-parallel-item::after {content: \"\";width: 100%;border-bottom: 1px solid gray;flex-grow: 1;}#sk-container-id-2 div.sk-label:hover label.sk-toggleable__label {background-color: #d4ebff;}#sk-container-id-2 div.sk-serial::before {content: \"\";position: absolute;border-left: 1px solid gray;box-sizing: border-box;top: 0;bottom: 0;left: 50%;z-index: 0;}#sk-container-id-2 div.sk-serial {display: flex;flex-direction: column;align-items: center;background-color: white;padding-right: 0.2em;padding-left: 0.2em;position: relative;}#sk-container-id-2 div.sk-item {position: relative;z-index: 1;}#sk-container-id-2 div.sk-parallel {display: flex;align-items: stretch;justify-content: center;background-color: white;position: relative;}#sk-container-id-2 div.sk-item::before, #sk-container-id-2 div.sk-parallel-item::before {content: \"\";position: absolute;border-left: 1px solid gray;box-sizing: border-box;top: 0;bottom: 0;left: 50%;z-index: -1;}#sk-container-id-2 div.sk-parallel-item {display: flex;flex-direction: column;z-index: 1;position: relative;background-color: white;}#sk-container-id-2 div.sk-parallel-item:first-child::after {align-self: flex-end;width: 50%;}#sk-container-id-2 div.sk-parallel-item:last-child::after {align-self: flex-start;width: 50%;}#sk-container-id-2 div.sk-parallel-item:only-child::after {width: 0;}#sk-container-id-2 div.sk-dashed-wrapped {border: 1px dashed gray;margin: 0 0.4em 0.5em 0.4em;box-sizing: border-box;padding-bottom: 0.4em;background-color: white;}#sk-container-id-2 div.sk-label label {font-family: monospace;font-weight: bold;display: inline-block;line-height: 1.2em;}#sk-container-id-2 div.sk-label-container {text-align: center;}#sk-container-id-2 div.sk-container {/* jupyter's `normalize.less` sets `[hidden] { display: none; }` but bootstrap.min.css set `[hidden] { display: none !important; }` so we also need the `!important` here to be able to override the default hidden behavior on the sphinx rendered scikit-learn.org. See: https://github.com/scikit-learn/scikit-learn/issues/21755 */display: inline-block !important;position: relative;}#sk-container-id-2 div.sk-text-repr-fallback {display: none;}</style><div id=\"sk-container-id-2\" class=\"sk-top-container\"><div class=\"sk-text-repr-fallback\"><pre>DecisionTreeClassifier(ccp_alpha=0.04312556925552688, random_state=100)</pre><b>In a Jupyter environment, please rerun this cell to show the HTML representation or trust the notebook. <br />On GitHub, the HTML representation is unable to render, please try loading this page with nbviewer.org.</b></div><div class=\"sk-container\" hidden><div class=\"sk-item\"><div class=\"sk-estimator sk-toggleable\"><input class=\"sk-toggleable__control sk-hidden--visually\" id=\"sk-estimator-id-2\" type=\"checkbox\" checked><label for=\"sk-estimator-id-2\" class=\"sk-toggleable__label sk-toggleable__label-arrow\">DecisionTreeClassifier</label><div class=\"sk-toggleable__content\"><pre>DecisionTreeClassifier(ccp_alpha=0.04312556925552688, random_state=100)</pre></div></div></div></div></div>"
            ]
          },
          "metadata": {},
          "execution_count": 21
        }
      ],
      "source": [
        "#Econtrando a melhor árvore na base de test\n",
        "ind_melhor_arvore = len(test_scores) - test_scores[::-1].index(max(test_scores)) - 1\n",
        "melhor_arvore = clfs[ind_melhor_arvore]\n",
        "#Encontrando a acurácia na vase de validação\n",
        "print(f'Acurácia da melhor árvore na base de Teste é: {test_scores[ind_melhor_arvore]*100:.2f}')\n",
        "\n",
        "melhor_arvore"
      ]
    },
    {
      "cell_type": "code",
      "execution_count": 22,
      "metadata": {
        "colab": {
          "base_uri": "https://localhost:8080/"
        },
        "id": "Gvt7lgjJFzQk",
        "outputId": "3c02e9dd-7076-475f-ac0c-641c6876b831"
      },
      "outputs": [
        {
          "output_type": "stream",
          "name": "stdout",
          "text": [
            "Acurácia da melhor árvore na base de Teste: 76.31\n"
          ]
        }
      ],
      "source": [
        "# Realizando a predição na base de validação\n",
        "y_pred_test = melhor_arvore.predict(X_test_3mv)\n",
        "\n",
        "# Calculando a acurácia no conjunto de validação\n",
        "test_accuracy = accuracy_score(y_test, y_pred_test)\n",
        "\n",
        "print(f'Acurácia da melhor árvore na base de Teste: {round(test_accuracy, 5)*100:.2f}')"
      ]
    },
    {
      "cell_type": "code",
      "execution_count": 26,
      "metadata": {
        "colab": {
          "base_uri": "https://localhost:8080/",
          "height": 472
        },
        "id": "D9O0KopqFzQl",
        "outputId": "9d96fd0a-b3ef-434e-db3c-fdfee5f773a9"
      },
      "outputs": [
        {
          "output_type": "display_data",
          "data": {
            "text/plain": [
              "<Figure size 640x480 with 2 Axes>"
            ],
            "image/png": "[encoded data removed]"
          },
          "metadata": {}
        }
      ],
      "source": [
        "# Realizando a predição na base de teste\n",
        "y_pred_test = melhor_arvore.predict(X_test_3mv)\n",
        "\n",
        "# Calculando a matriz de confusão\n",
        "cm = confusion_matrix(y_test, y_pred_test)\n",
        "\n",
        "# Criando um heatmap com seaborn\n",
        "sns.heatmap(cm, annot=True, fmt='d', cmap='Blues', xticklabels=[0, 1], yticklabels=[0, 1])\n",
        "\n",
        "# Adicionando rótulos e exibindo o gráfico\n",
        "plt.title(\"Matriz de Confusão no Conjunto de Teste\")\n",
        "plt.xlabel(\"Previsto\")\n",
        "plt.ylabel(\"Verdadeiro\")\n",
        "plt.show()\n"
      ]
    }
  ],
  "metadata": {
    "kernelspec": {
      "display_name": "Python 3 (ipykernel)",
      "language": "python",
      "name": "python3"
    },
    "language_info": {
      "codemirror_mode": {
        "name": "ipython",
        "version": 3
      },
      "file_extension": ".py",
      "mimetype": "text/x-python",
      "name": "python",
      "nbconvert_exporter": "python",
      "pygments_lexer": "ipython3",
      "version": "3.11.5"
    },
    "colab": {
      "provenance": []
    }
  },
  "nbformat": 4,
  "nbformat_minor": 0
}
